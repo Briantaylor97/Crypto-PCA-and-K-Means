{
 "cells": [
  {
   "cell_type": "markdown",
   "metadata": {},
   "source": [
    "# Clustering Crypto"
   ]
  },
  {
   "cell_type": "code",
   "execution_count": 122,
   "metadata": {},
   "outputs": [],
   "source": [
    "import requests\n",
    "import pandas as pd\n",
    "import matplotlib.pyplot as plt\n",
    "import hvplot.pandas\n",
    "import plotly.express as px\n",
    "from sklearn.preprocessing import StandardScaler, MinMaxScaler\n",
    "from sklearn.decomposition import PCA\n",
    "from sklearn.cluster import KMeans\n",
    "import os"
   ]
  },
  {
   "cell_type": "markdown",
   "metadata": {},
   "source": [
    "### Fetching Cryptocurrency Data"
   ]
  },
  {
   "cell_type": "code",
   "execution_count": 123,
   "metadata": {},
   "outputs": [
    {
     "data": {
      "text/html": [
       "<div>\n",
       "<style scoped>\n",
       "    .dataframe tbody tr th:only-of-type {\n",
       "        vertical-align: middle;\n",
       "    }\n",
       "\n",
       "    .dataframe tbody tr th {\n",
       "        vertical-align: top;\n",
       "    }\n",
       "\n",
       "    .dataframe thead th {\n",
       "        text-align: right;\n",
       "    }\n",
       "</style>\n",
       "<table border=\"1\" class=\"dataframe\">\n",
       "  <thead>\n",
       "    <tr style=\"text-align: right;\">\n",
       "      <th></th>\n",
       "      <th>CoinName</th>\n",
       "      <th>Algorithm</th>\n",
       "      <th>IsTrading</th>\n",
       "      <th>ProofType</th>\n",
       "      <th>TotalCoinsMined</th>\n",
       "      <th>TotalCoinSupply</th>\n",
       "    </tr>\n",
       "  </thead>\n",
       "  <tbody>\n",
       "    <tr>\n",
       "      <th>42</th>\n",
       "      <td>42 Coin</td>\n",
       "      <td>Scrypt</td>\n",
       "      <td>True</td>\n",
       "      <td>PoW/PoS</td>\n",
       "      <td>4.199995e+01</td>\n",
       "      <td>42</td>\n",
       "    </tr>\n",
       "    <tr>\n",
       "      <th>365</th>\n",
       "      <td>365Coin</td>\n",
       "      <td>X11</td>\n",
       "      <td>True</td>\n",
       "      <td>PoW/PoS</td>\n",
       "      <td>NaN</td>\n",
       "      <td>2300000000</td>\n",
       "    </tr>\n",
       "    <tr>\n",
       "      <th>404</th>\n",
       "      <td>404Coin</td>\n",
       "      <td>Scrypt</td>\n",
       "      <td>True</td>\n",
       "      <td>PoW/PoS</td>\n",
       "      <td>1.055185e+09</td>\n",
       "      <td>532000000</td>\n",
       "    </tr>\n",
       "    <tr>\n",
       "      <th>611</th>\n",
       "      <td>SixEleven</td>\n",
       "      <td>SHA-256</td>\n",
       "      <td>True</td>\n",
       "      <td>PoW</td>\n",
       "      <td>NaN</td>\n",
       "      <td>611000</td>\n",
       "    </tr>\n",
       "    <tr>\n",
       "      <th>808</th>\n",
       "      <td>808</td>\n",
       "      <td>SHA-256</td>\n",
       "      <td>True</td>\n",
       "      <td>PoW/PoS</td>\n",
       "      <td>0.000000e+00</td>\n",
       "      <td>0</td>\n",
       "    </tr>\n",
       "    <tr>\n",
       "      <th>1337</th>\n",
       "      <td>EliteCoin</td>\n",
       "      <td>X13</td>\n",
       "      <td>True</td>\n",
       "      <td>PoW/PoS</td>\n",
       "      <td>2.927942e+10</td>\n",
       "      <td>3.14159E+11</td>\n",
       "    </tr>\n",
       "    <tr>\n",
       "      <th>2015</th>\n",
       "      <td>2015 coin</td>\n",
       "      <td>X11</td>\n",
       "      <td>True</td>\n",
       "      <td>PoW/PoS</td>\n",
       "      <td>NaN</td>\n",
       "      <td>0</td>\n",
       "    </tr>\n",
       "    <tr>\n",
       "      <th>BTC</th>\n",
       "      <td>Bitcoin</td>\n",
       "      <td>SHA-256</td>\n",
       "      <td>True</td>\n",
       "      <td>PoW</td>\n",
       "      <td>1.792718e+07</td>\n",
       "      <td>21000000</td>\n",
       "    </tr>\n",
       "    <tr>\n",
       "      <th>ETH</th>\n",
       "      <td>Ethereum</td>\n",
       "      <td>Ethash</td>\n",
       "      <td>True</td>\n",
       "      <td>PoW</td>\n",
       "      <td>1.076842e+08</td>\n",
       "      <td>0</td>\n",
       "    </tr>\n",
       "    <tr>\n",
       "      <th>LTC</th>\n",
       "      <td>Litecoin</td>\n",
       "      <td>Scrypt</td>\n",
       "      <td>True</td>\n",
       "      <td>PoW</td>\n",
       "      <td>6.303924e+07</td>\n",
       "      <td>84000000</td>\n",
       "    </tr>\n",
       "  </tbody>\n",
       "</table>\n",
       "</div>"
      ],
      "text/plain": [
       "       CoinName Algorithm  IsTrading ProofType  TotalCoinsMined  \\\n",
       "42      42 Coin    Scrypt       True   PoW/PoS     4.199995e+01   \n",
       "365     365Coin       X11       True   PoW/PoS              NaN   \n",
       "404     404Coin    Scrypt       True   PoW/PoS     1.055185e+09   \n",
       "611   SixEleven   SHA-256       True       PoW              NaN   \n",
       "808         808   SHA-256       True   PoW/PoS     0.000000e+00   \n",
       "1337  EliteCoin       X13       True   PoW/PoS     2.927942e+10   \n",
       "2015  2015 coin       X11       True   PoW/PoS              NaN   \n",
       "BTC     Bitcoin   SHA-256       True       PoW     1.792718e+07   \n",
       "ETH    Ethereum    Ethash       True       PoW     1.076842e+08   \n",
       "LTC    Litecoin    Scrypt       True       PoW     6.303924e+07   \n",
       "\n",
       "     TotalCoinSupply  \n",
       "42                42  \n",
       "365       2300000000  \n",
       "404        532000000  \n",
       "611           611000  \n",
       "808                0  \n",
       "1337     3.14159E+11  \n",
       "2015               0  \n",
       "BTC         21000000  \n",
       "ETH                0  \n",
       "LTC         84000000  "
      ]
     },
     "execution_count": 123,
     "metadata": {},
     "output_type": "execute_result"
    }
   ],
   "source": [
    "\n",
    "url = f\"https://min-api.cryptocompare.com/data/all/coinlist\"\n",
    "crypto_df= pd.read_csv(\"crypto_data.csv\", index_col=[0])\n",
    "crypto_df.head(10)"
   ]
  },
  {
   "cell_type": "markdown",
   "metadata": {},
   "source": [
    "### Data Preprocessing"
   ]
  },
  {
   "cell_type": "code",
   "execution_count": 124,
   "metadata": {},
   "outputs": [],
   "source": [
    "# Keep only cryptocurrencies that are on trading\n",
    "crypto_df= crypto_df[crypto_df[\"IsTrading\"]== True]\n"
   ]
  },
  {
   "cell_type": "code",
   "execution_count": 125,
   "metadata": {},
   "outputs": [],
   "source": [
    "# Keep only cryptocurrencies with a working algorithm\n",
    "crypto_df= crypto_df[crypto_df['Algorithm']!= 'N/A']\n"
   ]
  },
  {
   "cell_type": "code",
   "execution_count": 126,
   "metadata": {},
   "outputs": [],
   "source": [
    "# Remove the \"IsTrading\" column\n",
    "crypto_df.drop(columns=['IsTrading'], inplace=True)\n"
   ]
  },
  {
   "cell_type": "code",
   "execution_count": 127,
   "metadata": {},
   "outputs": [
    {
     "data": {
      "text/html": [
       "<div>\n",
       "<style scoped>\n",
       "    .dataframe tbody tr th:only-of-type {\n",
       "        vertical-align: middle;\n",
       "    }\n",
       "\n",
       "    .dataframe tbody tr th {\n",
       "        vertical-align: top;\n",
       "    }\n",
       "\n",
       "    .dataframe thead th {\n",
       "        text-align: right;\n",
       "    }\n",
       "</style>\n",
       "<table border=\"1\" class=\"dataframe\">\n",
       "  <thead>\n",
       "    <tr style=\"text-align: right;\">\n",
       "      <th></th>\n",
       "      <th>CoinName</th>\n",
       "      <th>Algorithm</th>\n",
       "      <th>ProofType</th>\n",
       "      <th>TotalCoinsMined</th>\n",
       "      <th>TotalCoinSupply</th>\n",
       "    </tr>\n",
       "  </thead>\n",
       "  <tbody>\n",
       "    <tr>\n",
       "      <th>42</th>\n",
       "      <td>42 Coin</td>\n",
       "      <td>Scrypt</td>\n",
       "      <td>PoW/PoS</td>\n",
       "      <td>4.199995e+01</td>\n",
       "      <td>42</td>\n",
       "    </tr>\n",
       "    <tr>\n",
       "      <th>365</th>\n",
       "      <td>365Coin</td>\n",
       "      <td>X11</td>\n",
       "      <td>PoW/PoS</td>\n",
       "      <td>NaN</td>\n",
       "      <td>2300000000</td>\n",
       "    </tr>\n",
       "    <tr>\n",
       "      <th>404</th>\n",
       "      <td>404Coin</td>\n",
       "      <td>Scrypt</td>\n",
       "      <td>PoW/PoS</td>\n",
       "      <td>1.055185e+09</td>\n",
       "      <td>532000000</td>\n",
       "    </tr>\n",
       "    <tr>\n",
       "      <th>611</th>\n",
       "      <td>SixEleven</td>\n",
       "      <td>SHA-256</td>\n",
       "      <td>PoW</td>\n",
       "      <td>NaN</td>\n",
       "      <td>611000</td>\n",
       "    </tr>\n",
       "    <tr>\n",
       "      <th>808</th>\n",
       "      <td>808</td>\n",
       "      <td>SHA-256</td>\n",
       "      <td>PoW/PoS</td>\n",
       "      <td>0.000000e+00</td>\n",
       "      <td>0</td>\n",
       "    </tr>\n",
       "    <tr>\n",
       "      <th>1337</th>\n",
       "      <td>EliteCoin</td>\n",
       "      <td>X13</td>\n",
       "      <td>PoW/PoS</td>\n",
       "      <td>2.927942e+10</td>\n",
       "      <td>3.14159E+11</td>\n",
       "    </tr>\n",
       "    <tr>\n",
       "      <th>2015</th>\n",
       "      <td>2015 coin</td>\n",
       "      <td>X11</td>\n",
       "      <td>PoW/PoS</td>\n",
       "      <td>NaN</td>\n",
       "      <td>0</td>\n",
       "    </tr>\n",
       "    <tr>\n",
       "      <th>BTC</th>\n",
       "      <td>Bitcoin</td>\n",
       "      <td>SHA-256</td>\n",
       "      <td>PoW</td>\n",
       "      <td>1.792718e+07</td>\n",
       "      <td>21000000</td>\n",
       "    </tr>\n",
       "    <tr>\n",
       "      <th>ETH</th>\n",
       "      <td>Ethereum</td>\n",
       "      <td>Ethash</td>\n",
       "      <td>PoW</td>\n",
       "      <td>1.076842e+08</td>\n",
       "      <td>0</td>\n",
       "    </tr>\n",
       "    <tr>\n",
       "      <th>LTC</th>\n",
       "      <td>Litecoin</td>\n",
       "      <td>Scrypt</td>\n",
       "      <td>PoW</td>\n",
       "      <td>6.303924e+07</td>\n",
       "      <td>84000000</td>\n",
       "    </tr>\n",
       "  </tbody>\n",
       "</table>\n",
       "</div>"
      ],
      "text/plain": [
       "       CoinName Algorithm ProofType  TotalCoinsMined TotalCoinSupply\n",
       "42      42 Coin    Scrypt   PoW/PoS     4.199995e+01              42\n",
       "365     365Coin       X11   PoW/PoS              NaN      2300000000\n",
       "404     404Coin    Scrypt   PoW/PoS     1.055185e+09       532000000\n",
       "611   SixEleven   SHA-256       PoW              NaN          611000\n",
       "808         808   SHA-256   PoW/PoS     0.000000e+00               0\n",
       "1337  EliteCoin       X13   PoW/PoS     2.927942e+10     3.14159E+11\n",
       "2015  2015 coin       X11   PoW/PoS              NaN               0\n",
       "BTC     Bitcoin   SHA-256       PoW     1.792718e+07        21000000\n",
       "ETH    Ethereum    Ethash       PoW     1.076842e+08               0\n",
       "LTC    Litecoin    Scrypt       PoW     6.303924e+07        84000000"
      ]
     },
     "execution_count": 127,
     "metadata": {},
     "output_type": "execute_result"
    }
   ],
   "source": [
    "crypto_df.head(10)"
   ]
  },
  {
   "cell_type": "code",
   "execution_count": 128,
   "metadata": {},
   "outputs": [],
   "source": [
    "# Removing rows with at least 1 null value\n",
    "crypto_df= crypto_df.dropna()\n"
   ]
  },
  {
   "cell_type": "code",
   "execution_count": 129,
   "metadata": {},
   "outputs": [],
   "source": [
    "# Removing rows with cryptocurrencies without coins mined\n",
    "crypto_df= crypto_df[crypto_df[\"TotalCoinsMined\"]> 0]\n"
   ]
  },
  {
   "cell_type": "code",
   "execution_count": 130,
   "metadata": {},
   "outputs": [],
   "source": [
    "# Dropping rows where there are 'N/A' text values\n",
    "crypto_df= crypto_df[crypto_df!='N/A']\n"
   ]
  },
  {
   "cell_type": "code",
   "execution_count": 131,
   "metadata": {},
   "outputs": [],
   "source": [
    "# Fetching the cryptocurrencies names prior to drop them from crypto_df\n",
    "coin_name= crypto_df['CoinName']\n"
   ]
  },
  {
   "cell_type": "code",
   "execution_count": 132,
   "metadata": {},
   "outputs": [],
   "source": [
    "# Removig the cryptocurrency name since it's not going to be used on the clustering algorithm\n",
    "crypto_df.drop(columns='CoinName', inplace=True)\n"
   ]
  },
  {
   "cell_type": "code",
   "execution_count": 133,
   "metadata": {
    "collapsed": true,
    "jupyter": {
     "outputs_hidden": true
    }
   },
   "outputs": [
    {
     "data": {
      "text/html": [
       "<div>\n",
       "<style scoped>\n",
       "    .dataframe tbody tr th:only-of-type {\n",
       "        vertical-align: middle;\n",
       "    }\n",
       "\n",
       "    .dataframe tbody tr th {\n",
       "        vertical-align: top;\n",
       "    }\n",
       "\n",
       "    .dataframe thead th {\n",
       "        text-align: right;\n",
       "    }\n",
       "</style>\n",
       "<table border=\"1\" class=\"dataframe\">\n",
       "  <thead>\n",
       "    <tr style=\"text-align: right;\">\n",
       "      <th></th>\n",
       "      <th>Algorithm</th>\n",
       "      <th>ProofType</th>\n",
       "      <th>TotalCoinsMined</th>\n",
       "      <th>TotalCoinSupply</th>\n",
       "    </tr>\n",
       "  </thead>\n",
       "  <tbody>\n",
       "    <tr>\n",
       "      <th>42</th>\n",
       "      <td>Scrypt</td>\n",
       "      <td>PoW/PoS</td>\n",
       "      <td>4.199995e+01</td>\n",
       "      <td>42</td>\n",
       "    </tr>\n",
       "    <tr>\n",
       "      <th>404</th>\n",
       "      <td>Scrypt</td>\n",
       "      <td>PoW/PoS</td>\n",
       "      <td>1.055185e+09</td>\n",
       "      <td>532000000</td>\n",
       "    </tr>\n",
       "    <tr>\n",
       "      <th>1337</th>\n",
       "      <td>X13</td>\n",
       "      <td>PoW/PoS</td>\n",
       "      <td>2.927942e+10</td>\n",
       "      <td>3.14159E+11</td>\n",
       "    </tr>\n",
       "    <tr>\n",
       "      <th>BTC</th>\n",
       "      <td>SHA-256</td>\n",
       "      <td>PoW</td>\n",
       "      <td>1.792718e+07</td>\n",
       "      <td>21000000</td>\n",
       "    </tr>\n",
       "    <tr>\n",
       "      <th>ETH</th>\n",
       "      <td>Ethash</td>\n",
       "      <td>PoW</td>\n",
       "      <td>1.076842e+08</td>\n",
       "      <td>0</td>\n",
       "    </tr>\n",
       "    <tr>\n",
       "      <th>LTC</th>\n",
       "      <td>Scrypt</td>\n",
       "      <td>PoW</td>\n",
       "      <td>6.303924e+07</td>\n",
       "      <td>84000000</td>\n",
       "    </tr>\n",
       "    <tr>\n",
       "      <th>DASH</th>\n",
       "      <td>X11</td>\n",
       "      <td>PoW/PoS</td>\n",
       "      <td>9.031294e+06</td>\n",
       "      <td>22000000</td>\n",
       "    </tr>\n",
       "    <tr>\n",
       "      <th>XMR</th>\n",
       "      <td>CryptoNight-V7</td>\n",
       "      <td>PoW</td>\n",
       "      <td>1.720114e+07</td>\n",
       "      <td>0</td>\n",
       "    </tr>\n",
       "    <tr>\n",
       "      <th>ETC</th>\n",
       "      <td>Ethash</td>\n",
       "      <td>PoW</td>\n",
       "      <td>1.133597e+08</td>\n",
       "      <td>210000000</td>\n",
       "    </tr>\n",
       "    <tr>\n",
       "      <th>ZEC</th>\n",
       "      <td>Equihash</td>\n",
       "      <td>PoW</td>\n",
       "      <td>7.383056e+06</td>\n",
       "      <td>21000000</td>\n",
       "    </tr>\n",
       "    <tr>\n",
       "      <th>BTS</th>\n",
       "      <td>SHA-512</td>\n",
       "      <td>PoS</td>\n",
       "      <td>2.741570e+09</td>\n",
       "      <td>3600570502</td>\n",
       "    </tr>\n",
       "    <tr>\n",
       "      <th>DGB</th>\n",
       "      <td>Multiple</td>\n",
       "      <td>PoW</td>\n",
       "      <td>1.140622e+10</td>\n",
       "      <td>21000000000</td>\n",
       "    </tr>\n",
       "    <tr>\n",
       "      <th>BTCD</th>\n",
       "      <td>SHA-256</td>\n",
       "      <td>PoW/PoS</td>\n",
       "      <td>1.288862e+06</td>\n",
       "      <td>22000000</td>\n",
       "    </tr>\n",
       "    <tr>\n",
       "      <th>XPY</th>\n",
       "      <td>SHA-256</td>\n",
       "      <td>PoS</td>\n",
       "      <td>1.199533e+07</td>\n",
       "      <td>12500000</td>\n",
       "    </tr>\n",
       "    <tr>\n",
       "      <th>PRC</th>\n",
       "      <td>Scrypt</td>\n",
       "      <td>PoW</td>\n",
       "      <td>5.768310e+06</td>\n",
       "      <td>21000000</td>\n",
       "    </tr>\n",
       "    <tr>\n",
       "      <th>KOBO</th>\n",
       "      <td>X15</td>\n",
       "      <td>PoW/PoS</td>\n",
       "      <td>2.554254e+07</td>\n",
       "      <td>350000000</td>\n",
       "    </tr>\n",
       "    <tr>\n",
       "      <th>SPR</th>\n",
       "      <td>X11</td>\n",
       "      <td>PoW</td>\n",
       "      <td>1.114973e+07</td>\n",
       "      <td>20000000</td>\n",
       "    </tr>\n",
       "    <tr>\n",
       "      <th>ARG</th>\n",
       "      <td>Scrypt</td>\n",
       "      <td>PoW</td>\n",
       "      <td>1.220580e+07</td>\n",
       "      <td>64000000</td>\n",
       "    </tr>\n",
       "    <tr>\n",
       "      <th>AUR</th>\n",
       "      <td>Scrypt</td>\n",
       "      <td>PoW/PoS</td>\n",
       "      <td>1.813510e+07</td>\n",
       "      <td>16768584</td>\n",
       "    </tr>\n",
       "    <tr>\n",
       "      <th>BLU</th>\n",
       "      <td>Scrypt</td>\n",
       "      <td>PoW/PoS</td>\n",
       "      <td>6.354239e+08</td>\n",
       "      <td>0</td>\n",
       "    </tr>\n",
       "    <tr>\n",
       "      <th>XMY</th>\n",
       "      <td>Multiple</td>\n",
       "      <td>PoW</td>\n",
       "      <td>1.688254e+09</td>\n",
       "      <td>2000000000</td>\n",
       "    </tr>\n",
       "    <tr>\n",
       "      <th>MOON</th>\n",
       "      <td>Scrypt</td>\n",
       "      <td>PoW</td>\n",
       "      <td>8.800000e+01</td>\n",
       "      <td>3.84E+11</td>\n",
       "    </tr>\n",
       "    <tr>\n",
       "      <th>ZET</th>\n",
       "      <td>SHA-256</td>\n",
       "      <td>PoW</td>\n",
       "      <td>1.702044e+08</td>\n",
       "      <td>169795588</td>\n",
       "    </tr>\n",
       "    <tr>\n",
       "      <th>SXC</th>\n",
       "      <td>Scrypt</td>\n",
       "      <td>PoW</td>\n",
       "      <td>1.289410e+08</td>\n",
       "      <td>250000000</td>\n",
       "    </tr>\n",
       "    <tr>\n",
       "      <th>QTL</th>\n",
       "      <td>Scrypt</td>\n",
       "      <td>PoW</td>\n",
       "      <td>7.357795e+06</td>\n",
       "      <td>100000000</td>\n",
       "    </tr>\n",
       "    <tr>\n",
       "      <th>ENRG</th>\n",
       "      <td>Scrypt</td>\n",
       "      <td>PoW/PoS</td>\n",
       "      <td>1.230628e+08</td>\n",
       "      <td>0</td>\n",
       "    </tr>\n",
       "    <tr>\n",
       "      <th>QRK</th>\n",
       "      <td>Quark</td>\n",
       "      <td>PoW</td>\n",
       "      <td>2.595572e+08</td>\n",
       "      <td>247000000</td>\n",
       "    </tr>\n",
       "    <tr>\n",
       "      <th>RIC</th>\n",
       "      <td>Groestl</td>\n",
       "      <td>PoW</td>\n",
       "      <td>4.954859e+07</td>\n",
       "      <td>84000000</td>\n",
       "    </tr>\n",
       "    <tr>\n",
       "      <th>DGC</th>\n",
       "      <td>Scrypt</td>\n",
       "      <td>PoW</td>\n",
       "      <td>3.344299e+07</td>\n",
       "      <td>48166000</td>\n",
       "    </tr>\n",
       "    <tr>\n",
       "      <th>BTB</th>\n",
       "      <td>Scrypt</td>\n",
       "      <td>PoW/PoS</td>\n",
       "      <td>4.257948e+04</td>\n",
       "      <td>500000</td>\n",
       "    </tr>\n",
       "    <tr>\n",
       "      <th>...</th>\n",
       "      <td>...</td>\n",
       "      <td>...</td>\n",
       "      <td>...</td>\n",
       "      <td>...</td>\n",
       "    </tr>\n",
       "    <tr>\n",
       "      <th>SMLY</th>\n",
       "      <td>Scrypt</td>\n",
       "      <td>PoW</td>\n",
       "      <td>2.958399e+10</td>\n",
       "      <td>50000000000</td>\n",
       "    </tr>\n",
       "    <tr>\n",
       "      <th>MI</th>\n",
       "      <td>Scrypt</td>\n",
       "      <td>PoW/PoS</td>\n",
       "      <td>4.043165e+08</td>\n",
       "      <td>400000000</td>\n",
       "    </tr>\n",
       "    <tr>\n",
       "      <th>GRS</th>\n",
       "      <td>Groestl</td>\n",
       "      <td>PoW</td>\n",
       "      <td>7.329820e+07</td>\n",
       "      <td>105000000</td>\n",
       "    </tr>\n",
       "    <tr>\n",
       "      <th>CPC</th>\n",
       "      <td>X11</td>\n",
       "      <td>PoW/PoS</td>\n",
       "      <td>2.013643e+08</td>\n",
       "      <td>208000000</td>\n",
       "    </tr>\n",
       "    <tr>\n",
       "      <th>CLUB</th>\n",
       "      <td>Scrypt</td>\n",
       "      <td>PoW/PoS</td>\n",
       "      <td>1.036219e+08</td>\n",
       "      <td>160000000</td>\n",
       "    </tr>\n",
       "    <tr>\n",
       "      <th>RADS</th>\n",
       "      <td>PoS</td>\n",
       "      <td>PoS</td>\n",
       "      <td>3.821246e+06</td>\n",
       "      <td>9000000</td>\n",
       "    </tr>\n",
       "    <tr>\n",
       "      <th>BTA</th>\n",
       "      <td>Scrypt</td>\n",
       "      <td>PoW</td>\n",
       "      <td>5.052556e+06</td>\n",
       "      <td>5000000</td>\n",
       "    </tr>\n",
       "    <tr>\n",
       "      <th>PAK</th>\n",
       "      <td>Scrypt</td>\n",
       "      <td>PoW</td>\n",
       "      <td>6.968446e+07</td>\n",
       "      <td>182000000</td>\n",
       "    </tr>\n",
       "    <tr>\n",
       "      <th>CRB</th>\n",
       "      <td>X11</td>\n",
       "      <td>Proof of Trust</td>\n",
       "      <td>1.690102e+07</td>\n",
       "      <td>16504333</td>\n",
       "    </tr>\n",
       "    <tr>\n",
       "      <th>OK</th>\n",
       "      <td>SHA-256</td>\n",
       "      <td>PoW/PoS</td>\n",
       "      <td>7.467606e+07</td>\n",
       "      <td>105000000</td>\n",
       "    </tr>\n",
       "    <tr>\n",
       "      <th>LSK</th>\n",
       "      <td>DPoS</td>\n",
       "      <td>DPoS</td>\n",
       "      <td>1.200121e+08</td>\n",
       "      <td>159918400</td>\n",
       "    </tr>\n",
       "    <tr>\n",
       "      <th>XHI</th>\n",
       "      <td>Scrypt</td>\n",
       "      <td>PoS</td>\n",
       "      <td>1.000024e+10</td>\n",
       "      <td>10008835635</td>\n",
       "    </tr>\n",
       "    <tr>\n",
       "      <th>XWC</th>\n",
       "      <td>Scrypt</td>\n",
       "      <td>PoW/PoS</td>\n",
       "      <td>2.520056e+08</td>\n",
       "      <td>300000000</td>\n",
       "    </tr>\n",
       "    <tr>\n",
       "      <th>FSC</th>\n",
       "      <td>NeoScrypt</td>\n",
       "      <td>PoW/PoS</td>\n",
       "      <td>1.120385e+06</td>\n",
       "      <td>60168145</td>\n",
       "    </tr>\n",
       "    <tr>\n",
       "      <th>J</th>\n",
       "      <td>Multiple</td>\n",
       "      <td>PoW</td>\n",
       "      <td>3.332922e+06</td>\n",
       "      <td>2800000</td>\n",
       "    </tr>\n",
       "    <tr>\n",
       "      <th>TRI</th>\n",
       "      <td>X13</td>\n",
       "      <td>PoW/PoS</td>\n",
       "      <td>1.407778e+05</td>\n",
       "      <td>120000</td>\n",
       "    </tr>\n",
       "    <tr>\n",
       "      <th>VOLLAR</th>\n",
       "      <td>Equihash+Scrypt</td>\n",
       "      <td>PoW</td>\n",
       "      <td>1.000000e+08</td>\n",
       "      <td>2100000000</td>\n",
       "    </tr>\n",
       "    <tr>\n",
       "      <th>EOS</th>\n",
       "      <td>DPoS</td>\n",
       "      <td>DPoS</td>\n",
       "      <td>1.020545e+09</td>\n",
       "      <td>0</td>\n",
       "    </tr>\n",
       "    <tr>\n",
       "      <th>RCC</th>\n",
       "      <td>Ethash</td>\n",
       "      <td>PoW</td>\n",
       "      <td>2.448794e+07</td>\n",
       "      <td>24487944</td>\n",
       "    </tr>\n",
       "    <tr>\n",
       "      <th>OXY</th>\n",
       "      <td>DPoS</td>\n",
       "      <td>DPoS</td>\n",
       "      <td>1.122382e+09</td>\n",
       "      <td>0</td>\n",
       "    </tr>\n",
       "    <tr>\n",
       "      <th>TCH</th>\n",
       "      <td>SHA-256</td>\n",
       "      <td>PoS</td>\n",
       "      <td>1.000000e+09</td>\n",
       "      <td>1000000000</td>\n",
       "    </tr>\n",
       "    <tr>\n",
       "      <th>WAVES</th>\n",
       "      <td>Leased POS</td>\n",
       "      <td>LPoS</td>\n",
       "      <td>1.000000e+08</td>\n",
       "      <td>100000000</td>\n",
       "    </tr>\n",
       "    <tr>\n",
       "      <th>PART</th>\n",
       "      <td>PoS</td>\n",
       "      <td>PoS</td>\n",
       "      <td>9.283138e+06</td>\n",
       "      <td>8634140</td>\n",
       "    </tr>\n",
       "    <tr>\n",
       "      <th>BTT</th>\n",
       "      <td>TRC10</td>\n",
       "      <td>DPoS</td>\n",
       "      <td>9.899890e+11</td>\n",
       "      <td>9.9E+11</td>\n",
       "    </tr>\n",
       "    <tr>\n",
       "      <th>NXT</th>\n",
       "      <td>PoS</td>\n",
       "      <td>PoS/LPoS</td>\n",
       "      <td>1.000000e+09</td>\n",
       "      <td>1000000000</td>\n",
       "    </tr>\n",
       "    <tr>\n",
       "      <th>ZEPH</th>\n",
       "      <td>SHA-256</td>\n",
       "      <td>DPoS</td>\n",
       "      <td>2.000000e+09</td>\n",
       "      <td>2000000000</td>\n",
       "    </tr>\n",
       "    <tr>\n",
       "      <th>GAP</th>\n",
       "      <td>Scrypt</td>\n",
       "      <td>PoW/PoS</td>\n",
       "      <td>1.493105e+07</td>\n",
       "      <td>250000000</td>\n",
       "    </tr>\n",
       "    <tr>\n",
       "      <th>BDX</th>\n",
       "      <td>CryptoNight</td>\n",
       "      <td>PoW</td>\n",
       "      <td>9.802226e+08</td>\n",
       "      <td>1400222610</td>\n",
       "    </tr>\n",
       "    <tr>\n",
       "      <th>ZEN</th>\n",
       "      <td>Equihash</td>\n",
       "      <td>PoW</td>\n",
       "      <td>7.296538e+06</td>\n",
       "      <td>21000000</td>\n",
       "    </tr>\n",
       "    <tr>\n",
       "      <th>XBC</th>\n",
       "      <td>Scrypt</td>\n",
       "      <td>PoS</td>\n",
       "      <td>1.283270e+05</td>\n",
       "      <td>1000000</td>\n",
       "    </tr>\n",
       "  </tbody>\n",
       "</table>\n",
       "<p>532 rows × 4 columns</p>\n",
       "</div>"
      ],
      "text/plain": [
       "              Algorithm       ProofType  TotalCoinsMined TotalCoinSupply\n",
       "42               Scrypt         PoW/PoS     4.199995e+01              42\n",
       "404              Scrypt         PoW/PoS     1.055185e+09       532000000\n",
       "1337                X13         PoW/PoS     2.927942e+10     3.14159E+11\n",
       "BTC             SHA-256             PoW     1.792718e+07        21000000\n",
       "ETH              Ethash             PoW     1.076842e+08               0\n",
       "LTC              Scrypt             PoW     6.303924e+07        84000000\n",
       "DASH                X11         PoW/PoS     9.031294e+06        22000000\n",
       "XMR      CryptoNight-V7             PoW     1.720114e+07               0\n",
       "ETC              Ethash             PoW     1.133597e+08       210000000\n",
       "ZEC            Equihash             PoW     7.383056e+06        21000000\n",
       "BTS             SHA-512             PoS     2.741570e+09      3600570502\n",
       "DGB            Multiple             PoW     1.140622e+10     21000000000\n",
       "BTCD            SHA-256         PoW/PoS     1.288862e+06        22000000\n",
       "XPY             SHA-256             PoS     1.199533e+07        12500000\n",
       "PRC              Scrypt             PoW     5.768310e+06        21000000\n",
       "KOBO                X15         PoW/PoS     2.554254e+07       350000000\n",
       "SPR                 X11             PoW     1.114973e+07        20000000\n",
       "ARG              Scrypt             PoW     1.220580e+07        64000000\n",
       "AUR              Scrypt         PoW/PoS     1.813510e+07        16768584\n",
       "BLU              Scrypt         PoW/PoS     6.354239e+08               0\n",
       "XMY            Multiple             PoW     1.688254e+09      2000000000\n",
       "MOON             Scrypt             PoW     8.800000e+01        3.84E+11\n",
       "ZET             SHA-256             PoW     1.702044e+08       169795588\n",
       "SXC              Scrypt             PoW     1.289410e+08       250000000\n",
       "QTL              Scrypt             PoW     7.357795e+06       100000000\n",
       "ENRG             Scrypt         PoW/PoS     1.230628e+08               0\n",
       "QRK               Quark             PoW     2.595572e+08       247000000\n",
       "RIC             Groestl             PoW     4.954859e+07        84000000\n",
       "DGC              Scrypt             PoW     3.344299e+07        48166000\n",
       "BTB              Scrypt         PoW/PoS     4.257948e+04          500000\n",
       "...                 ...             ...              ...             ...\n",
       "SMLY             Scrypt             PoW     2.958399e+10     50000000000\n",
       "MI               Scrypt         PoW/PoS     4.043165e+08       400000000\n",
       "GRS             Groestl             PoW     7.329820e+07       105000000\n",
       "CPC                 X11         PoW/PoS     2.013643e+08       208000000\n",
       "CLUB             Scrypt         PoW/PoS     1.036219e+08       160000000\n",
       "RADS                PoS             PoS     3.821246e+06         9000000\n",
       "BTA              Scrypt             PoW     5.052556e+06         5000000\n",
       "PAK              Scrypt             PoW     6.968446e+07       182000000\n",
       "CRB                 X11  Proof of Trust     1.690102e+07        16504333\n",
       "OK              SHA-256         PoW/PoS     7.467606e+07       105000000\n",
       "LSK                DPoS            DPoS     1.200121e+08       159918400\n",
       "XHI              Scrypt             PoS     1.000024e+10     10008835635\n",
       "XWC              Scrypt         PoW/PoS     2.520056e+08       300000000\n",
       "FSC           NeoScrypt         PoW/PoS     1.120385e+06        60168145\n",
       "J              Multiple             PoW     3.332922e+06         2800000\n",
       "TRI                 X13         PoW/PoS     1.407778e+05          120000\n",
       "VOLLAR  Equihash+Scrypt             PoW     1.000000e+08      2100000000\n",
       "EOS                DPoS            DPoS     1.020545e+09               0\n",
       "RCC              Ethash             PoW     2.448794e+07        24487944\n",
       "OXY                DPoS            DPoS     1.122382e+09               0\n",
       "TCH             SHA-256             PoS     1.000000e+09      1000000000\n",
       "WAVES        Leased POS            LPoS     1.000000e+08       100000000\n",
       "PART                PoS             PoS     9.283138e+06         8634140\n",
       "BTT               TRC10            DPoS     9.899890e+11         9.9E+11\n",
       "NXT                 PoS        PoS/LPoS     1.000000e+09      1000000000\n",
       "ZEPH            SHA-256            DPoS     2.000000e+09      2000000000\n",
       "GAP              Scrypt         PoW/PoS     1.493105e+07       250000000\n",
       "BDX         CryptoNight             PoW     9.802226e+08      1400222610\n",
       "ZEN            Equihash             PoW     7.296538e+06        21000000\n",
       "XBC              Scrypt             PoS     1.283270e+05         1000000\n",
       "\n",
       "[532 rows x 4 columns]"
      ]
     },
     "execution_count": 133,
     "metadata": {},
     "output_type": "execute_result"
    }
   ],
   "source": [
    "crypto_df"
   ]
  },
  {
   "cell_type": "code",
   "execution_count": 134,
   "metadata": {},
   "outputs": [],
   "source": [
    "# Creating dummies variables for text features\n",
    "crypto_binary_encoded= pd.get_dummies(crypto_df, columns=['Algorithm', 'ProofType'])\n"
   ]
  },
  {
   "cell_type": "code",
   "execution_count": 135,
   "metadata": {},
   "outputs": [
    {
     "data": {
      "text/html": [
       "<div>\n",
       "<style scoped>\n",
       "    .dataframe tbody tr th:only-of-type {\n",
       "        vertical-align: middle;\n",
       "    }\n",
       "\n",
       "    .dataframe tbody tr th {\n",
       "        vertical-align: top;\n",
       "    }\n",
       "\n",
       "    .dataframe thead th {\n",
       "        text-align: right;\n",
       "    }\n",
       "</style>\n",
       "<table border=\"1\" class=\"dataframe\">\n",
       "  <thead>\n",
       "    <tr style=\"text-align: right;\">\n",
       "      <th></th>\n",
       "      <th>TotalCoinsMined</th>\n",
       "      <th>TotalCoinSupply</th>\n",
       "      <th>Algorithm_1GB AES Pattern Search</th>\n",
       "      <th>Algorithm_536</th>\n",
       "      <th>Algorithm_Argon2d</th>\n",
       "      <th>Algorithm_BLAKE256</th>\n",
       "      <th>Algorithm_Blake</th>\n",
       "      <th>Algorithm_Blake2S</th>\n",
       "      <th>Algorithm_Blake2b</th>\n",
       "      <th>Algorithm_C11</th>\n",
       "      <th>...</th>\n",
       "      <th>ProofType_PoW/PoS</th>\n",
       "      <th>ProofType_PoW/PoS</th>\n",
       "      <th>ProofType_PoW/PoW</th>\n",
       "      <th>ProofType_PoW/nPoS</th>\n",
       "      <th>ProofType_Pos</th>\n",
       "      <th>ProofType_Proof of Authority</th>\n",
       "      <th>ProofType_Proof of Trust</th>\n",
       "      <th>ProofType_TPoS</th>\n",
       "      <th>ProofType_Zero-Knowledge Proof</th>\n",
       "      <th>ProofType_dPoW/PoW</th>\n",
       "    </tr>\n",
       "  </thead>\n",
       "  <tbody>\n",
       "    <tr>\n",
       "      <th>42</th>\n",
       "      <td>4.199995e+01</td>\n",
       "      <td>42</td>\n",
       "      <td>0</td>\n",
       "      <td>0</td>\n",
       "      <td>0</td>\n",
       "      <td>0</td>\n",
       "      <td>0</td>\n",
       "      <td>0</td>\n",
       "      <td>0</td>\n",
       "      <td>0</td>\n",
       "      <td>...</td>\n",
       "      <td>1</td>\n",
       "      <td>0</td>\n",
       "      <td>0</td>\n",
       "      <td>0</td>\n",
       "      <td>0</td>\n",
       "      <td>0</td>\n",
       "      <td>0</td>\n",
       "      <td>0</td>\n",
       "      <td>0</td>\n",
       "      <td>0</td>\n",
       "    </tr>\n",
       "    <tr>\n",
       "      <th>404</th>\n",
       "      <td>1.055185e+09</td>\n",
       "      <td>532000000</td>\n",
       "      <td>0</td>\n",
       "      <td>0</td>\n",
       "      <td>0</td>\n",
       "      <td>0</td>\n",
       "      <td>0</td>\n",
       "      <td>0</td>\n",
       "      <td>0</td>\n",
       "      <td>0</td>\n",
       "      <td>...</td>\n",
       "      <td>1</td>\n",
       "      <td>0</td>\n",
       "      <td>0</td>\n",
       "      <td>0</td>\n",
       "      <td>0</td>\n",
       "      <td>0</td>\n",
       "      <td>0</td>\n",
       "      <td>0</td>\n",
       "      <td>0</td>\n",
       "      <td>0</td>\n",
       "    </tr>\n",
       "    <tr>\n",
       "      <th>1337</th>\n",
       "      <td>2.927942e+10</td>\n",
       "      <td>3.14159E+11</td>\n",
       "      <td>0</td>\n",
       "      <td>0</td>\n",
       "      <td>0</td>\n",
       "      <td>0</td>\n",
       "      <td>0</td>\n",
       "      <td>0</td>\n",
       "      <td>0</td>\n",
       "      <td>0</td>\n",
       "      <td>...</td>\n",
       "      <td>1</td>\n",
       "      <td>0</td>\n",
       "      <td>0</td>\n",
       "      <td>0</td>\n",
       "      <td>0</td>\n",
       "      <td>0</td>\n",
       "      <td>0</td>\n",
       "      <td>0</td>\n",
       "      <td>0</td>\n",
       "      <td>0</td>\n",
       "    </tr>\n",
       "    <tr>\n",
       "      <th>BTC</th>\n",
       "      <td>1.792718e+07</td>\n",
       "      <td>21000000</td>\n",
       "      <td>0</td>\n",
       "      <td>0</td>\n",
       "      <td>0</td>\n",
       "      <td>0</td>\n",
       "      <td>0</td>\n",
       "      <td>0</td>\n",
       "      <td>0</td>\n",
       "      <td>0</td>\n",
       "      <td>...</td>\n",
       "      <td>0</td>\n",
       "      <td>0</td>\n",
       "      <td>0</td>\n",
       "      <td>0</td>\n",
       "      <td>0</td>\n",
       "      <td>0</td>\n",
       "      <td>0</td>\n",
       "      <td>0</td>\n",
       "      <td>0</td>\n",
       "      <td>0</td>\n",
       "    </tr>\n",
       "    <tr>\n",
       "      <th>ETH</th>\n",
       "      <td>1.076842e+08</td>\n",
       "      <td>0</td>\n",
       "      <td>0</td>\n",
       "      <td>0</td>\n",
       "      <td>0</td>\n",
       "      <td>0</td>\n",
       "      <td>0</td>\n",
       "      <td>0</td>\n",
       "      <td>0</td>\n",
       "      <td>0</td>\n",
       "      <td>...</td>\n",
       "      <td>0</td>\n",
       "      <td>0</td>\n",
       "      <td>0</td>\n",
       "      <td>0</td>\n",
       "      <td>0</td>\n",
       "      <td>0</td>\n",
       "      <td>0</td>\n",
       "      <td>0</td>\n",
       "      <td>0</td>\n",
       "      <td>0</td>\n",
       "    </tr>\n",
       "    <tr>\n",
       "      <th>LTC</th>\n",
       "      <td>6.303924e+07</td>\n",
       "      <td>84000000</td>\n",
       "      <td>0</td>\n",
       "      <td>0</td>\n",
       "      <td>0</td>\n",
       "      <td>0</td>\n",
       "      <td>0</td>\n",
       "      <td>0</td>\n",
       "      <td>0</td>\n",
       "      <td>0</td>\n",
       "      <td>...</td>\n",
       "      <td>0</td>\n",
       "      <td>0</td>\n",
       "      <td>0</td>\n",
       "      <td>0</td>\n",
       "      <td>0</td>\n",
       "      <td>0</td>\n",
       "      <td>0</td>\n",
       "      <td>0</td>\n",
       "      <td>0</td>\n",
       "      <td>0</td>\n",
       "    </tr>\n",
       "    <tr>\n",
       "      <th>DASH</th>\n",
       "      <td>9.031294e+06</td>\n",
       "      <td>22000000</td>\n",
       "      <td>0</td>\n",
       "      <td>0</td>\n",
       "      <td>0</td>\n",
       "      <td>0</td>\n",
       "      <td>0</td>\n",
       "      <td>0</td>\n",
       "      <td>0</td>\n",
       "      <td>0</td>\n",
       "      <td>...</td>\n",
       "      <td>1</td>\n",
       "      <td>0</td>\n",
       "      <td>0</td>\n",
       "      <td>0</td>\n",
       "      <td>0</td>\n",
       "      <td>0</td>\n",
       "      <td>0</td>\n",
       "      <td>0</td>\n",
       "      <td>0</td>\n",
       "      <td>0</td>\n",
       "    </tr>\n",
       "    <tr>\n",
       "      <th>XMR</th>\n",
       "      <td>1.720114e+07</td>\n",
       "      <td>0</td>\n",
       "      <td>0</td>\n",
       "      <td>0</td>\n",
       "      <td>0</td>\n",
       "      <td>0</td>\n",
       "      <td>0</td>\n",
       "      <td>0</td>\n",
       "      <td>0</td>\n",
       "      <td>0</td>\n",
       "      <td>...</td>\n",
       "      <td>0</td>\n",
       "      <td>0</td>\n",
       "      <td>0</td>\n",
       "      <td>0</td>\n",
       "      <td>0</td>\n",
       "      <td>0</td>\n",
       "      <td>0</td>\n",
       "      <td>0</td>\n",
       "      <td>0</td>\n",
       "      <td>0</td>\n",
       "    </tr>\n",
       "    <tr>\n",
       "      <th>ETC</th>\n",
       "      <td>1.133597e+08</td>\n",
       "      <td>210000000</td>\n",
       "      <td>0</td>\n",
       "      <td>0</td>\n",
       "      <td>0</td>\n",
       "      <td>0</td>\n",
       "      <td>0</td>\n",
       "      <td>0</td>\n",
       "      <td>0</td>\n",
       "      <td>0</td>\n",
       "      <td>...</td>\n",
       "      <td>0</td>\n",
       "      <td>0</td>\n",
       "      <td>0</td>\n",
       "      <td>0</td>\n",
       "      <td>0</td>\n",
       "      <td>0</td>\n",
       "      <td>0</td>\n",
       "      <td>0</td>\n",
       "      <td>0</td>\n",
       "      <td>0</td>\n",
       "    </tr>\n",
       "    <tr>\n",
       "      <th>ZEC</th>\n",
       "      <td>7.383056e+06</td>\n",
       "      <td>21000000</td>\n",
       "      <td>0</td>\n",
       "      <td>0</td>\n",
       "      <td>0</td>\n",
       "      <td>0</td>\n",
       "      <td>0</td>\n",
       "      <td>0</td>\n",
       "      <td>0</td>\n",
       "      <td>0</td>\n",
       "      <td>...</td>\n",
       "      <td>0</td>\n",
       "      <td>0</td>\n",
       "      <td>0</td>\n",
       "      <td>0</td>\n",
       "      <td>0</td>\n",
       "      <td>0</td>\n",
       "      <td>0</td>\n",
       "      <td>0</td>\n",
       "      <td>0</td>\n",
       "      <td>0</td>\n",
       "    </tr>\n",
       "  </tbody>\n",
       "</table>\n",
       "<p>10 rows × 98 columns</p>\n",
       "</div>"
      ],
      "text/plain": [
       "      TotalCoinsMined TotalCoinSupply  Algorithm_1GB AES Pattern Search  \\\n",
       "42       4.199995e+01              42                                 0   \n",
       "404      1.055185e+09       532000000                                 0   \n",
       "1337     2.927942e+10     3.14159E+11                                 0   \n",
       "BTC      1.792718e+07        21000000                                 0   \n",
       "ETH      1.076842e+08               0                                 0   \n",
       "LTC      6.303924e+07        84000000                                 0   \n",
       "DASH     9.031294e+06        22000000                                 0   \n",
       "XMR      1.720114e+07               0                                 0   \n",
       "ETC      1.133597e+08       210000000                                 0   \n",
       "ZEC      7.383056e+06        21000000                                 0   \n",
       "\n",
       "      Algorithm_536  Algorithm_Argon2d  Algorithm_BLAKE256  Algorithm_Blake  \\\n",
       "42                0                  0                   0                0   \n",
       "404               0                  0                   0                0   \n",
       "1337              0                  0                   0                0   \n",
       "BTC               0                  0                   0                0   \n",
       "ETH               0                  0                   0                0   \n",
       "LTC               0                  0                   0                0   \n",
       "DASH              0                  0                   0                0   \n",
       "XMR               0                  0                   0                0   \n",
       "ETC               0                  0                   0                0   \n",
       "ZEC               0                  0                   0                0   \n",
       "\n",
       "      Algorithm_Blake2S  Algorithm_Blake2b  Algorithm_C11  ...  \\\n",
       "42                    0                  0              0  ...   \n",
       "404                   0                  0              0  ...   \n",
       "1337                  0                  0              0  ...   \n",
       "BTC                   0                  0              0  ...   \n",
       "ETH                   0                  0              0  ...   \n",
       "LTC                   0                  0              0  ...   \n",
       "DASH                  0                  0              0  ...   \n",
       "XMR                   0                  0              0  ...   \n",
       "ETC                   0                  0              0  ...   \n",
       "ZEC                   0                  0              0  ...   \n",
       "\n",
       "      ProofType_PoW/PoS  ProofType_PoW/PoS   ProofType_PoW/PoW  \\\n",
       "42                    1                   0                  0   \n",
       "404                   1                   0                  0   \n",
       "1337                  1                   0                  0   \n",
       "BTC                   0                   0                  0   \n",
       "ETH                   0                   0                  0   \n",
       "LTC                   0                   0                  0   \n",
       "DASH                  1                   0                  0   \n",
       "XMR                   0                   0                  0   \n",
       "ETC                   0                   0                  0   \n",
       "ZEC                   0                   0                  0   \n",
       "\n",
       "      ProofType_PoW/nPoS  ProofType_Pos  ProofType_Proof of Authority  \\\n",
       "42                     0              0                             0   \n",
       "404                    0              0                             0   \n",
       "1337                   0              0                             0   \n",
       "BTC                    0              0                             0   \n",
       "ETH                    0              0                             0   \n",
       "LTC                    0              0                             0   \n",
       "DASH                   0              0                             0   \n",
       "XMR                    0              0                             0   \n",
       "ETC                    0              0                             0   \n",
       "ZEC                    0              0                             0   \n",
       "\n",
       "      ProofType_Proof of Trust  ProofType_TPoS  \\\n",
       "42                           0               0   \n",
       "404                          0               0   \n",
       "1337                         0               0   \n",
       "BTC                          0               0   \n",
       "ETH                          0               0   \n",
       "LTC                          0               0   \n",
       "DASH                         0               0   \n",
       "XMR                          0               0   \n",
       "ETC                          0               0   \n",
       "ZEC                          0               0   \n",
       "\n",
       "      ProofType_Zero-Knowledge Proof  ProofType_dPoW/PoW  \n",
       "42                                 0                   0  \n",
       "404                                0                   0  \n",
       "1337                               0                   0  \n",
       "BTC                                0                   0  \n",
       "ETH                                0                   0  \n",
       "LTC                                0                   0  \n",
       "DASH                               0                   0  \n",
       "XMR                                0                   0  \n",
       "ETC                                0                   0  \n",
       "ZEC                                0                   0  \n",
       "\n",
       "[10 rows x 98 columns]"
      ]
     },
     "execution_count": 135,
     "metadata": {},
     "output_type": "execute_result"
    }
   ],
   "source": [
    "crypto_binary_encoded.head(10)"
   ]
  },
  {
   "cell_type": "code",
   "execution_count": 136,
   "metadata": {},
   "outputs": [
    {
     "data": {
      "text/plain": [
       "array([[-0.11710816, -0.15287029, -0.0433963 , ..., -0.0433963 ,\n",
       "        -0.0433963 , -0.0433963 ],\n",
       "       [-0.09396955, -0.14500899, -0.0433963 , ..., -0.0433963 ,\n",
       "        -0.0433963 , -0.0433963 ],\n",
       "       [ 0.52494542,  4.48942055, -0.0433963 , ..., -0.0433963 ,\n",
       "        -0.0433963 , -0.0433963 ],\n",
       "       ...,\n",
       "       [-0.09561336, -0.13217936, -0.0433963 , ..., -0.0433963 ,\n",
       "        -0.0433963 , -0.0433963 ],\n",
       "       [-0.11694816, -0.15255997, -0.0433963 , ..., -0.0433963 ,\n",
       "        -0.0433963 , -0.0433963 ],\n",
       "       [-0.11710535, -0.15285551, -0.0433963 , ..., -0.0433963 ,\n",
       "        -0.0433963 , -0.0433963 ]])"
      ]
     },
     "execution_count": 136,
     "metadata": {},
     "output_type": "execute_result"
    }
   ],
   "source": [
    "# Standardizing data\n",
    "crypto_scaled= StandardScaler().fit_transform(crypto_binary_encoded)\n",
    "crypto_scaled"
   ]
  },
  {
   "cell_type": "markdown",
   "metadata": {},
   "source": [
    "### Reducing Dimensions Using PCA"
   ]
  },
  {
   "cell_type": "code",
   "execution_count": 154,
   "metadata": {},
   "outputs": [
    {
     "data": {
      "text/plain": [
       "array([[-0.33649458,  1.05422438, -0.53995742],\n",
       "       [-0.31984023,  1.05429085, -0.5401735 ],\n",
       "       [ 2.30087501,  1.61282308, -0.55858689],\n",
       "       ...,\n",
       "       [ 0.33131873, -2.29037117,  0.36249337],\n",
       "       [-0.17091651, -2.12649261,  0.49783268],\n",
       "       [-0.29399686,  0.82140696, -0.21633127]])"
      ]
     },
     "execution_count": 154,
     "metadata": {},
     "output_type": "execute_result"
    }
   ],
   "source": [
    "# Using PCA to reduce dimension to 3 principal components\n",
    "# Initialize PCA model\n",
    "pca = PCA(n_components=3)\n",
    "#trnasform pca\n",
    "crypto_pca = pca.fit_transform(crypto_scaled)\n",
    "crypto_pca"
   ]
  },
  {
   "cell_type": "code",
   "execution_count": 160,
   "metadata": {},
   "outputs": [
    {
     "data": {
      "text/html": [
       "<div>\n",
       "<style scoped>\n",
       "    .dataframe tbody tr th:only-of-type {\n",
       "        vertical-align: middle;\n",
       "    }\n",
       "\n",
       "    .dataframe tbody tr th {\n",
       "        vertical-align: top;\n",
       "    }\n",
       "\n",
       "    .dataframe thead th {\n",
       "        text-align: right;\n",
       "    }\n",
       "</style>\n",
       "<table border=\"1\" class=\"dataframe\">\n",
       "  <thead>\n",
       "    <tr style=\"text-align: right;\">\n",
       "      <th></th>\n",
       "      <th>PC1</th>\n",
       "      <th>PC2</th>\n",
       "      <th>PC3</th>\n",
       "    </tr>\n",
       "  </thead>\n",
       "  <tbody>\n",
       "    <tr>\n",
       "      <th>42</th>\n",
       "      <td>-0.336495</td>\n",
       "      <td>1.054224</td>\n",
       "      <td>-0.539957</td>\n",
       "    </tr>\n",
       "    <tr>\n",
       "      <th>404</th>\n",
       "      <td>-0.319840</td>\n",
       "      <td>1.054291</td>\n",
       "      <td>-0.540173</td>\n",
       "    </tr>\n",
       "    <tr>\n",
       "      <th>1337</th>\n",
       "      <td>2.300875</td>\n",
       "      <td>1.612823</td>\n",
       "      <td>-0.558587</td>\n",
       "    </tr>\n",
       "    <tr>\n",
       "      <th>BTC</th>\n",
       "      <td>-0.142183</td>\n",
       "      <td>-1.338567</td>\n",
       "      <td>0.187152</td>\n",
       "    </tr>\n",
       "    <tr>\n",
       "      <th>ETH</th>\n",
       "      <td>-0.153233</td>\n",
       "      <td>-2.038996</td>\n",
       "      <td>0.367611</td>\n",
       "    </tr>\n",
       "    <tr>\n",
       "      <th>LTC</th>\n",
       "      <td>-0.166668</td>\n",
       "      <td>-1.090592</td>\n",
       "      <td>-0.020320</td>\n",
       "    </tr>\n",
       "    <tr>\n",
       "      <th>DASH</th>\n",
       "      <td>-0.390902</td>\n",
       "      <td>1.209735</td>\n",
       "      <td>-0.499443</td>\n",
       "    </tr>\n",
       "    <tr>\n",
       "      <th>XMR</th>\n",
       "      <td>-0.146896</td>\n",
       "      <td>-2.207955</td>\n",
       "      <td>0.338750</td>\n",
       "    </tr>\n",
       "    <tr>\n",
       "      <th>ETC</th>\n",
       "      <td>-0.151675</td>\n",
       "      <td>-2.039102</td>\n",
       "      <td>0.367602</td>\n",
       "    </tr>\n",
       "    <tr>\n",
       "      <th>ZEC</th>\n",
       "      <td>-0.170915</td>\n",
       "      <td>-2.126493</td>\n",
       "      <td>0.497833</td>\n",
       "    </tr>\n",
       "  </tbody>\n",
       "</table>\n",
       "</div>"
      ],
      "text/plain": [
       "           PC1       PC2       PC3\n",
       "42   -0.336495  1.054224 -0.539957\n",
       "404  -0.319840  1.054291 -0.540173\n",
       "1337  2.300875  1.612823 -0.558587\n",
       "BTC  -0.142183 -1.338567  0.187152\n",
       "ETH  -0.153233 -2.038996  0.367611\n",
       "LTC  -0.166668 -1.090592 -0.020320\n",
       "DASH -0.390902  1.209735 -0.499443\n",
       "XMR  -0.146896 -2.207955  0.338750\n",
       "ETC  -0.151675 -2.039102  0.367602\n",
       "ZEC  -0.170915 -2.126493  0.497833"
      ]
     },
     "execution_count": 160,
     "metadata": {},
     "output_type": "execute_result"
    }
   ],
   "source": [
    "# Creating a DataFrame with the principal components data\n",
    "pcs_df= pd.DataFrame(data=\n",
    "    crypto_pca, columns=[\"PC1\", \"PC2\", \"PC3\"], index= crypto_df.index)\n",
    "pcs_df.head(10)\n"
   ]
  },
  {
   "cell_type": "code",
   "execution_count": 161,
   "metadata": {},
   "outputs": [
    {
     "data": {
      "text/plain": [
       "array([0.02793141, 0.02140709, 0.02048791])"
      ]
     },
     "execution_count": 161,
     "metadata": {},
     "output_type": "execute_result"
    }
   ],
   "source": [
    "pca.explained_variance_ratio_"
   ]
  },
  {
   "cell_type": "markdown",
   "metadata": {},
   "source": [
    "### Clustering Crytocurrencies Using K-Means\n",
    "\n",
    "#### Finding the Best Value for `k` Using the Elbow Curve"
   ]
  },
  {
   "cell_type": "code",
   "execution_count": 162,
   "metadata": {},
   "outputs": [
    {
     "data": {
      "application/vnd.holoviews_exec.v0+json": "",
      "text/html": [
       "<div id='1500' style='display: table; margin: 0 auto;'>\n",
       "\n",
       "\n",
       "\n",
       "\n",
       "\n",
       "  <div class=\"bk-root\" id=\"1efc3450-462c-47ac-a0b2-834fff0a5960\" data-root-id=\"1500\"></div>\n",
       "</div>\n",
       "<script type=\"application/javascript\">(function(root) {\n",
       "  function embed_document(root) {\n",
       "    \n",
       "  var docs_json = {\"64904fb4-9750-4c7c-97d3-8a298a992be2\":{\"roots\":{\"references\":[{\"attributes\":{\"below\":[{\"id\":\"1509\",\"type\":\"LinearAxis\"}],\"center\":[{\"id\":\"1513\",\"type\":\"Grid\"},{\"id\":\"1518\",\"type\":\"Grid\"}],\"left\":[{\"id\":\"1514\",\"type\":\"LinearAxis\"}],\"margin\":null,\"min_border_bottom\":10,\"min_border_left\":10,\"min_border_right\":10,\"min_border_top\":10,\"plot_height\":300,\"plot_width\":700,\"renderers\":[{\"id\":\"1537\",\"type\":\"GlyphRenderer\"}],\"sizing_mode\":\"fixed\",\"title\":{\"id\":\"1501\",\"type\":\"Title\"},\"toolbar\":{\"id\":\"1524\",\"type\":\"Toolbar\"},\"x_range\":{\"id\":\"1497\",\"type\":\"Range1d\"},\"x_scale\":{\"id\":\"1505\",\"type\":\"LinearScale\"},\"y_range\":{\"id\":\"1498\",\"type\":\"Range1d\"},\"y_scale\":{\"id\":\"1507\",\"type\":\"LinearScale\"}},\"id\":\"1500\",\"subtype\":\"Figure\",\"type\":\"Plot\"},{\"attributes\":{\"overlay\":{\"id\":\"1550\",\"type\":\"BoxAnnotation\"}},\"id\":\"1522\",\"type\":\"BoxZoomTool\"},{\"attributes\":{},\"id\":\"1523\",\"type\":\"ResetTool\"},{\"attributes\":{\"bottom_units\":\"screen\",\"fill_alpha\":{\"value\":0.5},\"fill_color\":{\"value\":\"lightgrey\"},\"left_units\":\"screen\",\"level\":\"overlay\",\"line_alpha\":{\"value\":1.0},\"line_color\":{\"value\":\"black\"},\"line_dash\":[4,4],\"line_width\":{\"value\":2},\"render_mode\":\"css\",\"right_units\":\"screen\",\"top_units\":\"screen\"},\"id\":\"1550\",\"type\":\"BoxAnnotation\"},{\"attributes\":{\"active_drag\":\"auto\",\"active_inspect\":\"auto\",\"active_multi\":null,\"active_scroll\":\"auto\",\"active_tap\":\"auto\",\"tools\":[{\"id\":\"1499\",\"type\":\"HoverTool\"},{\"id\":\"1519\",\"type\":\"SaveTool\"},{\"id\":\"1520\",\"type\":\"PanTool\"},{\"id\":\"1521\",\"type\":\"WheelZoomTool\"},{\"id\":\"1522\",\"type\":\"BoxZoomTool\"},{\"id\":\"1523\",\"type\":\"ResetTool\"}]},\"id\":\"1524\",\"type\":\"Toolbar\"},{\"attributes\":{\"ticks\":[1,2,3,4,5,6,7,8,9,10]},\"id\":\"1539\",\"type\":\"FixedTicker\"},{\"attributes\":{},\"id\":\"1544\",\"type\":\"BasicTickFormatter\"},{\"attributes\":{},\"id\":\"1540\",\"type\":\"BasicTickFormatter\"},{\"attributes\":{\"text\":\"Elbow Curve\",\"text_color\":{\"value\":\"black\"},\"text_font_size\":{\"value\":\"12pt\"}},\"id\":\"1501\",\"type\":\"Title\"},{\"attributes\":{},\"id\":\"1505\",\"type\":\"LinearScale\"},{\"attributes\":{\"callback\":null,\"data\":{\"inertia\":{\"__ndarray__\":\"WDXDS/BwrEASQZzVWFijQC8LoF8xOZdApWxBY1q6gUDiB2E62o53QN8c4I7iu3FAkm4JLd1da0CU6qXidQtlQHxEqoWbaWFAy9RJFWu5XEA=\",\"dtype\":\"float64\",\"shape\":[10]},\"k\":[1,2,3,4,5,6,7,8,9,10]},\"selected\":{\"id\":\"1532\",\"type\":\"Selection\"},\"selection_policy\":{\"id\":\"1552\",\"type\":\"UnionRenderers\"}},\"id\":\"1531\",\"type\":\"ColumnDataSource\"},{\"attributes\":{},\"id\":\"1507\",\"type\":\"LinearScale\"},{\"attributes\":{\"source\":{\"id\":\"1531\",\"type\":\"ColumnDataSource\"}},\"id\":\"1538\",\"type\":\"CDSView\"},{\"attributes\":{\"axis_label\":\"k\",\"bounds\":\"auto\",\"formatter\":{\"id\":\"1540\",\"type\":\"BasicTickFormatter\"},\"major_label_orientation\":\"horizontal\",\"ticker\":{\"id\":\"1539\",\"type\":\"FixedTicker\"}},\"id\":\"1509\",\"type\":\"LinearAxis\"},{\"attributes\":{},\"id\":\"1510\",\"type\":\"BasicTicker\"},{\"attributes\":{\"line_alpha\":0.2,\"line_color\":\"#1f77b4\",\"line_width\":2,\"x\":{\"field\":\"k\"},\"y\":{\"field\":\"inertia\"}},\"id\":\"1536\",\"type\":\"Line\"},{\"attributes\":{\"grid_line_color\":null,\"ticker\":{\"id\":\"1510\",\"type\":\"BasicTicker\"}},\"id\":\"1513\",\"type\":\"Grid\"},{\"attributes\":{\"data_source\":{\"id\":\"1531\",\"type\":\"ColumnDataSource\"},\"glyph\":{\"id\":\"1534\",\"type\":\"Line\"},\"hover_glyph\":null,\"muted_glyph\":{\"id\":\"1536\",\"type\":\"Line\"},\"nonselection_glyph\":{\"id\":\"1535\",\"type\":\"Line\"},\"selection_glyph\":null,\"view\":{\"id\":\"1538\",\"type\":\"CDSView\"}},\"id\":\"1537\",\"type\":\"GlyphRenderer\"},{\"attributes\":{\"axis_label\":\"inertia\",\"bounds\":\"auto\",\"formatter\":{\"id\":\"1544\",\"type\":\"BasicTickFormatter\"},\"major_label_orientation\":\"horizontal\",\"ticker\":{\"id\":\"1515\",\"type\":\"BasicTicker\"}},\"id\":\"1514\",\"type\":\"LinearAxis\"},{\"attributes\":{\"line_color\":\"#1f77b4\",\"line_width\":2,\"x\":{\"field\":\"k\"},\"y\":{\"field\":\"inertia\"}},\"id\":\"1534\",\"type\":\"Line\"},{\"attributes\":{},\"id\":\"1515\",\"type\":\"BasicTicker\"},{\"attributes\":{\"line_alpha\":0.1,\"line_color\":\"#1f77b4\",\"line_width\":2,\"x\":{\"field\":\"k\"},\"y\":{\"field\":\"inertia\"}},\"id\":\"1535\",\"type\":\"Line\"},{\"attributes\":{\"callback\":null,\"end\":3640.4693280222527,\"reset_end\":3640.4693280222527,\"reset_start\":114.8971608372696,\"start\":114.8971608372696,\"tags\":[[[\"inertia\",\"inertia\",null]]]},\"id\":\"1498\",\"type\":\"Range1d\"},{\"attributes\":{\"dimension\":1,\"grid_line_color\":null,\"ticker\":{\"id\":\"1515\",\"type\":\"BasicTicker\"}},\"id\":\"1518\",\"type\":\"Grid\"},{\"attributes\":{},\"id\":\"1552\",\"type\":\"UnionRenderers\"},{\"attributes\":{\"callback\":null,\"end\":10.0,\"reset_end\":10.0,\"reset_start\":1.0,\"start\":1.0,\"tags\":[[[\"k\",\"k\",null]]]},\"id\":\"1497\",\"type\":\"Range1d\"},{\"attributes\":{\"callback\":null,\"renderers\":[{\"id\":\"1537\",\"type\":\"GlyphRenderer\"}],\"tags\":[\"hv_created\"],\"tooltips\":[[\"k\",\"@{k}\"],[\"inertia\",\"@{inertia}\"]]},\"id\":\"1499\",\"type\":\"HoverTool\"},{\"attributes\":{},\"id\":\"1519\",\"type\":\"SaveTool\"},{\"attributes\":{},\"id\":\"1520\",\"type\":\"PanTool\"},{\"attributes\":{},\"id\":\"1521\",\"type\":\"WheelZoomTool\"},{\"attributes\":{},\"id\":\"1532\",\"type\":\"Selection\"}],\"root_ids\":[\"1500\"]},\"title\":\"Bokeh Application\",\"version\":\"1.2.0\"}};\n",
       "  var render_items = [{\"docid\":\"64904fb4-9750-4c7c-97d3-8a298a992be2\",\"roots\":{\"1500\":\"1efc3450-462c-47ac-a0b2-834fff0a5960\"}}];\n",
       "  root.Bokeh.embed.embed_items_notebook(docs_json, render_items);\n",
       "\n",
       "  }\n",
       "  if (root.Bokeh !== undefined) {\n",
       "    embed_document(root);\n",
       "  } else {\n",
       "    var attempts = 0;\n",
       "    var timer = setInterval(function(root) {\n",
       "      if (root.Bokeh !== undefined) {\n",
       "        embed_document(root);\n",
       "        clearInterval(timer);\n",
       "      }\n",
       "      attempts++;\n",
       "      if (attempts > 100) {\n",
       "        console.log(\"Bokeh: ERROR: Unable to run BokehJS code because BokehJS library is missing\");\n",
       "        clearInterval(timer);\n",
       "      }\n",
       "    }, 10, root)\n",
       "  }\n",
       "})(window);</script>"
      ],
      "text/plain": [
       ":Curve   [k]   (inertia)"
      ]
     },
     "execution_count": 162,
     "metadata": {
      "application/vnd.holoviews_exec.v0+json": {
       "id": "1500"
      }
     },
     "output_type": "execute_result"
    }
   ],
   "source": [
    "inertia = []\n",
    "k = list(range(1, 11))\n",
    "\n",
    "# Calculate the inertia for the range ok k values\n",
    "for i in k:\n",
    "    km = KMeans(n_clusters=i, random_state=0)\n",
    "    km.fit(pcs_df)\n",
    "    inertia.append(km.inertia_)\n",
    "\n",
    "# Create the Elbow Curve using hvPlot\n",
    "elbow_data = {\"k\": k, \"inertia\": inertia}\n",
    "df_elbow = pd.DataFrame(elbow_data)\n",
    "df_elbow.hvplot.line(x=\"k\", y=\"inertia\", xticks=k, title=\"Elbow Curve\")\n"
   ]
  },
  {
   "cell_type": "markdown",
   "metadata": {},
   "source": [
    "Running K-Means with `k=<you best value for k here>`"
   ]
  },
  {
   "cell_type": "code",
   "execution_count": 168,
   "metadata": {},
   "outputs": [
    {
     "data": {
      "text/html": [
       "<div>\n",
       "<style scoped>\n",
       "    .dataframe tbody tr th:only-of-type {\n",
       "        vertical-align: middle;\n",
       "    }\n",
       "\n",
       "    .dataframe tbody tr th {\n",
       "        vertical-align: top;\n",
       "    }\n",
       "\n",
       "    .dataframe thead th {\n",
       "        text-align: right;\n",
       "    }\n",
       "</style>\n",
       "<table border=\"1\" class=\"dataframe\">\n",
       "  <thead>\n",
       "    <tr style=\"text-align: right;\">\n",
       "      <th></th>\n",
       "      <th>Algorithm</th>\n",
       "      <th>ProofType</th>\n",
       "      <th>TotalCoinsMined</th>\n",
       "      <th>TotalCoinSupply</th>\n",
       "      <th>PC1</th>\n",
       "      <th>PC2</th>\n",
       "      <th>PC3</th>\n",
       "      <th>CoinName</th>\n",
       "      <th>Class</th>\n",
       "    </tr>\n",
       "  </thead>\n",
       "  <tbody>\n",
       "    <tr>\n",
       "      <th>42</th>\n",
       "      <td>Scrypt</td>\n",
       "      <td>PoW/PoS</td>\n",
       "      <td>4.199995e+01</td>\n",
       "      <td>42</td>\n",
       "      <td>-0.336495</td>\n",
       "      <td>1.054224</td>\n",
       "      <td>-0.539957</td>\n",
       "      <td>42 Coin</td>\n",
       "      <td>0</td>\n",
       "    </tr>\n",
       "    <tr>\n",
       "      <th>404</th>\n",
       "      <td>Scrypt</td>\n",
       "      <td>PoW/PoS</td>\n",
       "      <td>1.055185e+09</td>\n",
       "      <td>532000000</td>\n",
       "      <td>-0.319840</td>\n",
       "      <td>1.054291</td>\n",
       "      <td>-0.540173</td>\n",
       "      <td>404Coin</td>\n",
       "      <td>0</td>\n",
       "    </tr>\n",
       "    <tr>\n",
       "      <th>1337</th>\n",
       "      <td>X13</td>\n",
       "      <td>PoW/PoS</td>\n",
       "      <td>2.927942e+10</td>\n",
       "      <td>3.14159E+11</td>\n",
       "      <td>2.300875</td>\n",
       "      <td>1.612823</td>\n",
       "      <td>-0.558587</td>\n",
       "      <td>EliteCoin</td>\n",
       "      <td>0</td>\n",
       "    </tr>\n",
       "    <tr>\n",
       "      <th>BTC</th>\n",
       "      <td>SHA-256</td>\n",
       "      <td>PoW</td>\n",
       "      <td>1.792718e+07</td>\n",
       "      <td>21000000</td>\n",
       "      <td>-0.142183</td>\n",
       "      <td>-1.338567</td>\n",
       "      <td>0.187152</td>\n",
       "      <td>Bitcoin</td>\n",
       "      <td>3</td>\n",
       "    </tr>\n",
       "    <tr>\n",
       "      <th>ETH</th>\n",
       "      <td>Ethash</td>\n",
       "      <td>PoW</td>\n",
       "      <td>1.076842e+08</td>\n",
       "      <td>0</td>\n",
       "      <td>-0.153233</td>\n",
       "      <td>-2.038996</td>\n",
       "      <td>0.367611</td>\n",
       "      <td>Ethereum</td>\n",
       "      <td>3</td>\n",
       "    </tr>\n",
       "    <tr>\n",
       "      <th>LTC</th>\n",
       "      <td>Scrypt</td>\n",
       "      <td>PoW</td>\n",
       "      <td>6.303924e+07</td>\n",
       "      <td>84000000</td>\n",
       "      <td>-0.166668</td>\n",
       "      <td>-1.090592</td>\n",
       "      <td>-0.020320</td>\n",
       "      <td>Litecoin</td>\n",
       "      <td>3</td>\n",
       "    </tr>\n",
       "    <tr>\n",
       "      <th>DASH</th>\n",
       "      <td>X11</td>\n",
       "      <td>PoW/PoS</td>\n",
       "      <td>9.031294e+06</td>\n",
       "      <td>22000000</td>\n",
       "      <td>-0.390902</td>\n",
       "      <td>1.209735</td>\n",
       "      <td>-0.499443</td>\n",
       "      <td>Dash</td>\n",
       "      <td>0</td>\n",
       "    </tr>\n",
       "    <tr>\n",
       "      <th>XMR</th>\n",
       "      <td>CryptoNight-V7</td>\n",
       "      <td>PoW</td>\n",
       "      <td>1.720114e+07</td>\n",
       "      <td>0</td>\n",
       "      <td>-0.146896</td>\n",
       "      <td>-2.207955</td>\n",
       "      <td>0.338750</td>\n",
       "      <td>Monero</td>\n",
       "      <td>3</td>\n",
       "    </tr>\n",
       "    <tr>\n",
       "      <th>ETC</th>\n",
       "      <td>Ethash</td>\n",
       "      <td>PoW</td>\n",
       "      <td>1.133597e+08</td>\n",
       "      <td>210000000</td>\n",
       "      <td>-0.151675</td>\n",
       "      <td>-2.039102</td>\n",
       "      <td>0.367602</td>\n",
       "      <td>Ethereum Classic</td>\n",
       "      <td>3</td>\n",
       "    </tr>\n",
       "    <tr>\n",
       "      <th>ZEC</th>\n",
       "      <td>Equihash</td>\n",
       "      <td>PoW</td>\n",
       "      <td>7.383056e+06</td>\n",
       "      <td>21000000</td>\n",
       "      <td>-0.170915</td>\n",
       "      <td>-2.126493</td>\n",
       "      <td>0.497833</td>\n",
       "      <td>ZCash</td>\n",
       "      <td>3</td>\n",
       "    </tr>\n",
       "  </tbody>\n",
       "</table>\n",
       "</div>"
      ],
      "text/plain": [
       "           Algorithm ProofType  TotalCoinsMined TotalCoinSupply       PC1  \\\n",
       "42            Scrypt   PoW/PoS     4.199995e+01              42 -0.336495   \n",
       "404           Scrypt   PoW/PoS     1.055185e+09       532000000 -0.319840   \n",
       "1337             X13   PoW/PoS     2.927942e+10     3.14159E+11  2.300875   \n",
       "BTC          SHA-256       PoW     1.792718e+07        21000000 -0.142183   \n",
       "ETH           Ethash       PoW     1.076842e+08               0 -0.153233   \n",
       "LTC           Scrypt       PoW     6.303924e+07        84000000 -0.166668   \n",
       "DASH             X11   PoW/PoS     9.031294e+06        22000000 -0.390902   \n",
       "XMR   CryptoNight-V7       PoW     1.720114e+07               0 -0.146896   \n",
       "ETC           Ethash       PoW     1.133597e+08       210000000 -0.151675   \n",
       "ZEC         Equihash       PoW     7.383056e+06        21000000 -0.170915   \n",
       "\n",
       "           PC2       PC3          CoinName  Class  \n",
       "42    1.054224 -0.539957           42 Coin      0  \n",
       "404   1.054291 -0.540173           404Coin      0  \n",
       "1337  1.612823 -0.558587         EliteCoin      0  \n",
       "BTC  -1.338567  0.187152           Bitcoin      3  \n",
       "ETH  -2.038996  0.367611          Ethereum      3  \n",
       "LTC  -1.090592 -0.020320          Litecoin      3  \n",
       "DASH  1.209735 -0.499443              Dash      0  \n",
       "XMR  -2.207955  0.338750            Monero      3  \n",
       "ETC  -2.039102  0.367602  Ethereum Classic      3  \n",
       "ZEC  -2.126493  0.497833             ZCash      3  "
      ]
     },
     "execution_count": 168,
     "metadata": {},
     "output_type": "execute_result"
    }
   ],
   "source": [
    "# Initialize the K-Means model\n",
    "model = KMeans(n_clusters=4, random_state=0)\n",
    "# Fit the model\n",
    "model.fit(pcs_df)\n",
    "# Predict clusters\n",
    "predictions = model.predict(pcs_df)\n",
    "# Creating a new DataFrame including predicted clusters and cryptocurrencies features\n",
    "clustered_df=pd.DataFrame({\n",
    "    \"Algorithm\": crypto_df.Algorithm,\n",
    "    \"ProofType\": crypto_df.ProofType,\n",
    "    \"TotalCoinsMined\": crypto_df.TotalCoinsMined,\n",
    "    \"TotalCoinSupply\": crypto_df.TotalCoinSupply,\n",
    "    \"PC1\": pcs_df[\"PC1\"],\n",
    "    \"PC2\": pcs_df[\"PC2\"],\n",
    "    \"PC3\": pcs_df[\"PC3\"],\n",
    "    \"CoinName\": coin_name,\n",
    "    \"Class\": model.labels_,\n",
    "    },index= crypto_df.index)\n",
    "clustered_df.head(10)"
   ]
  },
  {
   "cell_type": "code",
   "execution_count": null,
   "metadata": {},
   "outputs": [],
   "source": []
  },
  {
   "cell_type": "markdown",
   "metadata": {},
   "source": [
    "### Visualizing Results\n",
    "\n",
    "#### 3D-Scatter with Clusters"
   ]
  },
  {
   "cell_type": "code",
   "execution_count": 180,
   "metadata": {},
   "outputs": [
    {
     "data": {
      "application/vnd.plotly.v1+json": {
       "config": {
        "plotlyServerURL": "https://plot.ly"
       },
       "data": [
        {
         "customdata": [
          [
           "Scrypt"
          ],
          [
           "Scrypt"
          ],
          [
           "X13"
          ],
          [
           "X11"
          ],
          [
           "SHA-512"
          ],
          [
           "SHA-256"
          ],
          [
           "SHA-256"
          ],
          [
           "X15"
          ],
          [
           "Scrypt"
          ],
          [
           "Scrypt"
          ],
          [
           "Scrypt"
          ],
          [
           "Scrypt"
          ],
          [
           "Scrypt"
          ],
          [
           "Scrypt"
          ],
          [
           "Groestl"
          ],
          [
           "PoS"
          ],
          [
           "Scrypt"
          ],
          [
           "Scrypt"
          ],
          [
           "X11"
          ],
          [
           "X11"
          ],
          [
           "SHA3"
          ],
          [
           "Scrypt"
          ],
          [
           "SHA-256"
          ],
          [
           "Scrypt"
          ],
          [
           "X13"
          ],
          [
           "X13"
          ],
          [
           "NeoScrypt"
          ],
          [
           "Scrypt"
          ],
          [
           "Scrypt"
          ],
          [
           "Scrypt"
          ],
          [
           "X11"
          ],
          [
           "X11"
          ],
          [
           "Multiple"
          ],
          [
           "PHI1612"
          ],
          [
           "X11"
          ],
          [
           "Scrypt"
          ],
          [
           "Scrypt"
          ],
          [
           "Scrypt"
          ],
          [
           "X11"
          ],
          [
           "Multiple"
          ],
          [
           "X13"
          ],
          [
           "Scrypt"
          ],
          [
           "Shabal256"
          ],
          [
           "Counterparty"
          ],
          [
           "SHA-256"
          ],
          [
           "Groestl"
          ],
          [
           "Scrypt"
          ],
          [
           "X13"
          ],
          [
           "Scrypt"
          ],
          [
           "Scrypt"
          ],
          [
           "X13"
          ],
          [
           "X11"
          ],
          [
           "Scrypt"
          ],
          [
           "X11"
          ],
          [
           "SHA3"
          ],
          [
           "QUAIT"
          ],
          [
           "X11"
          ],
          [
           "Scrypt"
          ],
          [
           "X13"
          ],
          [
           "SHA-256"
          ],
          [
           "X15"
          ],
          [
           "BLAKE256"
          ],
          [
           "SHA-256"
          ],
          [
           "X11"
          ],
          [
           "SHA-256"
          ],
          [
           "NIST5"
          ],
          [
           "Scrypt"
          ],
          [
           "Scrypt"
          ],
          [
           "X11"
          ],
          [
           "Scrypt"
          ],
          [
           "SHA-256"
          ],
          [
           "Scrypt"
          ],
          [
           "PoS"
          ],
          [
           "X11"
          ],
          [
           "SHA-256"
          ],
          [
           "SHA-256"
          ],
          [
           "NIST5"
          ],
          [
           "X11"
          ],
          [
           "POS 3.0"
          ],
          [
           "Scrypt"
          ],
          [
           "Scrypt"
          ],
          [
           "Scrypt"
          ],
          [
           "X13"
          ],
          [
           "X11"
          ],
          [
           "X11"
          ],
          [
           "Scrypt"
          ],
          [
           "SHA-256"
          ],
          [
           "X11"
          ],
          [
           "Scrypt"
          ],
          [
           "Scrypt"
          ],
          [
           "Scrypt"
          ],
          [
           "Scrypt"
          ],
          [
           "SHA-256D"
          ],
          [
           "PoS"
          ],
          [
           "Scrypt"
          ],
          [
           "X11"
          ],
          [
           "PoS"
          ],
          [
           "X13"
          ],
          [
           "X14"
          ],
          [
           "PoS"
          ],
          [
           "SHA-256D"
          ],
          [
           "DPoS"
          ],
          [
           "X11"
          ],
          [
           "X13"
          ],
          [
           "X11"
          ],
          [
           "PoS"
          ],
          [
           "Scrypt"
          ],
          [
           "Scrypt"
          ],
          [
           "PoS"
          ],
          [
           "X11"
          ],
          [
           "SHA-256"
          ],
          [
           "Scrypt"
          ],
          [
           "X11"
          ],
          [
           "Scrypt"
          ],
          [
           "Scrypt"
          ],
          [
           "X11"
          ],
          [
           "Scrypt"
          ],
          [
           "Scrypt"
          ],
          [
           "Scrypt"
          ],
          [
           "Scrypt"
          ],
          [
           "Quark"
          ],
          [
           "QuBit"
          ],
          [
           "Scrypt"
          ],
          [
           "SHA-256"
          ],
          [
           "X11"
          ],
          [
           "Scrypt"
          ],
          [
           "Scrypt"
          ],
          [
           "Scrypt"
          ],
          [
           "Scrypt"
          ],
          [
           "X13"
          ],
          [
           "Scrypt"
          ],
          [
           "Scrypt"
          ],
          [
           "X11"
          ],
          [
           "Blake2S"
          ],
          [
           "X11"
          ],
          [
           "PoS"
          ],
          [
           "X11"
          ],
          [
           "PoS"
          ],
          [
           "X11"
          ],
          [
           "Scrypt"
          ],
          [
           "Scrypt"
          ],
          [
           "Scrypt"
          ],
          [
           "SHA-256"
          ],
          [
           "X11"
          ],
          [
           "Scrypt"
          ],
          [
           "PoS"
          ],
          [
           "Scrypt"
          ],
          [
           "X15"
          ],
          [
           "SHA-256"
          ],
          [
           "POS 3.0"
          ],
          [
           "536"
          ],
          [
           "NIST5"
          ],
          [
           "NIST5"
          ],
          [
           "Skein"
          ],
          [
           "X13"
          ],
          [
           "Scrypt"
          ],
          [
           "X13"
          ],
          [
           "SkunkHash v2 Raptor"
          ],
          [
           "Skein"
          ],
          [
           "X11"
          ],
          [
           "Scrypt"
          ],
          [
           "VeChainThor Authority"
          ],
          [
           "PoS"
          ],
          [
           "Scrypt"
          ],
          [
           "Scrypt"
          ],
          [
           "SHA-512"
          ],
          [
           "Ouroboros"
          ],
          [
           "X11"
          ],
          [
           "NeoScrypt"
          ],
          [
           "Scrypt"
          ],
          [
           "Lyra2REv2"
          ],
          [
           "Scrypt"
          ],
          [
           "SHA-256"
          ],
          [
           "NIST5"
          ],
          [
           "PHI1612"
          ],
          [
           "Scrypt"
          ],
          [
           "Quark"
          ],
          [
           "POS 2.0"
          ],
          [
           "Scrypt"
          ],
          [
           "SHA-256"
          ],
          [
           "X11"
          ],
          [
           "DPoS"
          ],
          [
           "NIST5"
          ],
          [
           "X13"
          ],
          [
           "Scrypt"
          ],
          [
           "NIST5"
          ],
          [
           "Quark"
          ],
          [
           "Scrypt"
          ],
          [
           "Scrypt"
          ],
          [
           "X11"
          ],
          [
           "Quark"
          ],
          [
           "Scrypt"
          ],
          [
           "Scrypt"
          ],
          [
           "X11"
          ],
          [
           "POS 3.0"
          ],
          [
           "Scrypt"
          ],
          [
           "Scrypt"
          ],
          [
           "X13"
          ],
          [
           "Proof-of-BibleHash"
          ],
          [
           "C11"
          ],
          [
           "X11"
          ],
          [
           "XEVAN"
          ],
          [
           "Scrypt"
          ],
          [
           "VBFT"
          ],
          [
           "NIST5"
          ],
          [
           "Scrypt"
          ],
          [
           "Scrypt"
          ],
          [
           "Scrypt"
          ],
          [
           "Green Protocol"
          ],
          [
           "PoS"
          ],
          [
           "Scrypt"
          ],
          [
           "Semux BFT consensus"
          ],
          [
           "Quark"
          ],
          [
           "PoS"
          ],
          [
           "X16R"
          ],
          [
           "Scrypt"
          ],
          [
           "XEVAN"
          ],
          [
           "Scrypt"
          ],
          [
           "Scrypt"
          ],
          [
           "Scrypt"
          ],
          [
           "SHA-256D"
          ],
          [
           "Scrypt"
          ],
          [
           "X15"
          ],
          [
           "Scrypt"
          ],
          [
           "Quark"
          ],
          [
           "SHA-256"
          ],
          [
           "DPoS"
          ],
          [
           "X16R"
          ],
          [
           "Quark"
          ],
          [
           "Quark"
          ],
          [
           "Scrypt"
          ],
          [
           "Lyra2REv2"
          ],
          [
           "Quark"
          ],
          [
           "Scrypt"
          ],
          [
           "X11"
          ],
          [
           "X11"
          ],
          [
           "Scrypt"
          ],
          [
           "PoS"
          ],
          [
           "Keccak"
          ],
          [
           "X11"
          ],
          [
           "Scrypt"
          ],
          [
           "SHA-512"
          ],
          [
           "XEVAN"
          ],
          [
           "XEVAN"
          ],
          [
           "X11"
          ],
          [
           "Quark"
          ],
          [
           "Scrypt"
          ],
          [
           "Quark"
          ],
          [
           "Quark"
          ],
          [
           "Scrypt"
          ],
          [
           "X11"
          ],
          [
           "Scrypt"
          ],
          [
           "XEVAN"
          ],
          [
           "SHA-256D"
          ],
          [
           "X11"
          ],
          [
           "X11"
          ],
          [
           "DPoS"
          ],
          [
           "Scrypt"
          ],
          [
           "X11"
          ],
          [
           "Scrypt"
          ],
          [
           "Scrypt"
          ],
          [
           "SHA-256"
          ],
          [
           "Scrypt"
          ],
          [
           "X11"
          ],
          [
           "Scrypt"
          ],
          [
           "SHA-256"
          ],
          [
           "X11"
          ],
          [
           "Scrypt"
          ],
          [
           "Scrypt"
          ],
          [
           "X11"
          ],
          [
           "Scrypt"
          ],
          [
           "PoS"
          ],
          [
           "X11"
          ],
          [
           "SHA-256"
          ],
          [
           "DPoS"
          ],
          [
           "Scrypt"
          ],
          [
           "Scrypt"
          ],
          [
           "NeoScrypt"
          ],
          [
           "X13"
          ],
          [
           "DPoS"
          ],
          [
           "DPoS"
          ],
          [
           "SHA-256"
          ],
          [
           "PoS"
          ],
          [
           "PoS"
          ],
          [
           "SHA-256"
          ],
          [
           "Scrypt"
          ],
          [
           "Scrypt"
          ]
         ],
         "hoverlabel": {
          "namelength": 0
         },
         "hovertemplate": "<b>%{hovertext}</b><br><br>Class=%{marker.color}<br>PC1=%{x}<br>PC2=%{y}<br>PC3=%{z}<br>Algorithm=%{customdata[0]}",
         "hovertext": [
          "42 Coin",
          "404Coin",
          "EliteCoin",
          "Dash",
          "Bitshares",
          "BitcoinDark",
          "PayCoin",
          "KoboCoin",
          "Aurora Coin",
          "BlueCoin",
          "EnergyCoin",
          "BitBar",
          "CryptoBullion",
          "CasinoCoin",
          "Diamond",
          "Exclusive Coin",
          "FlutterCoin",
          "HoboNickels",
          "HyperStake",
          "IOCoin",
          "MaxCoin",
          "MintCoin",
          "MazaCoin",
          "Nautilus Coin",
          "NavCoin",
          "OpalCoin",
          "Orbitcoin",
          "PotCoin",
          "PhoenixCoin",
          "Reddcoin",
          "SuperCoin",
          "SyncCoin",
          "TeslaCoin",
          "TittieCoin",
          "TorCoin",
          "UnitaryStatus Dollar",
          "UltraCoin",
          "VeriCoin",
          "X11 Coin",
          "Crypti",
          "StealthCoin",
          "ZCC Coin",
          "BurstCoin",
          "StorjCoin",
          "Neutron",
          "FairCoin",
          "RubyCoin",
          "Kore",
          "Dnotes",
          "8BIT Coin",
          "Sativa Coin",
          "Ucoin",
          "Vtorrent",
          "IslaCoin",
          "Nexus",
          "Droidz",
          "Squall Coin",
          "Diggits",
          "Paycon",
          "Emercoin",
          "EverGreenCoin",
          "Decred",
          "EDRCoin",
          "Hitcoin",
          "DubaiCoin",
          "PWR Coin",
          "BillaryCoin",
          "GPU Coin",
          "EuropeCoin",
          "ZeitCoin",
          "SwingCoin",
          "SafeExchangeCoin",
          "Nebuchadnezzar",
          "Ratecoin",
          "Revenu",
          "Clockcoin",
          "VIP Tokens",
          "BitSend",
          "Let it Ride",
          "PutinCoin",
          "iBankCoin",
          "Frankywillcoin",
          "MudraCoin",
          "Lutetium Coin",
          "GoldBlocks",
          "CarterCoin",
          "BitTokens",
          "MustangCoin",
          "ZoneCoin",
          "RootCoin",
          "BitCurrency",
          "Swiscoin",
          "BuzzCoin",
          "Opair",
          "PesoBit",
          "Halloween Coin",
          "CoffeeCoin",
          "RoyalCoin",
          "GanjaCoin V2",
          "TeamUP",
          "LanaCoin",
          "ARK",
          "InsaneCoin",
          "EmberCoin",
          "XenixCoin",
          "FreeCoin",
          "PLNCoin",
          "AquariusCoin",
          "Creatio",
          "Eternity",
          "Eurocoin",
          "BitcoinFast",
          "Stakenet",
          "BitConnect Coin",
          "MoneyCoin",
          "Enigma",
          "Russiacoin",
          "PandaCoin",
          "GameUnits",
          "GAKHcoin",
          "Allsafe",
          "LiteCreed",
          "Klingon Empire Darsek",
          "Internet of People",
          "KushCoin",
          "Printerium",
          "Impeach",
          "Zilbercoin",
          "FirstCoin",
          "FindCoin",
          "OpenChat",
          "RenosCoin",
          "VirtacoinPlus",
          "TajCoin",
          "Impact",
          "Atmos",
          "HappyCoin",
          "MacronCoin",
          "Condensate",
          "Independent Money System",
          "ArgusCoin",
          "LomoCoin",
          "ProCurrency",
          "GoldReserve",
          "GrowthCoin",
          "Phreak",
          "Degas Coin",
          "HTML5 Coin",
          "Ultimate Secure Cash",
          "QTUM",
          "Espers",
          "Denarius",
          "Virta Unique Coin",
          "Bitcoin Planet",
          "BritCoin",
          "Linda",
          "DeepOnion",
          "Signatum",
          "Cream",
          "Monoeci",
          "Draftcoin",
          "Vechain",
          "Stakecoin",
          "CoinonatX",
          "Ethereum Dark",
          "Obsidian",
          "Cardano",
          "Regalcoin",
          "TrezarCoin",
          "TerraNovaCoin",
          "Rupee",
          "WomenCoin",
          "Theresa May Coin",
          "NamoCoin",
          "LUXCoin",
          "Xios",
          "Bitcloud 2.0",
          "KekCoin",
          "BlackholeCoin",
          "Infinity Economics",
          "Magnet",
          "Lamden Tau",
          "Electra",
          "Bitcoin Diamond",
          "Cash & Back Coin",
          "Bulwark",
          "Kalkulus",
          "GermanCoin",
          "LiteCoin Ultra",
          "PhantomX",
          "Digiwage",
          "Trollcoin",
          "Litecoin Plus",
          "Monkey Project",
          "TokenPay",
          "My Big Coin",
          "Unified Society USDEX",
          "Tokyo Coin",
          "BiblePay",
          "Stipend",
          "Pushi",
          "Ellerium",
          "Velox",
          "Ontology",
          "Bitspace",
          "Briacoin",
          "Ignition",
          "MedicCoin",
          "Bitcoin Green",
          "Deviant Coin",
          "Abjcoin",
          "Semux",
          "Carebit",
          "Zealium",
          "Proton",
          "iDealCash",
          "Bitcoin Incognito",
          "HollyWoodCoin",
          "Swisscoin",
          "Xt3ch",
          "TheVig",
          "EmaratCoin",
          "Dekado",
          "Lynx",
          "Poseidon Quark",
          "BitcoinWSpectrum",
          "Muse",
          "Trivechain",
          "Dystem",
          "Giant",
          "Peony Coin",
          "Absolute Coin",
          "Vitae",
          "TPCash",
          "ARENON",
          "EUNO",
          "MMOCoin",
          "Ketan",
          "XDNA",
          "PAXEX",
          "ThunderStake",
          "Kcash",
          "Bettex coin",
          "BitMoney",
          "Junson Ming Chan Coin",
          "HerbCoin",
          "Oduwa",
          "Galilel",
          "Crypto Sports",
          "Credit",
          "Dash Platinum",
          "Nasdacoin",
          "Beetle Coin",
          "Titan Coin",
          "Award",
          "Insane Coin",
          "ALAX",
          "LiteDoge",
          "TruckCoin",
          "OrangeCoin",
          "BitstarCoin",
          "NeosCoin",
          "HyperCoin",
          "PinkCoin",
          "AudioCoin",
          "IncaKoin",
          "Piggy Coin",
          "Genstake",
          "XiaoMiCoin",
          "CapriCoin",
          " ClubCoin",
          "Radium",
          "Creditbit ",
          "OKCash",
          "Lisk",
          "HiCoin",
          "WhiteCoin",
          "FriendshipCoin",
          "Triangles Coin",
          "EOS",
          "Oxycoin",
          "TigerCash",
          "Particl",
          "Nxt",
          "ZEPHYR",
          "Gapcoin",
          "BitcoinPlus"
         ],
         "legendgroup": "Class=0",
         "marker": {
          "color": [
           0,
           0,
           0,
           0,
           0,
           0,
           0,
           0,
           0,
           0,
           0,
           0,
           0,
           0,
           0,
           0,
           0,
           0,
           0,
           0,
           0,
           0,
           0,
           0,
           0,
           0,
           0,
           0,
           0,
           0,
           0,
           0,
           0,
           0,
           0,
           0,
           0,
           0,
           0,
           0,
           0,
           0,
           0,
           0,
           0,
           0,
           0,
           0,
           0,
           0,
           0,
           0,
           0,
           0,
           0,
           0,
           0,
           0,
           0,
           0,
           0,
           0,
           0,
           0,
           0,
           0,
           0,
           0,
           0,
           0,
           0,
           0,
           0,
           0,
           0,
           0,
           0,
           0,
           0,
           0,
           0,
           0,
           0,
           0,
           0,
           0,
           0,
           0,
           0,
           0,
           0,
           0,
           0,
           0,
           0,
           0,
           0,
           0,
           0,
           0,
           0,
           0,
           0,
           0,
           0,
           0,
           0,
           0,
           0,
           0,
           0,
           0,
           0,
           0,
           0,
           0,
           0,
           0,
           0,
           0,
           0,
           0,
           0,
           0,
           0,
           0,
           0,
           0,
           0,
           0,
           0,
           0,
           0,
           0,
           0,
           0,
           0,
           0,
           0,
           0,
           0,
           0,
           0,
           0,
           0,
           0,
           0,
           0,
           0,
           0,
           0,
           0,
           0,
           0,
           0,
           0,
           0,
           0,
           0,
           0,
           0,
           0,
           0,
           0,
           0,
           0,
           0,
           0,
           0,
           0,
           0,
           0,
           0,
           0,
           0,
           0,
           0,
           0,
           0,
           0,
           0,
           0,
           0,
           0,
           0,
           0,
           0,
           0,
           0,
           0,
           0,
           0,
           0,
           0,
           0,
           0,
           0,
           0,
           0,
           0,
           0,
           0,
           0,
           0,
           0,
           0,
           0,
           0,
           0,
           0,
           0,
           0,
           0,
           0,
           0,
           0,
           0,
           0,
           0,
           0,
           0,
           0,
           0,
           0,
           0,
           0,
           0,
           0,
           0,
           0,
           0,
           0,
           0,
           0,
           0,
           0,
           0,
           0,
           0,
           0,
           0,
           0,
           0,
           0,
           0,
           0,
           0,
           0,
           0,
           0,
           0,
           0,
           0,
           0,
           0,
           0,
           0,
           0,
           0,
           0,
           0,
           0,
           0,
           0,
           0,
           0,
           0,
           0,
           0,
           0,
           0,
           0,
           0,
           0,
           0,
           0,
           0,
           0,
           0,
           0,
           0,
           0,
           0,
           0,
           0,
           0,
           0
          ],
          "coloraxis": "coloraxis",
          "symbol": "circle"
         },
         "mode": "markers",
         "name": "Class=0",
         "scene": "scene",
         "showlegend": true,
         "type": "scatter3d",
         "x": [
          -0.33649458190577364,
          -0.31984022557422714,
          2.3008750061687393,
          -0.3909021289349394,
          -0.27089432759814813,
          -0.31084044444044295,
          -0.26828798178723723,
          -0.23892264740418795,
          -0.33615430785392647,
          -0.3287359715454983,
          -0.33499196938472087,
          -0.33649051919882017,
          -0.336474807729757,
          0.6555909373778095,
          -0.38026533834560344,
          -0.3548621498241787,
          -0.2806673680410584,
          -0.3345541535511479,
          -0.3281843017046754,
          -0.39079688222188735,
          -0.43421416820819153,
          -0.03400382888716474,
          -0.27416151202795597,
          -0.29369328742803885,
          -0.28234168149686917,
          -0.2829635525742701,
          -0.34374955449713557,
          -0.33079902617611245,
          -0.33489698124193723,
          0.02145243015921026,
          -0.3480601101177481,
          -0.39116829991144125,
          -0.24741710429459904,
          -0.3241305660340907,
          -0.39107996595076894,
          -0.31173665175069476,
          -0.33517248077858863,
          -0.3001923687154582,
          -0.39104447100924794,
          -0.2478848051672095,
          -0.2827445349860912,
          -0.32760036941253373,
          -0.012287176957605072,
          -0.3493369046644278,
          -0.3100524877794313,
          -0.37968722484209283,
          -0.2936735925460062,
          -0.2830388724592162,
          -0.288329450005866,
          -0.33647666018048794,
          -0.282991088195983,
          -0.3485046698606895,
          -0.33621114284947967,
          -0.3911498388408374,
          -0.4617336868179606,
          -0.41474477219108813,
          -0.34781918026760783,
          -0.2920757821309704,
          -0.28251289889763354,
          -0.3033991022384803,
          -0.24136346665667285,
          -0.08477448835090111,
          -0.31081137418823646,
          -0.06873577428465977,
          -0.31087505884382616,
          -0.2332442063200071,
          -0.3360870430825438,
          -0.29194463728126135,
          -0.3883197498821156,
          0.8590542686925037,
          -0.31067516667703937,
          -0.07486292739215918,
          -0.35454555244630354,
          -0.38899384501773693,
          -0.3094189993302369,
          -0.307087848340675,
          -0.35453673998924184,
          -0.3898854186439497,
          -0.35282323238353014,
          -0.31239215080667093,
          -0.3361251150484737,
          -0.33456484602207426,
          -0.23918105273200033,
          -0.33600088739808354,
          -0.39062392275912683,
          -0.33532967522742285,
          -0.31085599858313584,
          -0.39113902984403,
          -0.3363142246307394,
          -0.33647089641100125,
          -0.29193469694287844,
          -0.23507134893852216,
          0.033373076830712674,
          -0.35350308184599505,
          -0.3360852629084027,
          -0.3773057129128896,
          -0.3528321589038828,
          -0.2406113041172491,
          -0.4062602957214334,
          -0.35258067426397866,
          -0.28100886854153173,
          3.731680556872628,
          -0.39073173618083856,
          0.8485622829314845,
          -0.39109396230923926,
          -0.353966631438047,
          -0.3360127744595947,
          -0.33616700927697996,
          -0.35454555244630354,
          -0.39066897822141416,
          -0.3107187482916615,
          -0.3360135217919511,
          -0.36290174706045236,
          -0.3361608430942702,
          -0.33174993861391,
          -0.3911229379645667,
          -0.33537172626441264,
          0.34929828876346386,
          -0.3363600431032809,
          -0.33643059671922726,
          -0.3594532164507077,
          -0.3491325963078741,
          -0.3326583459953917,
          -0.31083242509371656,
          -0.39103292906209147,
          -0.33620849317707086,
          -0.33633537317618867,
          -0.29358003552202233,
          -0.29630611728920997,
          -0.24037925853869146,
          -0.31719721577438276,
          -0.293321350958079,
          -0.3902988791736268,
          -0.3993224514624845,
          -0.3890379138854609,
          -0.35279286519034025,
          -0.3901968198755288,
          -0.3471951975112532,
          -0.3861391535538907,
          -0.3362786920750771,
          -0.3362778666730637,
          -0.32940124502977985,
          0.26424708665597946,
          -0.39067516718450523,
          -0.2762274098984215,
          -0.3545798066175034,
          -0.3354896299138297,
          0.8925879747510355,
          -0.2669787027772134,
          -0.351602104729432,
          0.5868079347262216,
          -0.3560717260941583,
          -0.3545745324502732,
          -0.4075427307533124,
          -0.2826763105798968,
          0.12830687000208257,
          -0.2827470682324941,
          -0.3506646160926332,
          -0.4070478852613021,
          -0.39094746874490105,
          -0.293654277857732,
          4.418341634496991,
          -0.35444608596655386,
          -0.33591402857382724,
          -0.33641353377510624,
          -0.3289343981855834,
          0.6461499025209767,
          -0.3908882911848308,
          -0.33875066507729273,
          -0.33636914839885085,
          -0.3053836142501105,
          0.43238290063042084,
          -0.30917942484178007,
          -0.34084430019921114,
          -0.4022024407181322,
          -0.3363195028520247,
          -0.400384573567941,
          -0.36127465386596685,
          -0.33618998589209537,
          -0.0948467344902944,
          -0.3896813498990123,
          3.7365347316514907,
          0.2031808857109391,
          -0.2794193198717348,
          -0.33365122006666015,
          -0.31334628723342667,
          -0.35933917153857,
          0.07783712625955963,
          -0.3353286957901089,
          -0.3902623765168368,
          -0.35850414768384564,
          -0.32289960621810554,
          -0.336435653672532,
          -0.34847661245497935,
          -0.353105013892515,
          -0.29781231920815615,
          -0.33198284029801045,
          -0.23217778302342965,
          -0.17286825196650213,
          -0.35737510813200923,
          -0.3909646710944398,
          -0.3088200304095701,
          -0.2928144886854157,
          -0.316007886254955,
          -0.35567081836686415,
          -0.33646299566711296,
          -0.3364447123001406,
          -0.28719816198376713,
          -0.3474246838834768,
          -0.3540407072506832,
          -0.33616132347654604,
          3.9356660096032643,
          -0.39905332648172126,
          -0.35422929083550003,
          -0.32271678072944276,
          -0.2830491709161855,
          -0.265623279300345,
          -0.29334863543422973,
          -0.1396614399090924,
          -0.29360051726484404,
          -0.3463044217767779,
          -0.33563552433758986,
          -0.1982183676790718,
          2.2266228505000796,
          -0.35504808119543657,
          -0.267106575187815,
          1.021154035724436,
          -0.3645426781145737,
          -0.3594526395122604,
          -0.40206822814862037,
          -0.1743603090990152,
          -0.34780094217938623,
          -0.35817269837760674,
          -0.32934136894261246,
          -0.3480541763801385,
          -0.3904382401575638,
          -0.2908470270419576,
          -0.35332929540544017,
          -0.35162237589415385,
          -0.3479155319697016,
          -0.19598221387594017,
          -0.30806981661000954,
          -0.26632408312441835,
          0.5381856078036618,
          -0.13854377707903373,
          -0.40136313515647887,
          -0.3361653149682461,
          -0.40181908145521095,
          -0.3595695690904808,
          0.5700164768971804,
          -0.3485309006983769,
          -0.3356483793069327,
          -0.30327770600077225,
          -0.3010381343671586,
          -0.38800340053486854,
          -0.39066539672226736,
          3.748770857757472,
          0.09860422789108728,
          -0.38820645896233547,
          -0.33503394711577894,
          -0.33585881476027507,
          -0.26832057489693895,
          -0.3363769844706602,
          -0.3822967686930613,
          -0.2501037642997991,
          -0.0906190740293255,
          -0.37804634383115,
          -0.33565566616761894,
          -0.3287229311938553,
          -0.38723549149985775,
          -0.3340953884700133,
          -0.35482105676777786,
          -0.3801755999056154,
          -0.30935613652746274,
          3.7320722340662393,
          -0.10096624165453444,
          -0.33129139114155165,
          -0.34337549183018634,
          -0.2831460444353881,
          3.741934476523573,
          3.7431779292522824,
          -0.2492256699032282,
          -0.35475695926999984,
          -0.35363023682050226,
          2.478741464646606,
          -0.334540464482364,
          -0.29399686470267705
         ],
         "y": [
          1.054224379328362,
          1.0542908525478745,
          1.6128230756995963,
          1.209734770216231,
          1.6389849577969264,
          0.8062200225452725,
          0.5734114619168951,
          1.796765609019654,
          1.0542215780799353,
          1.0544300986604787,
          1.054264221080322,
          1.0542241345273913,
          1.0542241985633558,
          0.5890335503316555,
          0.9366736750286847,
          1.4999435996646893,
          0.41069398158578263,
          1.0541912170020693,
          0.9774697074049378,
          1.209737560829418,
          2.091255975293969,
          0.8283013755731639,
          0.8055022825300607,
          0.821404309368676,
          1.765844645625463,
          1.7658281567339797,
          0.4917435696077879,
          1.0540792522055764,
          1.054197639274614,
          1.0637153327936226,
          0.9769427009883848,
          1.2097432243339645,
          0.07525785309606764,
          1.5790456039357108,
          1.2097385161486027,
          1.0537526650623863,
          1.0541889242008036,
          0.4736952140328869,
          1.209742630273987,
          0.07531596264832707,
          1.7658339639782394,
          1.0537551028567267,
          1.1104065726276182,
          1.4954981673879884,
          0.8062084803027809,
          0.9366920920549207,
          0.8214162401970825,
          1.7658176983545786,
          0.821205386834737,
          1.054224854551942,
          1.7658203755652866,
          0.9769168113760436,
          1.0542177926102263,
          1.2097437145337604,
          2.415880266752153,
          1.8806486711438581,
          0.8817897793632905,
          0.8213880954627509,
          1.7658048504887485,
          0.8057277355729551,
          1.796929135081979,
          0.8733591800208442,
          0.8062207933420686,
          1.199571941878978,
          0.8062272134674494,
          1.5064592036360058,
          1.054205570773863,
          0.8213062177958796,
          1.209547993447976,
          0.7821752626194837,
          0.8062117129671823,
          0.5963556359013285,
          1.4999378921087634,
          1.2097479976708592,
          0.8061161796628029,
          0.8059648540618178,
          1.5031796764696783,
          1.2096792308245448,
          1.4252527472411334,
          1.0534532420231244,
          1.0542029160492195,
          1.0542050356166996,
          1.5329044907408909,
          0.9767991960771512,
          1.2097224038687628,
          1.054191807257658,
          0.80622031523394,
          1.2097418858151876,
          1.0542143542938762,
          1.0542250073781028,
          0.8214623469576992,
          0.3807106447020229,
          1.913144771868317,
          1.4999274574450707,
          1.0542352324379396,
          1.209053131698199,
          1.4999692206298354,
          1.53300582607015,
          1.9434754583825768,
          1.4997918559317818,
          1.9136185423472254,
          2.0276444775690643,
          1.209733647324527,
          1.795231187308073,
          1.209742479093364,
          1.4999320889928265,
          1.0542099796716469,
          1.0542034504728064,
          1.4999378921087634,
          1.209714158162063,
          0.8062246595272322,
          1.0542138661448202,
          0.6951771875440652,
          1.0542134854565473,
          1.0538913991014645,
          1.2097409022783359,
          1.0541526165378663,
          0.8155381474443218,
          1.0542187802686205,
          1.0542237379395532,
          1.4267495925758558,
          0.5622130041549975,
          1.0539735439001643,
          0.8062209402842488,
          1.2097402188288253,
          1.054217862866205,
          1.0542131354419395,
          0.8213799400143795,
          0.3438017072289257,
          1.5330035000405609,
          1.0540309421386187,
          0.8214013055851,
          1.209695767076031,
          1.7973360252228954,
          1.2097221504672453,
          1.4999207004894612,
          1.2096984731750158,
          1.4998648461540176,
          1.2095240195631425,
          1.0542151468705945,
          1.0542099595163896,
          1.0537073526980423,
          0.5346574565274986,
          1.2097280961870578,
          0.8204686126500478,
          1.499929932797947,
          1.054176989470463,
          1.763554800542711,
          0.5733139106142197,
          1.4252382358352191,
          1.8447568378961565,
          1.503195384863408,
          1.5031575212160715,
          1.9262403556589676,
          1.7658146197584357,
          1.0312932619294346,
          1.7658205715789466,
          1.493176550735018,
          1.9262534764711672,
          1.2097423767340276,
          0.8214044793226135,
          2.2314142203300134,
          1.4999111970636176,
          1.0542057499236375,
          1.0542235669002549,
          1.6399203730784433,
          1.4839241362900542,
          1.2097316115924377,
          0.49159673074648086,
          1.0542166115518008,
          0.5915879113197263,
          1.0569834844749657,
          0.8062090661380643,
          1.502760063121521,
          1.8124985050304385,
          1.05421421434201,
          1.6594773906168345,
          1.4093127494279916,
          1.0542220284054784,
          0.5716731084838235,
          1.209681116169422,
          2.0275087710095856,
          1.4968778130948674,
          1.765774059635253,
          1.0541516986909971,
          1.2703722204363501,
          1.426749090941721,
          1.0299550583081614,
          1.054149526851954,
          1.2097319902556711,
          1.4267007209464393,
          1.053950254066384,
          1.0542231214131426,
          0.97691685021099,
          1.4252512692167347,
          0.48761005310688826,
          1.05418042338888,
          1.5326671184559446,
          3.4833461895571696,
          0.9017559381757421,
          1.2097309965941223,
          1.5107904773463108,
          0.8213515861321958,
          1.4180932237817825,
          1.5031778106685152,
          1.0542231015472994,
          1.0542221761176678,
          0.8212353829000154,
          1.4492141339685132,
          1.4999033308372665,
          1.054212062506711,
          2.0148555937333312,
          1.6595126885902238,
          1.4999039713996813,
          0.6308395858675095,
          1.0520299628439267,
          1.1828604907678129,
          0.8214065236616842,
          1.0522513199182413,
          0.821387153110465,
          1.9171092498106082,
          1.0541879283159499,
          1.564084672998291,
          0.3221942090085559,
          1.4264186521209865,
          0.5733809051947073,
          1.741901022512081,
          0.8636476355426669,
          1.4267453772358152,
          1.6595701378193148,
          0.8126776344173983,
          0.8243866580220406,
          1.426723611439214,
          1.0537089403105548,
          0.9769040774770806,
          1.2097273272369313,
          0.8213078588629462,
          1.4998361709358896,
          1.0139681338737818,
          0.9768760238475451,
          1.0452581476111986,
          2.043407108699573,
          1.277980770767908,
          1.260369260620562,
          0.982498019775392,
          1.659554389601598,
          1.0542183026287562,
          1.6595669535361435,
          1.4267476568125792,
          1.025518542668029,
          0.9769163273981087,
          1.0541875874668538,
          1.5106271851452486,
          1.9148544632937414,
          1.209530997615404,
          1.2097354063131234,
          2.0274806583683476,
          1.0410822911986424,
          1.209821758155941,
          1.054122086790634,
          1.054202980374238,
          0.5734046043084576,
          1.0542274974501613,
          1.2096259002733225,
          1.049111413385553,
          0.8119407272003453,
          1.2093860470221507,
          1.0542360465877485,
          1.0541484019219642,
          1.2097008412252033,
          1.0541751768930405,
          1.4999383432894313,
          0.666258865434434,
          0.8062008551021522,
          2.027630241694828,
          0.8194685767297538,
          1.054150809915364,
          0.4917137211823379,
          1.7658232333554404,
          2.02800449819881,
          2.0280374683076534,
          0.573220606069998,
          1.4999403008026857,
          1.6753915094093437,
          0.8587967808567469,
          1.0540999161538043,
          0.8214069635400575
         ],
         "z": [
          -0.5399574216802228,
          -0.5401734982310847,
          -0.5585868873306288,
          -0.499443035100386,
          -0.008774881247538318,
          -0.33249757535591157,
          -0.008872928878810199,
          -0.6085710565324032,
          -0.5399614526384573,
          -0.5400742088713825,
          -0.5399800398946574,
          -0.5399574503046427,
          -0.5399576542703797,
          -0.3048445709595707,
          -0.41194589179472657,
          -0.07907233774537188,
          -0.3380843985924986,
          -0.539978822337936,
          -0.17612274292300706,
          -0.49944461933611656,
          -0.3480501883675742,
          -0.22024490185502743,
          -0.33289371411813556,
          -0.2163348498961861,
          -0.5401435891943848,
          -0.5401342284234067,
          -0.34092696294712405,
          -0.5400158271859526,
          -0.5399750933264813,
          -0.5453454516526236,
          -0.17582356050831655,
          -0.4994404599060392,
          0.11029943032809723,
          -0.1404018211587757,
          -0.4994411389744686,
          -0.5402259884208189,
          -0.5399708162143143,
          -0.15470578535290488,
          -0.499441966058533,
          0.11029996392187778,
          -0.5401375252055817,
          -0.5400262374642026,
          -0.18311117463922869,
          0.07677683553345027,
          -0.3325064431478159,
          -0.41195487888625054,
          -0.21633619910950494,
          -0.5401323138820457,
          -0.21638410972055955,
          -0.5399576914513582,
          -0.5401331632893389,
          -0.17581556742910154,
          -0.5399603868719111,
          -0.49944073785804916,
          0.15600041674691825,
          -0.7199251804901652,
          -0.3142919181297508,
          -0.21635374378000455,
          -0.5401377586707995,
          -0.3325459531084526,
          -0.6085553776014543,
          -0.31110819187549404,
          -0.3324980129385285,
          -0.5025664248611513,
          -0.3324978025688143,
          -0.513431349521706,
          -0.5399608234613892,
          -0.21634784154072276,
          -0.49945835300755637,
          -0.22724628913044478,
          -0.33249889204157546,
          -0.2963122277883102,
          -0.0790758020529782,
          -0.4994683112641296,
          -0.33250591158320886,
          -0.3325213338738689,
          -0.5115997267573715,
          -0.4994507266006507,
          0.02930870731926992,
          -0.5401900953969858,
          -0.539960098560969,
          -0.5399799626917771,
          -0.21651446604165875,
          -0.175962335244422,
          -0.49944540099964274,
          -0.5399691006821856,
          -0.3324974062909255,
          -0.499440705365972,
          -0.5399587701588571,
          -0.5399577782110226,
          -0.2163623739937978,
          -0.3253307994091743,
          -0.6625135151450382,
          -0.07908798041781882,
          -0.5399635829944106,
          -0.4995515300808673,
          -0.0791002917685864,
          -0.21650578741389112,
          -0.7386063237106072,
          -0.07908709525019264,
          -0.6585941764351181,
          0.013579959994132538,
          -0.4994450794315346,
          -0.5571113186355511,
          -0.49944132822729553,
          -0.07908256435928422,
          -0.5399621665220531,
          -0.5399596197629714,
          -0.0790758020529782,
          -0.49944407214658065,
          -0.3324995373285883,
          -0.5399625157337605,
          -0.37099495249556935,
          -0.5399606234922604,
          -0.5399865055706436,
          -0.49944081746012864,
          -0.5399649541863979,
          -0.22389900353569672,
          -0.5399586009934232,
          -0.5399581690834531,
          -0.0906893934093641,
          -0.32889159810270263,
          -0.539982634392259,
          -0.33249776113301993,
          -0.49944188903360986,
          -0.5399604267563459,
          -0.5399583910909898,
          -0.21633402880123243,
          -0.3919732961891721,
          -0.21650849791024,
          -0.5401828318809514,
          -0.21633926129728195,
          -0.49944704048970906,
          -0.7386817892427139,
          -0.49946537063283175,
          -0.07909630980198579,
          -0.49944857674658044,
          -0.07916171917805156,
          -0.49948362907345767,
          -0.5399592912141972,
          -0.5399588229450955,
          -0.5399991296201077,
          -0.012009887646538837,
          -0.4994452802898827,
          -0.2164686790380474,
          -0.07907463578733377,
          -0.5399657169722899,
          -0.6197701313925535,
          -0.008880431723953273,
          0.02929465301739056,
          -0.6552258237794097,
          -0.5115818264522838,
          -0.5115972059280642,
          -0.6730572797413027,
          -0.540136600204815,
          -0.543700629750446,
          -0.5401362574600278,
          0.046339116926760196,
          -0.6730647284480985,
          -0.49944316546020817,
          -0.21633535732848358,
          1.6778125145530782,
          -0.07907459257276947,
          -0.5399630209906345,
          -0.5399583683936406,
          -0.008129553268886796,
          0.059590172351530336,
          -0.49944291806857644,
          -0.3409764284159905,
          -0.5399582860903798,
          -0.040996550777064614,
          -0.5499043909106148,
          -0.33251750292195525,
          -0.511733611123827,
          -0.4636381725353353,
          -0.539958690707951,
          -0.4143270227891915,
          0.04480791386761125,
          -0.539961044440602,
          -0.010898895895592552,
          -0.49945347303819465,
          0.013531291522186423,
          -0.5180487230824603,
          -0.5401739146247209,
          -0.539986557961826,
          -0.1879580128939741,
          -0.09069078475497365,
          -0.5429409293403845,
          -0.5399652115155582,
          -0.4994508432073528,
          -0.09069684751136606,
          -0.5401035026460838,
          -0.5399580484449042,
          -0.17581592470059249,
          0.029312395807199458,
          -0.35684177632369013,
          -0.5400102399665484,
          -0.21658084429922259,
          2.6379661056193386,
          -0.43883694292011466,
          -0.4994418984833602,
          -0.5179188472225691,
          -0.2163410627684979,
          0.07833686640592301,
          -0.5115852585458642,
          -0.5399577019422042,
          -0.5399578470239261,
          -0.2164011385364509,
          -0.08332496053615873,
          -0.0790789768502322,
          -0.5399604861309388,
          -0.10636035128554278,
          -0.41434706150709044,
          -0.07907665869995571,
          0.059931470972392764,
          -0.5404286530110926,
          -0.3327705493812865,
          -0.2163393988617967,
          -0.5422566058147378,
          -0.21633443621471277,
          -0.6580931817655675,
          -0.5399648872515949,
          -0.2849348889365903,
          -0.2981350302940097,
          -0.09071438573100243,
          -0.008885001847095165,
          -0.007485688936774972,
          -0.2637022873402993,
          -0.09068901170281345,
          -0.41431435730709143,
          -0.21703387323711978,
          -0.36462199514382393,
          -0.09070313798544011,
          -0.5400000309103581,
          -0.17582007124255264,
          -0.49944819600389856,
          -0.21636182930193065,
          -0.0790817474920493,
          -0.4043435419341404,
          -0.1758192302678834,
          -0.5409013239792055,
          0.05957626671709123,
          -0.19429338257532838,
          -0.3716235206088176,
          -0.17897732417583406,
          -0.41432179241543415,
          -0.5399610116351014,
          -0.41431720418066065,
          -0.09068774805688046,
          -0.5487358877924573,
          -0.17581519210657895,
          -0.5399646937509985,
          -0.5179736448939316,
          -0.6584557373837756,
          -0.49946077253907306,
          -0.49944607801227103,
          0.01337963870138486,
          -0.5442295054516122,
          -0.49948504335149624,
          -0.5399663949887175,
          -0.5399634614426136,
          -0.008871885214187098,
          -0.5399591918290502,
          -0.4995414669212041,
          -0.5405746431289178,
          -0.3358015466254066,
          -0.49957291424738665,
          -0.5399690735610166,
          -0.5400483790978151,
          -0.49948612537395964,
          -0.5399831253345995,
          -0.07907237071588807,
          -0.21693942102135758,
          -0.3325145176274189,
          0.013576336208875729,
          -0.218585717535561,
          -0.5400162236369027,
          -0.34092892400503566,
          -0.5401314736402422,
          0.013417478790354136,
          0.013398761605009928,
          -0.009095614215877205,
          -0.079073359354046,
          -0.28686659138805226,
          0.011765616806880347,
          -0.5399705699228795,
          -0.2163312679607896
         ]
        },
        {
         "customdata": [
          [
           "SHA-256"
          ],
          [
           "Ethash"
          ],
          [
           "Scrypt"
          ],
          [
           "CryptoNight-V7"
          ],
          [
           "Ethash"
          ],
          [
           "Equihash"
          ],
          [
           "Multiple"
          ],
          [
           "Scrypt"
          ],
          [
           "X11"
          ],
          [
           "Scrypt"
          ],
          [
           "Multiple"
          ],
          [
           "Scrypt"
          ],
          [
           "SHA-256"
          ],
          [
           "Scrypt"
          ],
          [
           "Scrypt"
          ],
          [
           "Quark"
          ],
          [
           "Groestl"
          ],
          [
           "Scrypt"
          ],
          [
           "Scrypt"
          ],
          [
           "Scrypt"
          ],
          [
           "X11"
          ],
          [
           "Multiple"
          ],
          [
           "SHA-256"
          ],
          [
           "Scrypt"
          ],
          [
           "Scrypt"
          ],
          [
           "Scrypt"
          ],
          [
           "Scrypt"
          ],
          [
           "Scrypt"
          ],
          [
           "NeoScrypt"
          ],
          [
           "Scrypt"
          ],
          [
           "Scrypt"
          ],
          [
           "Scrypt"
          ],
          [
           "Scrypt"
          ],
          [
           "SHA-256"
          ],
          [
           "Scrypt"
          ],
          [
           "Scrypt"
          ],
          [
           "Scrypt"
          ],
          [
           "Scrypt"
          ],
          [
           "HybridScryptHash256"
          ],
          [
           "Scrypt"
          ],
          [
           "Scrypt"
          ],
          [
           "SHA-256"
          ],
          [
           "Scrypt"
          ],
          [
           "Scrypt"
          ],
          [
           "Scrypt"
          ],
          [
           "Scrypt"
          ],
          [
           "SHA-256"
          ],
          [
           "SHA-256"
          ],
          [
           "SHA-256"
          ],
          [
           "SHA-256"
          ],
          [
           "SHA-256"
          ],
          [
           "X11"
          ],
          [
           "Scrypt"
          ],
          [
           "Lyra2REv2"
          ],
          [
           "Scrypt"
          ],
          [
           "SHA-256"
          ],
          [
           "CryptoNight"
          ],
          [
           "CryptoNight"
          ],
          [
           "Scrypt"
          ],
          [
           "Scrypt"
          ],
          [
           "Scrypt"
          ],
          [
           "Scrypt"
          ],
          [
           "Scrypt"
          ],
          [
           "Scrypt"
          ],
          [
           "Stanford Folding"
          ],
          [
           "Multiple"
          ],
          [
           "QuBit"
          ],
          [
           "Scrypt"
          ],
          [
           "Scrypt"
          ],
          [
           "M7 POW"
          ],
          [
           "Scrypt"
          ],
          [
           "SHA-256"
          ],
          [
           "Scrypt"
          ],
          [
           "X11"
          ],
          [
           "Lyra2RE"
          ],
          [
           "SHA-256"
          ],
          [
           "X11"
          ],
          [
           "Scrypt"
          ],
          [
           "Scrypt"
          ],
          [
           "Ethash"
          ],
          [
           "Blake2b"
          ],
          [
           "X11"
          ],
          [
           "SHA-256"
          ],
          [
           "Scrypt"
          ],
          [
           "1GB AES Pattern Search"
          ],
          [
           "Scrypt"
          ],
          [
           "SHA-256"
          ],
          [
           "X11"
          ],
          [
           "Dagger"
          ],
          [
           "Scrypt"
          ],
          [
           "X11GOST"
          ],
          [
           "Scrypt"
          ],
          [
           "X11"
          ],
          [
           "Scrypt"
          ],
          [
           "X11"
          ],
          [
           "Equihash"
          ],
          [
           "CryptoNight"
          ],
          [
           "SHA-256"
          ],
          [
           "Multiple"
          ],
          [
           "Scrypt"
          ],
          [
           "SHA-256"
          ],
          [
           "Scrypt"
          ],
          [
           "Lyra2Z"
          ],
          [
           "Ethash"
          ],
          [
           "Equihash"
          ],
          [
           "Scrypt"
          ],
          [
           "X11"
          ],
          [
           "X11"
          ],
          [
           "CryptoNight"
          ],
          [
           "Scrypt"
          ],
          [
           "CryptoNight"
          ],
          [
           "Lyra2RE"
          ],
          [
           "X11"
          ],
          [
           "CryptoNight-V7"
          ],
          [
           "Scrypt"
          ],
          [
           "X11"
          ],
          [
           "Equihash"
          ],
          [
           "Scrypt"
          ],
          [
           "Lyra2RE"
          ],
          [
           "Dagger-Hashimoto"
          ],
          [
           "Scrypt"
          ],
          [
           "NIST5"
          ],
          [
           "Scrypt"
          ],
          [
           "SHA-256"
          ],
          [
           "Scrypt"
          ],
          [
           "CryptoNight-V7"
          ],
          [
           "Argon2d"
          ],
          [
           "Blake2b"
          ],
          [
           "Cloverhash"
          ],
          [
           "CryptoNight"
          ],
          [
           "X11"
          ],
          [
           "Scrypt"
          ],
          [
           "Scrypt"
          ],
          [
           "X11"
          ],
          [
           "X11"
          ],
          [
           "CryptoNight"
          ],
          [
           "Time Travel"
          ],
          [
           "Scrypt"
          ],
          [
           "Keccak"
          ],
          [
           "X11"
          ],
          [
           "SHA-256"
          ],
          [
           "Scrypt"
          ],
          [
           "Scrypt"
          ],
          [
           "Scrypt"
          ],
          [
           "Scrypt"
          ],
          [
           "Scrypt"
          ],
          [
           "Scrypt"
          ],
          [
           "CryptoNight"
          ],
          [
           "Equihash"
          ],
          [
           "X11"
          ],
          [
           "NeoScrypt"
          ],
          [
           "Equihash"
          ],
          [
           "Dagger"
          ],
          [
           "Scrypt"
          ],
          [
           "X11"
          ],
          [
           "NeoScrypt"
          ],
          [
           "Ethash"
          ],
          [
           "NeoScrypt"
          ],
          [
           "Multiple"
          ],
          [
           "CryptoNight"
          ],
          [
           "CryptoNight"
          ],
          [
           "Ethash"
          ],
          [
           "X11"
          ],
          [
           "CryptoNight-V7"
          ],
          [
           "Scrypt"
          ],
          [
           "BLAKE256"
          ],
          [
           "X11"
          ],
          [
           "NeoScrypt"
          ],
          [
           "NeoScrypt"
          ],
          [
           "Scrypt"
          ],
          [
           "X11"
          ],
          [
           "SHA-256"
          ],
          [
           "C11"
          ],
          [
           "Ethash"
          ],
          [
           "CryptoNight"
          ],
          [
           "SkunkHash"
          ],
          [
           "CryptoNight"
          ],
          [
           "Scrypt"
          ],
          [
           "Dagger"
          ],
          [
           "Lyra2REv2"
          ],
          [
           "Scrypt"
          ],
          [
           "Scrypt"
          ],
          [
           "X11"
          ],
          [
           "Ethash"
          ],
          [
           "CryptoNight"
          ],
          [
           "Scrypt"
          ],
          [
           "IMesh"
          ],
          [
           "Equihash"
          ],
          [
           "Lyra2Z"
          ],
          [
           "X11"
          ],
          [
           "CryptoNight"
          ],
          [
           "NIST5"
          ],
          [
           "Lyra2RE"
          ],
          [
           "Tribus"
          ],
          [
           "Lyra2Z"
          ],
          [
           "CryptoNight"
          ],
          [
           "CryptoNight Heavy"
          ],
          [
           "CryptoNight"
          ],
          [
           "Jump Consistent Hash"
          ],
          [
           "CryptoNight"
          ],
          [
           "X16R"
          ],
          [
           "HMQ1725"
          ],
          [
           "X11"
          ],
          [
           "Scrypt"
          ],
          [
           "CryptoNight-V7"
          ],
          [
           "Cryptonight-GPU"
          ],
          [
           "XEVAN"
          ],
          [
           "CryptoNight Heavy"
          ],
          [
           "SHA-256"
          ],
          [
           "X11"
          ],
          [
           "X16R"
          ],
          [
           "Equihash"
          ],
          [
           "Lyra2Z"
          ],
          [
           "SHA-256"
          ],
          [
           "CryptoNight"
          ],
          [
           "Blake"
          ],
          [
           "Blake"
          ],
          [
           "Equihash"
          ],
          [
           "Exosis"
          ],
          [
           "Scrypt"
          ],
          [
           "Equihash"
          ],
          [
           "Equihash"
          ],
          [
           "QuBit"
          ],
          [
           "SHA-256"
          ],
          [
           "X13"
          ],
          [
           "SHA-256"
          ],
          [
           "Scrypt"
          ],
          [
           "NeoScrypt"
          ],
          [
           "Blake"
          ],
          [
           "Scrypt"
          ],
          [
           "SHA-256"
          ],
          [
           "Scrypt"
          ],
          [
           "Groestl"
          ],
          [
           "Scrypt"
          ],
          [
           "Scrypt"
          ],
          [
           "Multiple"
          ],
          [
           "Equihash+Scrypt"
          ],
          [
           "Ethash"
          ],
          [
           "CryptoNight"
          ],
          [
           "Equihash"
          ]
         ],
         "hoverlabel": {
          "namelength": 0
         },
         "hovertemplate": "<b>%{hovertext}</b><br><br>Class=%{marker.color}<br>PC1=%{x}<br>PC2=%{y}<br>PC3=%{z}<br>Algorithm=%{customdata[0]}",
         "hovertext": [
          "Bitcoin",
          "Ethereum",
          "Litecoin",
          "Monero",
          "Ethereum Classic",
          "ZCash",
          "DigiByte",
          "ProsperCoin",
          "Spreadcoin",
          "Argentum",
          "MyriadCoin",
          "MoonCoin",
          "ZetaCoin",
          "SexCoin",
          "Quatloo",
          "QuarkCoin",
          "Riecoin",
          "Digitalcoin ",
          "Catcoin",
          "CannaCoin",
          "CryptCoin",
          "Verge",
          "DevCoin",
          "EarthCoin",
          "E-Gulden",
          "Einsteinium",
          "Emerald",
          "Franko",
          "FeatherCoin",
          "GrandCoin",
          "GlobalCoin",
          "GoldCoin",
          "Infinite Coin",
          "IXcoin",
          "KrugerCoin",
          "LuckyCoin",
          "Litebar ",
          "MegaCoin",
          "MediterraneanCoin",
          "MinCoin",
          "NobleCoin",
          "Namecoin",
          "NyanCoin",
          "RonPaulCoin",
          "StableCoin",
          "SmartCoin",
          "SysCoin",
          "TigerCoin",
          "TerraCoin",
          "UnbreakableCoin",
          "Unobtanium",
          "UroCoin",
          "ViaCoin",
          "Vertcoin",
          "WorldCoin",
          "JouleCoin",
          "ByteCoin",
          "DigitalNote ",
          "MonaCoin",
          "Gulden",
          "PesetaCoin",
          "Wild Beast Coin",
          "Flo",
          "ArtByte",
          "Folding Coin",
          "Unitus",
          "CypherPunkCoin",
          "OmniCron",
          "GreenCoin",
          "Cryptonite",
          "MasterCoin",
          "SoonCoin",
          "1Credit",
          "MarsCoin ",
          "Crypto",
          "Anarchists Prime",
          "BowsCoin",
          "Song Coin",
          "BitZeny",
          "Expanse",
          "Siacoin",
          "MindCoin",
          "I0coin",
          "Revolution VR",
          "HOdlcoin",
          "Gamecredits",
          "CarpeDiemCoin",
          "Adzcoin",
          "SoilCoin",
          "YoCoin",
          "SibCoin",
          "Francs",
          "BolivarCoin",
          "Omni",
          "PizzaCoin",
          "Komodo",
          "Karbo",
          "ZayedCoin",
          "Circuits of Value",
          "DopeCoin",
          "DollarCoin",
          "Shilling",
          "ZCoin",
          "Elementrem",
          "ZClassic",
          "KiloCoin",
          "ArtexCoin",
          "Kurrent",
          "Cannabis Industry Coin",
          "OsmiumCoin",
          "Bikercoins",
          "HexxCoin",
          "PacCoin",
          "Citadel",
          "BeaverCoin",
          "VaultCoin",
          "Zero",
          "Canada eCoin",
          "Zoin",
          "DubaiCoin",
          "EB3coin",
          "Coinonat",
          "BenjiRolls",
          "ILCoin",
          "EquiTrader",
          "Quantum Resistant Ledger",
          "Dynamic",
          "Nano",
          "ChanCoin",
          "Dinastycoin",
          "DigitalPrice",
          "Unify",
          "SocialCoin",
          "ArcticCoin",
          "DAS",
          "LeviarCoin",
          "Bitcore",
          "gCn Coin",
          "SmartCash",
          "Onix",
          "Bitcoin Cash",
          "Sojourn Coin",
          "NewYorkCoin",
          "FrazCoin",
          "Kronecoin",
          "AdCoin",
          "Linx",
          "Sumokoin",
          "BitcoinZ",
          "Elements",
          "VIVO Coin",
          "Bitcoin Gold",
          "Pirl",
          "eBoost",
          "Pura",
          "Innova",
          "Ellaism",
          "GoByte",
          "SHIELD",
          "UltraNote",
          "BitCoal",
          "DaxxCoin",
          "AC3",
          "Lethean",
          "PopularCoin",
          "Photon",
          "Sucre",
          "SparksPay",
          "GunCoin",
          "IrishCoin",
          "Pioneer Coin",
          "UnitedBitcoin",
          "Interzone",
          "1717 Masonic Commemorative Token",
          "TurtleCoin",
          "MUNcoin",
          "Niobio Cash",
          "ShareChain",
          "Travelflex",
          "KREDS",
          "BitFlip",
          "LottoCoin",
          "Crypto Improvement Fund",
          "Callisto Network",
          "BitTube",
          "Poseidon",
          "Aidos Kuneen",
          "Bitrolium",
          "Alpenschillling",
          "FuturoCoin",
          "Monero Classic",
          "Jumpcoin",
          "Infinex",
          "KEYCO",
          "GINcoin",
          "PlatinCoin",
          "Loki",
          "Newton Coin",
          "MassGrid",
          "PluraCoin",
          "Motion",
          "PlusOneCoin",
          "Axe",
          "HexCoin",
          "Webchain",
          "Ryo",
          "Urals Coin",
          "Qwertycoin",
          "Project Pai",
          "Azart",
          "Xchange",
          "CrypticCoin",
          "Actinium",
          "Bitcoin SV",
          "FREDEnergy",
          "Universal Molecule",
          "Lithium",
          "PirateCash",
          "Exosis",
          "Block-Logic",
          "Beam",
          "Bithereum",
          "SLICE",
          "BLAST",
          "Bitcoin Rhodium",
          "GlobalToken",
          "SolarCoin",
          "UFO Coin",
          "BlakeCoin",
          "Crypto Escudo",
          "Crown Coin",
          "SmileyCoin",
          "Groestlcoin",
          "Bata",
          "Pakcoin",
          "JoinCoin",
          "Vollar",
          "Reality Clash",
          "Beldex",
          "Horizen"
         ],
         "legendgroup": "Class=3",
         "marker": {
          "color": [
           3,
           3,
           3,
           3,
           3,
           3,
           3,
           3,
           3,
           3,
           3,
           3,
           3,
           3,
           3,
           3,
           3,
           3,
           3,
           3,
           3,
           3,
           3,
           3,
           3,
           3,
           3,
           3,
           3,
           3,
           3,
           3,
           3,
           3,
           3,
           3,
           3,
           3,
           3,
           3,
           3,
           3,
           3,
           3,
           3,
           3,
           3,
           3,
           3,
           3,
           3,
           3,
           3,
           3,
           3,
           3,
           3,
           3,
           3,
           3,
           3,
           3,
           3,
           3,
           3,
           3,
           3,
           3,
           3,
           3,
           3,
           3,
           3,
           3,
           3,
           3,
           3,
           3,
           3,
           3,
           3,
           3,
           3,
           3,
           3,
           3,
           3,
           3,
           3,
           3,
           3,
           3,
           3,
           3,
           3,
           3,
           3,
           3,
           3,
           3,
           3,
           3,
           3,
           3,
           3,
           3,
           3,
           3,
           3,
           3,
           3,
           3,
           3,
           3,
           3,
           3,
           3,
           3,
           3,
           3,
           3,
           3,
           3,
           3,
           3,
           3,
           3,
           3,
           3,
           3,
           3,
           3,
           3,
           3,
           3,
           3,
           3,
           3,
           3,
           3,
           3,
           3,
           3,
           3,
           3,
           3,
           3,
           3,
           3,
           3,
           3,
           3,
           3,
           3,
           3,
           3,
           3,
           3,
           3,
           3,
           3,
           3,
           3,
           3,
           3,
           3,
           3,
           3,
           3,
           3,
           3,
           3,
           3,
           3,
           3,
           3,
           3,
           3,
           3,
           3,
           3,
           3,
           3,
           3,
           3,
           3,
           3,
           3,
           3,
           3,
           3,
           3,
           3,
           3,
           3,
           3,
           3,
           3,
           3,
           3,
           3,
           3,
           3,
           3,
           3,
           3,
           3,
           3,
           3,
           3,
           3,
           3,
           3,
           3,
           3,
           3,
           3,
           3,
           3,
           3,
           3,
           3,
           3,
           3,
           3,
           3,
           3,
           3,
           3,
           3,
           3,
           3,
           3,
           3,
           3,
           3,
           3,
           3,
           3,
           3
          ],
          "coloraxis": "coloraxis",
          "symbol": "diamond"
         },
         "mode": "markers",
         "name": "Class=3",
         "scene": "scene",
         "showlegend": true,
         "type": "scatter3d",
         "x": [
          -0.14218320082208144,
          -0.15323260941451125,
          -0.16666836273360358,
          -0.146895735276093,
          -0.1516749921876458,
          -0.17091545663355923,
          0.16496964515366835,
          -0.16781414417699222,
          -0.2224292621534649,
          -0.16743079061243946,
          -0.088345431274447,
          2.5534639189918478,
          -0.13926932663022382,
          -0.16468721341325143,
          -0.16723484497723967,
          -0.22879606312989714,
          -0.21067523142930944,
          -0.16728370087579078,
          -0.16779641937645567,
          -0.16788284666454237,
          -0.22251856249572105,
          0.18869713750044334,
          0.23551228091144996,
          0.08074729216479087,
          -0.16762925626188724,
          -0.16323625375885004,
          -0.16756855807839052,
          -0.16793982416847994,
          -0.17042523489254013,
          -0.14716992230579062,
          -0.16673542888029316,
          -0.16701272813249024,
          1.5802561808238826,
          -0.14214459025279025,
          -0.16430311280341198,
          -0.16765568629686567,
          -0.16801035594650157,
          -0.16726990308734838,
          -0.13889419239175554,
          -0.16789166545440073,
          -0.03283493119975748,
          -0.14222216061342458,
          -0.16155816593126668,
          -0.1678710941064705,
          -0.16596592912551336,
          -0.16735803862350715,
          -0.12937904851782575,
          -0.14168615099277884,
          -0.14197321788594872,
          -0.14195613079480868,
          -0.14254670095374522,
          -0.22269240513838318,
          -0.16758772604858493,
          -0.17865447455181854,
          -0.16469189213478547,
          -0.14175341521153426,
          3.864269712933199,
          0.4646290676163846,
          -0.16645573186872312,
          -0.15105925550503638,
          -0.1651750825833666,
          -0.16801256139618825,
          -0.16504020541100647,
          -0.15126918900446007,
          -0.12993977901442524,
          -0.12233866551261376,
          -0.18152150879743223,
          -0.16788570314770587,
          -0.04086820320934212,
          -0.1174013210770889,
          -0.1680214536076337,
          -0.14224992377264453,
          0.48399307016819954,
          -0.2220798381225781,
          -0.14900256808655454,
          -0.14198985100336498,
          -0.22236461508390012,
          -0.16614576142877163,
          -0.16533833654534874,
          -0.15429947991567236,
          0.37169294860182034,
          -0.22240000414640354,
          -0.14214571202383805,
          -0.1639809608441174,
          -0.14348592531571924,
          -0.16658537220032552,
          0.2761675285504468,
          -0.22156101590025495,
          -0.15302132424945253,
          -0.1668324917837005,
          -0.150961519601275,
          -0.16781143280542601,
          -0.22236324755879275,
          -0.1680215120786555,
          -0.2225131411885137,
          -0.3544289029506101,
          0.30959276427503934,
          -0.142405686499991,
          -0.10241889421047554,
          -0.16518926544921803,
          -0.14236433562808448,
          -0.16768502399777302,
          -0.15341689234058306,
          -0.1540417503361059,
          -0.17093706254255622,
          -0.09476425711554641,
          -0.2091023795642034,
          -0.22034198490903825,
          0.30958715416139976,
          -0.1680032549480869,
          0.30971781111138813,
          -0.14954285109981397,
          0.4925727386287944,
          -0.14566068865720352,
          -0.1679715570816817,
          -0.21524890241146763,
          -0.1709494393487067,
          -0.16610558321317082,
          -0.14926135334381566,
          -0.1386845220213808,
          -0.13890185602016242,
          -0.18726677796041083,
          -0.1675340926702217,
          -0.10874297039534321,
          -0.16735617302416378,
          -0.14551866508071662,
          -0.1487894070546406,
          -0.02840305798154333,
          -0.1587765184758747,
          0.34569468110148494,
          -0.22156937168901294,
          -0.1676753799895088,
          -0.16743876622856435,
          -0.22196393183145807,
          -0.22254117206877413,
          0.30998200707287993,
          -0.14735605364503465,
          3.240336567927047,
          -0.12301299441615758,
          -0.21341574667829386,
          -0.14218236547001536,
          -0.09361154087092641,
          1.578101271164191,
          -0.167773175593234,
          -0.16722496773728285,
          -0.16692606366854504,
          -0.16691300132862988,
          0.3101655950559532,
          0.04131121368799939,
          -0.17694789706789582,
          -0.17511220040273257,
          -0.17079556160250858,
          -0.1517807962343967,
          -0.16610379329087435,
          -0.2180872059650573,
          -0.17495765447003953,
          -0.15240726615015085,
          -0.17505783545947987,
          -0.11257413922199896,
          1.1472747810731525,
          0.3095699150067501,
          -0.07731496344357205,
          -0.21782849693927714,
          -0.13463448092205624,
          -0.08419381508045062,
          1.0886611628172294,
          -0.2225151821971802,
          -0.17510977280238946,
          -0.1681502331217099,
          -0.16702447087243458,
          -0.22244062141261559,
          -0.1421617752201113,
          -0.18887987551429222,
          -0.2804883353848197,
          8.045503524157118,
          -0.14490627218228772,
          0.3134430225766388,
          0.02494026151688172,
          -0.15128438482402934,
          -0.16421784969648723,
          -0.16759795004434722,
          0.1393583725938605,
          -0.21658355769786714,
          -0.1054570549014439,
          0.31749102166860693,
          -0.16783487817984574,
          -0.1402248315100292,
          -0.16978707038491575,
          -0.15120096786590106,
          -0.22161012318093648,
          0.30975235213561875,
          -0.18732626530772573,
          -0.14938813546966814,
          -0.13819858814452426,
          -0.1535012480279702,
          0.3136797515516594,
          0.5848935780667103,
          2.1176888171427666,
          -0.1510982290205842,
          0.32335233632486005,
          -0.196861692739068,
          -0.14444765776957205,
          -0.22249734909515936,
          -0.16785944511459416,
          -0.13451287013417493,
          -0.14765537868889766,
          -0.139120837600938,
          3.1065352778280646,
          -0.1020264553439145,
          -0.22246872115485877,
          -0.1962895483598754,
          -0.06558018838539656,
          -0.1528991579592991,
          -0.14218240301617846,
          0.389488209345588,
          -0.13749657088294287,
          -0.1378885588432974,
          -0.2962178453319858,
          -0.15099420927493148,
          -0.16675210885141442,
          -0.1688561624818918,
          -0.17062844586671494,
          -0.180732680883098,
          -0.14145882826473047,
          -0.11465826638710874,
          -0.14032713352536727,
          0.5279025690998438,
          -0.10030557449184863,
          -0.08836503393231612,
          -0.15141969783569378,
          -0.1419725886599978,
          0.547552706495101,
          -0.21023641350925643,
          -0.16793627935235997,
          -0.16589267500407895,
          -0.12307316799347334,
          -0.131398238433802,
          -0.1540748953958574,
          0.33131873190141664,
          -0.17091651303911803
         ],
         "y": [
          -1.3385671898153388,
          -2.0389955506471407,
          -1.0905917716855618,
          -2.207954941340484,
          -2.0391023227908867,
          -2.1264925789511433,
          -1.8438607688901858,
          -1.0905777303492112,
          -0.935056625783982,
          -1.090597885310933,
          -1.8371803910468323,
          -1.28916912627506,
          -1.3385948452356755,
          -1.0906562892142284,
          -1.0906180736440318,
          -0.4852659443993176,
          -1.2081456481582655,
          -1.0905828205788466,
          -1.0905772603766992,
          -1.09057400985826,
          -0.9350575833671507,
          -1.840097437884071,
          -1.3433450305227543,
          -1.0934912591576673,
          -1.0905728280521283,
          -1.090652926039684,
          -1.0905789748105914,
          -1.090574177960763,
          -1.6531548579423518,
          -1.0910172229716395,
          -1.0905836784546645,
          -1.090592614492481,
          -1.1080955219808222,
          -1.338566166057342,
          -1.0906569781015707,
          -1.0905728237373926,
          -1.0905690775599668,
          -1.0905781070457485,
          -2.171346449359041,
          -1.090572029654539,
          -1.0975605475190342,
          -1.3385682228329432,
          -1.0906346668659583,
          -1.0905792403747476,
          -1.0906901943199376,
          -1.0905869309342058,
          -1.338839015256837,
          -1.3385723517566133,
          -1.3385764293559919,
          -1.3386027703301104,
          -1.3385621970547144,
          -0.9350495008865563,
          -1.0905731370923826,
          -1.3204104985331737,
          -1.0906672865729543,
          -1.338572716613969,
          -2.325776616660469,
          -2.292900204866608,
          -1.090601025629223,
          -1.0913032462998065,
          -1.0906102682948602,
          -1.090570037163191,
          -1.0906021892224411,
          -1.0908293404246192,
          -2.102422822117771,
          -1.8366715080369787,
          -1.5825470649143651,
          -1.0905671976524096,
          -1.0942480181785754,
          -2.17950357484132,
          -1.0905688567184588,
          -1.3385689589722105,
          -1.1381500516266823,
          -0.9350565271984644,
          -2.2283658286069117,
          -1.3385851624321505,
          -0.9350556167752834,
          -1.0906669275428362,
          -1.0906735537229943,
          -2.0390357594902553,
          -2.2165959450142796,
          -0.9350530295838423,
          -1.3385661958010653,
          -1.0906093586999224,
          -2.1721278675828066,
          -1.0905895711942588,
          -1.342708651894874,
          -0.9350787310631721,
          -2.1823460846896467,
          -1.0906556001914727,
          -2.251340513960132,
          -1.0905769533510246,
          -0.9350584009404295,
          -1.090568856132344,
          -0.9350623753651683,
          -1.808182446746261,
          -2.2899669759172676,
          -1.338565146698998,
          -1.836989463454893,
          -1.09063434579483,
          -1.3385646864979344,
          -1.0905806526881576,
          -2.2018280305570817,
          -2.0390354826820123,
          -2.126493151831121,
          -1.0956770703029053,
          -0.9350417149272318,
          -0.9351479437969942,
          -2.2899748808380833,
          -1.0905698512438193,
          -2.2899742368983143,
          -2.228340816949298,
          -0.986594894511709,
          -2.2080526387770165,
          -1.0905694660728997,
          -0.9355572429102907,
          -2.126490659576706,
          -1.0905881313049197,
          -2.2283411092149494,
          -2.1865324139244757,
          -1.092616739763578,
          -0.6416155879475782,
          -1.0905805432174787,
          -1.3394284816007083,
          -1.0906015476780564,
          -2.2079924645258804,
          -2.1444466416212444,
          -2.2274444129012245,
          -2.2675479880574643,
          -2.2904128962139922,
          -0.9350902343167607,
          -1.09057283598217,
          -1.0906058529529694,
          -0.9350724918158615,
          -0.9350588174548797,
          -2.289987679832418,
          -2.1682481705603185,
          -1.1412171688400967,
          -1.1324976169962475,
          -0.9355791474711317,
          -1.3385671676660036,
          -1.0959990591977702,
          -1.0442700324075682,
          -1.0905759389622818,
          -1.0906065300492134,
          -1.0906098863176288,
          -1.090609539970109,
          -2.290007412376237,
          -2.1356578198357625,
          -0.93510577799971,
          -1.6530612548475248,
          -2.1264893999382752,
          -2.1824022517970882,
          -1.0905880838451878,
          -0.9351741813697174,
          -1.653069848979759,
          -2.039171096449321,
          -1.653063197872851,
          -1.8368779720685042,
          -2.327682845191826,
          -2.28996934453052,
          -2.0440336592976083,
          -0.9353083429597828,
          -2.2083345752494967,
          -1.0918712640861798,
          -1.308231826448749,
          -0.935058762929908,
          -1.6530569598422358,
          -1.653210173770293,
          -1.0905871117561825,
          -0.9350590422931433,
          -1.3385660336575753,
          -1.2430388552776306,
          -0.12705455047284023,
          -2.789948759062009,
          -2.2029527278294903,
          -2.2900947510830187,
          -1.0925031088670416,
          -2.1823493872350466,
          -1.3207440998502102,
          -1.0905853949876774,
          -1.0953971304485484,
          -0.9352400781232275,
          -2.0423119740400675,
          -2.290455609073163,
          -1.0905782801106256,
          -2.206745368253099,
          -2.1264972100329134,
          -2.2019657179947316,
          -0.9350913148412501,
          -2.2899686673428756,
          -0.6415979496969358,
          -2.2283481937999516,
          -2.1388305325301813,
          -2.2018225815871943,
          -2.2902746226391466,
          -2.2367725542208694,
          -2.371757867941,
          -2.2014472035403134,
          -2.2903001965048255,
          -1.2811235289952954,
          -2.1835300487176275,
          -0.9350591362132942,
          -1.0905797108299626,
          -2.208860546022861,
          -2.225575488470945,
          -0.6340755788101399,
          -2.299876491584686,
          -1.3389683509185646,
          -0.9350611975694141,
          -1.2811633035171497,
          -2.1290436180498795,
          -2.201858442498447,
          -1.3385671686615386,
          -2.2935387582763447,
          -2.197004727414732,
          -2.196958789176779,
          -0.21455787414276045,
          -2.2301014358897495,
          -1.090619376036436,
          -2.126608471526459,
          -2.1264919395504154,
          -1.5825966597935106,
          -1.3385783026695053,
          -0.378970573595919,
          -1.3386216268709168,
          -1.1412869408551616,
          -1.6538791467447196,
          -2.2005636293352184,
          -1.0908333311614065,
          -1.3385764126720863,
          -1.1068503071106714,
          -1.2081488201467314,
          -1.0905696870593111,
          -1.0906403047637667,
          -1.8366929576439983,
          -2.2083333300400376,
          -2.039035150435215,
          -2.2903711672507607,
          -2.126492606961702
         ],
         "z": [
          0.1871518052665431,
          0.36761132120156215,
          -0.02032010663266,
          0.33874961601729525,
          0.3676015387104661,
          0.4978326592638174,
          0.3033741879172302,
          -0.020306958758405654,
          0.020209055806014623,
          -0.020309931420869107,
          0.30595099808424536,
          -0.03628558872784305,
          0.18711762531910892,
          -0.02033912724624436,
          -0.02031053856455427,
          0.10528135780049279,
          0.10769469237138089,
          -0.020313175744283055,
          -0.020307225562578687,
          -0.020306436020130953,
          0.020210269877218804,
          0.302727813036261,
          0.18283151168580108,
          -0.023171439082767184,
          -0.02030974180057115,
          -0.020357728194141653,
          -0.02030993974872371,
          -0.02030570225730304,
          0.1786738477531833,
          -0.02052664196085843,
          -0.020320008025645125,
          -0.02031568783658607,
          -0.04072640911291766,
          0.18715122407743429,
          -0.02034390559878006,
          -0.020309409025226433,
          -0.020305283793317083,
          -0.020313784628535485,
          0.3613245485991217,
          -0.020306507579101418,
          -0.021364134587994806,
          0.18715239171234624,
          -0.020380566849126626,
          -0.020306101514410084,
          -0.02031987926163174,
          -0.020311859360870987,
          0.18701548109402058,
          0.18714601585166032,
          0.18715001084768282,
          0.18715222611883006,
          0.18715592678324597,
          0.020211715486506836,
          -0.02031023680756284,
          0.15502213600746806,
          -0.020338053462518442,
          0.18714689744341056,
          0.3212245706583583,
          0.3610462472624524,
          -0.02032193310188647,
          -0.020451220141588854,
          -0.020337223909592292,
          -0.020305167442308657,
          -0.02033966966662414,
          -0.020492304408386397,
          0.49748806781159555,
          0.3063325540125154,
          0.19076846551989105,
          -0.020307028622294946,
          -0.02156853883818978,
          0.3976355384798257,
          -0.02030516427629523,
          0.18715280961982647,
          -0.024133717661589282,
          0.020204641916095795,
          0.3641228645897506,
          0.18715102638549688,
          0.020208147765279533,
          -0.0203197593103496,
          -0.020329326156051035,
          0.36762848038431445,
          0.3529347909661902,
          0.02020835513655471,
          0.1871512409629952,
          -0.020352360783769695,
          0.3041834471075273,
          -0.02032135585521175,
          0.182260293880803,
          0.020200150620627723,
          0.40358744430158106,
          -0.02031214773423,
          0.4230189531837819,
          -0.02030706463673463,
          0.020208387441129454,
          -0.020305163593302398,
          0.02021064372863046,
          1.0156365745822409,
          0.3627299443611061,
          0.18715442135847268,
          0.3061107880363778,
          -0.02033482332037077,
          0.18715385762887596,
          -0.020308316765197967,
          0.38536309183652334,
          0.36762520593654374,
          0.497832984488727,
          -0.020757263582620315,
          0.020039682970767723,
          0.020191170428982448,
          0.3627307445246299,
          -0.020305301914252852,
          0.36272903805964785,
          0.3641273673220961,
          0.015951637987827307,
          0.3387430624205807,
          -0.02030573703578538,
          0.020164736646023296,
          0.4978329105310814,
          -0.020327536880012424,
          0.3641238457683527,
          0.26642951390238756,
          -0.020483269328616174,
          0.008067884772235833,
          -0.020310229487021273,
          0.18680973969087747,
          -0.02031053408761303,
          0.33873571938484315,
          0.2687637539649544,
          0.35897941303829917,
          0.47320976526178987,
          0.3623159966446851,
          0.02020131743948414,
          -0.020309159639250972,
          -0.02030909565040363,
          0.020204653985465844,
          0.020210668768520384,
          0.36272694811558465,
          0.36947589257710783,
          -0.05859679151397801,
          0.11470498070207373,
          0.02014364941870785,
          0.18715179269232884,
          -0.020742082367972158,
          -0.04658887578174671,
          -0.020307640506902185,
          -0.020311728285193138,
          -0.020315186523300235,
          -0.020315383145360293,
          0.3627264546919005,
          0.49600310002330433,
          0.01964025940727244,
          0.17872429359306513,
          0.497830854532951,
          0.403576989308732,
          -0.02032756382298073,
          0.020165168113477044,
          0.17872313844925983,
          0.36761711589223134,
          0.17872378757258575,
          0.30622851559869313,
          0.3556505476662073,
          0.36273045096470014,
          0.3671192155438142,
          0.020174286904649712,
          0.33863008379681614,
          -0.02124170193134,
          0.19927123358219542,
          0.020210336112258493,
          0.17872386666042037,
          0.17865027376852477,
          -0.02031604758572742,
          0.020209421987781532,
          0.18715142849137395,
          0.08081517955267277,
          0.1716045700920834,
          0.311348954702794,
          0.34873225032207783,
          0.3626931992403635,
          -0.022559126741570002,
          0.4035658534241444,
          0.15487093360240956,
          -0.020308976802188752,
          -0.0237344142677605,
          0.020152294085357007,
          0.3673150988705464,
          0.36267546963300745,
          -0.020306646657941116,
          0.261186776307928,
          0.49781886232005235,
          0.3853478635857619,
          0.02020193085502441,
          0.362728088697671,
          0.008067007055159846,
          0.36412609771189214,
          0.3457353236502905,
          0.38536365239792186,
          0.3627068130922968,
          0.39332131191956976,
          0.34748475308784615,
          0.3228588411364851,
          0.3625872416608073,
          0.25595791901680975,
          0.3676584794589799,
          0.020210145756061736,
          -0.02030620494780478,
          0.33867708584582457,
          0.28004674017198106,
          0.0017246742042931614,
          0.36735688137234607,
          0.18668261267226513,
          0.0202099750920317,
          0.25595437691865464,
          0.49674021941367236,
          0.385359371671756,
          0.1871517932574959,
          0.3620523867585355,
          0.3556356006761886,
          0.3556363029766989,
          0.301801865563307,
          0.5473864255898068,
          -0.020316503690781328,
          0.4978173943072961,
          0.4978289822423197,
          0.19076309813209463,
          0.1871436993846593,
          -0.02047934822769308,
          0.18713343122342735,
          -0.024397771903833004,
          0.17785676393679328,
          0.35534466022707256,
          -0.02049003886050908,
          0.187150001376202,
          -0.02782319165880441,
          0.10768945339310405,
          -0.020306161350151043,
          -0.020325406356950376,
          0.30634379236039566,
          0.403549550683116,
          0.3676255930999753,
          0.3624933673153102,
          0.4978326751654564
         ]
        },
        {
         "customdata": [
          [
           "SHA-256 + Hive"
          ],
          [
           "Proof-of-Authority"
          ],
          [
           "ECC 256K1"
          ],
          [
           "Leased POS"
          ]
         ],
         "hoverlabel": {
          "namelength": 0
         },
         "hovertemplate": "<b>%{hovertext}</b><br><br>Class=%{marker.color}<br>PC1=%{x}<br>PC2=%{y}<br>PC3=%{z}<br>Algorithm=%{customdata[0]}",
         "hovertext": [
          "LitecoinCash",
          "Poa Network",
          "Acute Angle Cloud",
          "Waves"
         ],
         "legendgroup": "Class=1",
         "marker": {
          "color": [
           1,
           1,
           1,
           1
          ],
          "coloraxis": "coloraxis",
          "symbol": "square"
         },
         "mode": "markers",
         "name": "Class=1",
         "scene": "scene",
         "showlegend": true,
         "type": "scatter3d",
         "x": [
          -0.3515757649479635,
          -0.392899408547046,
          -0.35196031154156765,
          -0.41470561528038985
         ],
         "y": [
          2.14851659857565,
          3.135306976674505,
          4.628932794160339,
          3.23565986159396
         ],
         "z": [
          15.471959000895414,
          8.598440980930027,
          11.988713509726553,
          23.16601151712892
         ]
        },
        {
         "customdata": [
          [
           "TRC10"
          ]
         ],
         "hoverlabel": {
          "namelength": 0
         },
         "hovertemplate": "<b>%{hovertext}</b><br><br>Class=%{marker.color}<br>PC1=%{x}<br>PC2=%{y}<br>PC3=%{z}<br>Algorithm=%{customdata[0]}",
         "hovertext": [
          "BitTorrent"
         ],
         "legendgroup": "Class=2",
         "marker": {
          "color": [
           2
          ],
          "coloraxis": "coloraxis",
          "symbol": "x"
         },
         "mode": "markers",
         "name": "Class=2",
         "scene": "scene",
         "showlegend": true,
         "type": "scatter3d",
         "x": [
          34.04967028360085
         ],
         "y": [
          1.5988117702578477
         ],
         "z": [
          -0.4135841174176841
         ]
        }
       ],
       "layout": {
        "autosize": true,
        "coloraxis": {
         "colorbar": {
          "title": {
           "text": "Class"
          }
         },
         "colorscale": [
          [
           0,
           "#0d0887"
          ],
          [
           0.1111111111111111,
           "#46039f"
          ],
          [
           0.2222222222222222,
           "#7201a8"
          ],
          [
           0.3333333333333333,
           "#9c179e"
          ],
          [
           0.4444444444444444,
           "#bd3786"
          ],
          [
           0.5555555555555556,
           "#d8576b"
          ],
          [
           0.6666666666666666,
           "#ed7953"
          ],
          [
           0.7777777777777778,
           "#fb9f3a"
          ],
          [
           0.8888888888888888,
           "#fdca26"
          ],
          [
           1,
           "#f0f921"
          ]
         ]
        },
        "legend": {
         "tracegroupgap": 0,
         "x": 0,
         "y": 1
        },
        "margin": {
         "t": 60
        },
        "scene": {
         "aspectmode": "auto",
         "aspectratio": {
          "x": 1,
          "y": 1,
          "z": 1
         },
         "domain": {
          "x": [
           0,
           0.98
          ],
          "y": [
           0,
           1
          ]
         },
         "xaxis": {
          "title": {
           "text": "PC1"
          },
          "type": "linear"
         },
         "yaxis": {
          "title": {
           "text": "PC2"
          },
          "type": "linear"
         },
         "zaxis": {
          "title": {
           "text": "PC3"
          },
          "type": "linear"
         }
        },
        "template": {
         "data": {
          "bar": [
           {
            "error_x": {
             "color": "#2a3f5f"
            },
            "error_y": {
             "color": "#2a3f5f"
            },
            "marker": {
             "line": {
              "color": "#E5ECF6",
              "width": 0.5
             }
            },
            "type": "bar"
           }
          ],
          "barpolar": [
           {
            "marker": {
             "line": {
              "color": "#E5ECF6",
              "width": 0.5
             }
            },
            "type": "barpolar"
           }
          ],
          "carpet": [
           {
            "aaxis": {
             "endlinecolor": "#2a3f5f",
             "gridcolor": "white",
             "linecolor": "white",
             "minorgridcolor": "white",
             "startlinecolor": "#2a3f5f"
            },
            "baxis": {
             "endlinecolor": "#2a3f5f",
             "gridcolor": "white",
             "linecolor": "white",
             "minorgridcolor": "white",
             "startlinecolor": "#2a3f5f"
            },
            "type": "carpet"
           }
          ],
          "choropleth": [
           {
            "colorbar": {
             "outlinewidth": 0,
             "ticks": ""
            },
            "type": "choropleth"
           }
          ],
          "contour": [
           {
            "colorbar": {
             "outlinewidth": 0,
             "ticks": ""
            },
            "colorscale": [
             [
              0,
              "#0d0887"
             ],
             [
              0.1111111111111111,
              "#46039f"
             ],
             [
              0.2222222222222222,
              "#7201a8"
             ],
             [
              0.3333333333333333,
              "#9c179e"
             ],
             [
              0.4444444444444444,
              "#bd3786"
             ],
             [
              0.5555555555555556,
              "#d8576b"
             ],
             [
              0.6666666666666666,
              "#ed7953"
             ],
             [
              0.7777777777777778,
              "#fb9f3a"
             ],
             [
              0.8888888888888888,
              "#fdca26"
             ],
             [
              1,
              "#f0f921"
             ]
            ],
            "type": "contour"
           }
          ],
          "contourcarpet": [
           {
            "colorbar": {
             "outlinewidth": 0,
             "ticks": ""
            },
            "type": "contourcarpet"
           }
          ],
          "heatmap": [
           {
            "colorbar": {
             "outlinewidth": 0,
             "ticks": ""
            },
            "colorscale": [
             [
              0,
              "#0d0887"
             ],
             [
              0.1111111111111111,
              "#46039f"
             ],
             [
              0.2222222222222222,
              "#7201a8"
             ],
             [
              0.3333333333333333,
              "#9c179e"
             ],
             [
              0.4444444444444444,
              "#bd3786"
             ],
             [
              0.5555555555555556,
              "#d8576b"
             ],
             [
              0.6666666666666666,
              "#ed7953"
             ],
             [
              0.7777777777777778,
              "#fb9f3a"
             ],
             [
              0.8888888888888888,
              "#fdca26"
             ],
             [
              1,
              "#f0f921"
             ]
            ],
            "type": "heatmap"
           }
          ],
          "heatmapgl": [
           {
            "colorbar": {
             "outlinewidth": 0,
             "ticks": ""
            },
            "colorscale": [
             [
              0,
              "#0d0887"
             ],
             [
              0.1111111111111111,
              "#46039f"
             ],
             [
              0.2222222222222222,
              "#7201a8"
             ],
             [
              0.3333333333333333,
              "#9c179e"
             ],
             [
              0.4444444444444444,
              "#bd3786"
             ],
             [
              0.5555555555555556,
              "#d8576b"
             ],
             [
              0.6666666666666666,
              "#ed7953"
             ],
             [
              0.7777777777777778,
              "#fb9f3a"
             ],
             [
              0.8888888888888888,
              "#fdca26"
             ],
             [
              1,
              "#f0f921"
             ]
            ],
            "type": "heatmapgl"
           }
          ],
          "histogram": [
           {
            "marker": {
             "colorbar": {
              "outlinewidth": 0,
              "ticks": ""
             }
            },
            "type": "histogram"
           }
          ],
          "histogram2d": [
           {
            "colorbar": {
             "outlinewidth": 0,
             "ticks": ""
            },
            "colorscale": [
             [
              0,
              "#0d0887"
             ],
             [
              0.1111111111111111,
              "#46039f"
             ],
             [
              0.2222222222222222,
              "#7201a8"
             ],
             [
              0.3333333333333333,
              "#9c179e"
             ],
             [
              0.4444444444444444,
              "#bd3786"
             ],
             [
              0.5555555555555556,
              "#d8576b"
             ],
             [
              0.6666666666666666,
              "#ed7953"
             ],
             [
              0.7777777777777778,
              "#fb9f3a"
             ],
             [
              0.8888888888888888,
              "#fdca26"
             ],
             [
              1,
              "#f0f921"
             ]
            ],
            "type": "histogram2d"
           }
          ],
          "histogram2dcontour": [
           {
            "colorbar": {
             "outlinewidth": 0,
             "ticks": ""
            },
            "colorscale": [
             [
              0,
              "#0d0887"
             ],
             [
              0.1111111111111111,
              "#46039f"
             ],
             [
              0.2222222222222222,
              "#7201a8"
             ],
             [
              0.3333333333333333,
              "#9c179e"
             ],
             [
              0.4444444444444444,
              "#bd3786"
             ],
             [
              0.5555555555555556,
              "#d8576b"
             ],
             [
              0.6666666666666666,
              "#ed7953"
             ],
             [
              0.7777777777777778,
              "#fb9f3a"
             ],
             [
              0.8888888888888888,
              "#fdca26"
             ],
             [
              1,
              "#f0f921"
             ]
            ],
            "type": "histogram2dcontour"
           }
          ],
          "mesh3d": [
           {
            "colorbar": {
             "outlinewidth": 0,
             "ticks": ""
            },
            "type": "mesh3d"
           }
          ],
          "parcoords": [
           {
            "line": {
             "colorbar": {
              "outlinewidth": 0,
              "ticks": ""
             }
            },
            "type": "parcoords"
           }
          ],
          "scatter": [
           {
            "marker": {
             "colorbar": {
              "outlinewidth": 0,
              "ticks": ""
             }
            },
            "type": "scatter"
           }
          ],
          "scatter3d": [
           {
            "line": {
             "colorbar": {
              "outlinewidth": 0,
              "ticks": ""
             }
            },
            "marker": {
             "colorbar": {
              "outlinewidth": 0,
              "ticks": ""
             }
            },
            "type": "scatter3d"
           }
          ],
          "scattercarpet": [
           {
            "marker": {
             "colorbar": {
              "outlinewidth": 0,
              "ticks": ""
             }
            },
            "type": "scattercarpet"
           }
          ],
          "scattergeo": [
           {
            "marker": {
             "colorbar": {
              "outlinewidth": 0,
              "ticks": ""
             }
            },
            "type": "scattergeo"
           }
          ],
          "scattergl": [
           {
            "marker": {
             "colorbar": {
              "outlinewidth": 0,
              "ticks": ""
             }
            },
            "type": "scattergl"
           }
          ],
          "scattermapbox": [
           {
            "marker": {
             "colorbar": {
              "outlinewidth": 0,
              "ticks": ""
             }
            },
            "type": "scattermapbox"
           }
          ],
          "scatterpolar": [
           {
            "marker": {
             "colorbar": {
              "outlinewidth": 0,
              "ticks": ""
             }
            },
            "type": "scatterpolar"
           }
          ],
          "scatterpolargl": [
           {
            "marker": {
             "colorbar": {
              "outlinewidth": 0,
              "ticks": ""
             }
            },
            "type": "scatterpolargl"
           }
          ],
          "scatterternary": [
           {
            "marker": {
             "colorbar": {
              "outlinewidth": 0,
              "ticks": ""
             }
            },
            "type": "scatterternary"
           }
          ],
          "surface": [
           {
            "colorbar": {
             "outlinewidth": 0,
             "ticks": ""
            },
            "colorscale": [
             [
              0,
              "#0d0887"
             ],
             [
              0.1111111111111111,
              "#46039f"
             ],
             [
              0.2222222222222222,
              "#7201a8"
             ],
             [
              0.3333333333333333,
              "#9c179e"
             ],
             [
              0.4444444444444444,
              "#bd3786"
             ],
             [
              0.5555555555555556,
              "#d8576b"
             ],
             [
              0.6666666666666666,
              "#ed7953"
             ],
             [
              0.7777777777777778,
              "#fb9f3a"
             ],
             [
              0.8888888888888888,
              "#fdca26"
             ],
             [
              1,
              "#f0f921"
             ]
            ],
            "type": "surface"
           }
          ],
          "table": [
           {
            "cells": {
             "fill": {
              "color": "#EBF0F8"
             },
             "line": {
              "color": "white"
             }
            },
            "header": {
             "fill": {
              "color": "#C8D4E3"
             },
             "line": {
              "color": "white"
             }
            },
            "type": "table"
           }
          ]
         },
         "layout": {
          "annotationdefaults": {
           "arrowcolor": "#2a3f5f",
           "arrowhead": 0,
           "arrowwidth": 1
          },
          "colorscale": {
           "diverging": [
            [
             0,
             "#8e0152"
            ],
            [
             0.1,
             "#c51b7d"
            ],
            [
             0.2,
             "#de77ae"
            ],
            [
             0.3,
             "#f1b6da"
            ],
            [
             0.4,
             "#fde0ef"
            ],
            [
             0.5,
             "#f7f7f7"
            ],
            [
             0.6,
             "#e6f5d0"
            ],
            [
             0.7,
             "#b8e186"
            ],
            [
             0.8,
             "#7fbc41"
            ],
            [
             0.9,
             "#4d9221"
            ],
            [
             1,
             "#276419"
            ]
           ],
           "sequential": [
            [
             0,
             "#0d0887"
            ],
            [
             0.1111111111111111,
             "#46039f"
            ],
            [
             0.2222222222222222,
             "#7201a8"
            ],
            [
             0.3333333333333333,
             "#9c179e"
            ],
            [
             0.4444444444444444,
             "#bd3786"
            ],
            [
             0.5555555555555556,
             "#d8576b"
            ],
            [
             0.6666666666666666,
             "#ed7953"
            ],
            [
             0.7777777777777778,
             "#fb9f3a"
            ],
            [
             0.8888888888888888,
             "#fdca26"
            ],
            [
             1,
             "#f0f921"
            ]
           ],
           "sequentialminus": [
            [
             0,
             "#0d0887"
            ],
            [
             0.1111111111111111,
             "#46039f"
            ],
            [
             0.2222222222222222,
             "#7201a8"
            ],
            [
             0.3333333333333333,
             "#9c179e"
            ],
            [
             0.4444444444444444,
             "#bd3786"
            ],
            [
             0.5555555555555556,
             "#d8576b"
            ],
            [
             0.6666666666666666,
             "#ed7953"
            ],
            [
             0.7777777777777778,
             "#fb9f3a"
            ],
            [
             0.8888888888888888,
             "#fdca26"
            ],
            [
             1,
             "#f0f921"
            ]
           ]
          },
          "colorway": [
           "#636efa",
           "#EF553B",
           "#00cc96",
           "#ab63fa",
           "#FFA15A",
           "#19d3f3",
           "#FF6692",
           "#B6E880",
           "#FF97FF",
           "#FECB52"
          ],
          "font": {
           "color": "#2a3f5f"
          },
          "geo": {
           "bgcolor": "white",
           "lakecolor": "white",
           "landcolor": "#E5ECF6",
           "showlakes": true,
           "showland": true,
           "subunitcolor": "white"
          },
          "hoverlabel": {
           "align": "left"
          },
          "hovermode": "closest",
          "mapbox": {
           "style": "light"
          },
          "paper_bgcolor": "white",
          "plot_bgcolor": "#E5ECF6",
          "polar": {
           "angularaxis": {
            "gridcolor": "white",
            "linecolor": "white",
            "ticks": ""
           },
           "bgcolor": "#E5ECF6",
           "radialaxis": {
            "gridcolor": "white",
            "linecolor": "white",
            "ticks": ""
           }
          },
          "scene": {
           "xaxis": {
            "backgroundcolor": "#E5ECF6",
            "gridcolor": "white",
            "gridwidth": 2,
            "linecolor": "white",
            "showbackground": true,
            "ticks": "",
            "zerolinecolor": "white"
           },
           "yaxis": {
            "backgroundcolor": "#E5ECF6",
            "gridcolor": "white",
            "gridwidth": 2,
            "linecolor": "white",
            "showbackground": true,
            "ticks": "",
            "zerolinecolor": "white"
           },
           "zaxis": {
            "backgroundcolor": "#E5ECF6",
            "gridcolor": "white",
            "gridwidth": 2,
            "linecolor": "white",
            "showbackground": true,
            "ticks": "",
            "zerolinecolor": "white"
           }
          },
          "shapedefaults": {
           "line": {
            "color": "#2a3f5f"
           }
          },
          "ternary": {
           "aaxis": {
            "gridcolor": "white",
            "linecolor": "white",
            "ticks": ""
           },
           "baxis": {
            "gridcolor": "white",
            "linecolor": "white",
            "ticks": ""
           },
           "bgcolor": "#E5ECF6",
           "caxis": {
            "gridcolor": "white",
            "linecolor": "white",
            "ticks": ""
           }
          },
          "title": {
           "x": 0.05
          },
          "xaxis": {
           "automargin": true,
           "gridcolor": "white",
           "linecolor": "white",
           "ticks": "",
           "zerolinecolor": "white",
           "zerolinewidth": 2
          },
          "yaxis": {
           "automargin": true,
           "gridcolor": "white",
           "linecolor": "white",
           "ticks": "",
           "zerolinecolor": "white",
           "zerolinewidth": 2
          }
         }
        }
       }
      },
      "text/html": [
       "<div>\n",
       "        \n",
       "        \n",
       "            <div id=\"f145f518-3f68-4f16-8ac0-de5db1fa0dd2\" class=\"plotly-graph-div\" style=\"height:600px; width:100%;\"></div>\n",
       "            <script type=\"text/javascript\">\n",
       "                require([\"plotly\"], function(Plotly) {\n",
       "                    window.PLOTLYENV=window.PLOTLYENV || {};\n",
       "                    \n",
       "                if (document.getElementById(\"f145f518-3f68-4f16-8ac0-de5db1fa0dd2\")) {\n",
       "                    Plotly.newPlot(\n",
       "                        'f145f518-3f68-4f16-8ac0-de5db1fa0dd2',\n",
       "                        [{\"customdata\": [[\"Scrypt\"], [\"Scrypt\"], [\"X13\"], [\"X11\"], [\"SHA-512\"], [\"SHA-256\"], [\"SHA-256\"], [\"X15\"], [\"Scrypt\"], [\"Scrypt\"], [\"Scrypt\"], [\"Scrypt\"], [\"Scrypt\"], [\"Scrypt\"], [\"Groestl\"], [\"PoS\"], [\"Scrypt\"], [\"Scrypt\"], [\"X11\"], [\"X11\"], [\"SHA3\"], [\"Scrypt\"], [\"SHA-256\"], [\"Scrypt\"], [\"X13\"], [\"X13\"], [\"NeoScrypt\"], [\"Scrypt\"], [\"Scrypt\"], [\"Scrypt\"], [\"X11\"], [\"X11\"], [\"Multiple\"], [\"PHI1612\"], [\"X11\"], [\"Scrypt\"], [\"Scrypt\"], [\"Scrypt\"], [\"X11\"], [\"Multiple\"], [\"X13\"], [\"Scrypt\"], [\"Shabal256\"], [\"Counterparty\"], [\"SHA-256\"], [\"Groestl\"], [\"Scrypt\"], [\"X13\"], [\"Scrypt\"], [\"Scrypt\"], [\"X13\"], [\"X11\"], [\"Scrypt\"], [\"X11\"], [\"SHA3\"], [\"QUAIT\"], [\"X11\"], [\"Scrypt\"], [\"X13\"], [\"SHA-256\"], [\"X15\"], [\"BLAKE256\"], [\"SHA-256\"], [\"X11\"], [\"SHA-256\"], [\"NIST5\"], [\"Scrypt\"], [\"Scrypt\"], [\"X11\"], [\"Scrypt\"], [\"SHA-256\"], [\"Scrypt\"], [\"PoS\"], [\"X11\"], [\"SHA-256\"], [\"SHA-256\"], [\"NIST5\"], [\"X11\"], [\"POS 3.0\"], [\"Scrypt\"], [\"Scrypt\"], [\"Scrypt\"], [\"X13\"], [\"X11\"], [\"X11\"], [\"Scrypt\"], [\"SHA-256\"], [\"X11\"], [\"Scrypt\"], [\"Scrypt\"], [\"Scrypt\"], [\"Scrypt\"], [\"SHA-256D\"], [\"PoS\"], [\"Scrypt\"], [\"X11\"], [\"PoS\"], [\"X13\"], [\"X14\"], [\"PoS\"], [\"SHA-256D\"], [\"DPoS\"], [\"X11\"], [\"X13\"], [\"X11\"], [\"PoS\"], [\"Scrypt\"], [\"Scrypt\"], [\"PoS\"], [\"X11\"], [\"SHA-256\"], [\"Scrypt\"], [\"X11\"], [\"Scrypt\"], [\"Scrypt\"], [\"X11\"], [\"Scrypt\"], [\"Scrypt\"], [\"Scrypt\"], [\"Scrypt\"], [\"Quark\"], [\"QuBit\"], [\"Scrypt\"], [\"SHA-256\"], [\"X11\"], [\"Scrypt\"], [\"Scrypt\"], [\"Scrypt\"], [\"Scrypt\"], [\"X13\"], [\"Scrypt\"], [\"Scrypt\"], [\"X11\"], [\"Blake2S\"], [\"X11\"], [\"PoS\"], [\"X11\"], [\"PoS\"], [\"X11\"], [\"Scrypt\"], [\"Scrypt\"], [\"Scrypt\"], [\"SHA-256\"], [\"X11\"], [\"Scrypt\"], [\"PoS\"], [\"Scrypt\"], [\"X15\"], [\"SHA-256\"], [\"POS 3.0\"], [\"536\"], [\"NIST5\"], [\"NIST5\"], [\"Skein\"], [\"X13\"], [\"Scrypt\"], [\"X13\"], [\"SkunkHash v2 Raptor\"], [\"Skein\"], [\"X11\"], [\"Scrypt\"], [\"VeChainThor Authority\"], [\"PoS\"], [\"Scrypt\"], [\"Scrypt\"], [\"SHA-512\"], [\"Ouroboros\"], [\"X11\"], [\"NeoScrypt\"], [\"Scrypt\"], [\"Lyra2REv2\"], [\"Scrypt\"], [\"SHA-256\"], [\"NIST5\"], [\"PHI1612\"], [\"Scrypt\"], [\"Quark\"], [\"POS 2.0\"], [\"Scrypt\"], [\"SHA-256\"], [\"X11\"], [\"DPoS\"], [\"NIST5\"], [\"X13\"], [\"Scrypt\"], [\"NIST5\"], [\"Quark\"], [\"Scrypt\"], [\"Scrypt\"], [\"X11\"], [\"Quark\"], [\"Scrypt\"], [\"Scrypt\"], [\"X11\"], [\"POS 3.0\"], [\"Scrypt\"], [\"Scrypt\"], [\"X13\"], [\"Proof-of-BibleHash\"], [\"C11\"], [\"X11\"], [\"XEVAN\"], [\"Scrypt\"], [\"VBFT\"], [\"NIST5\"], [\"Scrypt\"], [\"Scrypt\"], [\"Scrypt\"], [\"Green Protocol\"], [\"PoS\"], [\"Scrypt\"], [\"Semux BFT consensus\"], [\"Quark\"], [\"PoS\"], [\"X16R\"], [\"Scrypt\"], [\"XEVAN\"], [\"Scrypt\"], [\"Scrypt\"], [\"Scrypt\"], [\"SHA-256D\"], [\"Scrypt\"], [\"X15\"], [\"Scrypt\"], [\"Quark\"], [\"SHA-256\"], [\"DPoS\"], [\"X16R\"], [\"Quark\"], [\"Quark\"], [\"Scrypt\"], [\"Lyra2REv2\"], [\"Quark\"], [\"Scrypt\"], [\"X11\"], [\"X11\"], [\"Scrypt\"], [\"PoS\"], [\"Keccak\"], [\"X11\"], [\"Scrypt\"], [\"SHA-512\"], [\"XEVAN\"], [\"XEVAN\"], [\"X11\"], [\"Quark\"], [\"Scrypt\"], [\"Quark\"], [\"Quark\"], [\"Scrypt\"], [\"X11\"], [\"Scrypt\"], [\"XEVAN\"], [\"SHA-256D\"], [\"X11\"], [\"X11\"], [\"DPoS\"], [\"Scrypt\"], [\"X11\"], [\"Scrypt\"], [\"Scrypt\"], [\"SHA-256\"], [\"Scrypt\"], [\"X11\"], [\"Scrypt\"], [\"SHA-256\"], [\"X11\"], [\"Scrypt\"], [\"Scrypt\"], [\"X11\"], [\"Scrypt\"], [\"PoS\"], [\"X11\"], [\"SHA-256\"], [\"DPoS\"], [\"Scrypt\"], [\"Scrypt\"], [\"NeoScrypt\"], [\"X13\"], [\"DPoS\"], [\"DPoS\"], [\"SHA-256\"], [\"PoS\"], [\"PoS\"], [\"SHA-256\"], [\"Scrypt\"], [\"Scrypt\"]], \"hoverlabel\": {\"namelength\": 0}, \"hovertemplate\": \"<b>%{hovertext}</b><br><br>Class=%{marker.color}<br>PC1=%{x}<br>PC2=%{y}<br>PC3=%{z}<br>Algorithm=%{customdata[0]}\", \"hovertext\": [\"42 Coin\", \"404Coin\", \"EliteCoin\", \"Dash\", \"Bitshares\", \"BitcoinDark\", \"PayCoin\", \"KoboCoin\", \"Aurora Coin\", \"BlueCoin\", \"EnergyCoin\", \"BitBar\", \"CryptoBullion\", \"CasinoCoin\", \"Diamond\", \"Exclusive Coin\", \"FlutterCoin\", \"HoboNickels\", \"HyperStake\", \"IOCoin\", \"MaxCoin\", \"MintCoin\", \"MazaCoin\", \"Nautilus Coin\", \"NavCoin\", \"OpalCoin\", \"Orbitcoin\", \"PotCoin\", \"PhoenixCoin\", \"Reddcoin\", \"SuperCoin\", \"SyncCoin\", \"TeslaCoin\", \"TittieCoin\", \"TorCoin\", \"UnitaryStatus Dollar\", \"UltraCoin\", \"VeriCoin\", \"X11 Coin\", \"Crypti\", \"StealthCoin\", \"ZCC Coin\", \"BurstCoin\", \"StorjCoin\", \"Neutron\", \"FairCoin\", \"RubyCoin\", \"Kore\", \"Dnotes\", \"8BIT Coin\", \"Sativa Coin\", \"Ucoin\", \"Vtorrent\", \"IslaCoin\", \"Nexus\", \"Droidz\", \"Squall Coin\", \"Diggits\", \"Paycon\", \"Emercoin\", \"EverGreenCoin\", \"Decred\", \"EDRCoin\", \"Hitcoin\", \"DubaiCoin\", \"PWR Coin\", \"BillaryCoin\", \"GPU Coin\", \"EuropeCoin\", \"ZeitCoin\", \"SwingCoin\", \"SafeExchangeCoin\", \"Nebuchadnezzar\", \"Ratecoin\", \"Revenu\", \"Clockcoin\", \"VIP Tokens\", \"BitSend\", \"Let it Ride\", \"PutinCoin\", \"iBankCoin\", \"Frankywillcoin\", \"MudraCoin\", \"Lutetium Coin\", \"GoldBlocks\", \"CarterCoin\", \"BitTokens\", \"MustangCoin\", \"ZoneCoin\", \"RootCoin\", \"BitCurrency\", \"Swiscoin\", \"BuzzCoin\", \"Opair\", \"PesoBit\", \"Halloween Coin\", \"CoffeeCoin\", \"RoyalCoin\", \"GanjaCoin V2\", \"TeamUP\", \"LanaCoin\", \"ARK\", \"InsaneCoin\", \"EmberCoin\", \"XenixCoin\", \"FreeCoin\", \"PLNCoin\", \"AquariusCoin\", \"Creatio\", \"Eternity\", \"Eurocoin\", \"BitcoinFast\", \"Stakenet\", \"BitConnect Coin\", \"MoneyCoin\", \"Enigma\", \"Russiacoin\", \"PandaCoin\", \"GameUnits\", \"GAKHcoin\", \"Allsafe\", \"LiteCreed\", \"Klingon Empire Darsek\", \"Internet of People\", \"KushCoin\", \"Printerium\", \"Impeach\", \"Zilbercoin\", \"FirstCoin\", \"FindCoin\", \"OpenChat\", \"RenosCoin\", \"VirtacoinPlus\", \"TajCoin\", \"Impact\", \"Atmos\", \"HappyCoin\", \"MacronCoin\", \"Condensate\", \"Independent Money System\", \"ArgusCoin\", \"LomoCoin\", \"ProCurrency\", \"GoldReserve\", \"GrowthCoin\", \"Phreak\", \"Degas Coin\", \"HTML5 Coin\", \"Ultimate Secure Cash\", \"QTUM\", \"Espers\", \"Denarius\", \"Virta Unique Coin\", \"Bitcoin Planet\", \"BritCoin\", \"Linda\", \"DeepOnion\", \"Signatum\", \"Cream\", \"Monoeci\", \"Draftcoin\", \"Vechain\", \"Stakecoin\", \"CoinonatX\", \"Ethereum Dark\", \"Obsidian\", \"Cardano\", \"Regalcoin\", \"TrezarCoin\", \"TerraNovaCoin\", \"Rupee\", \"WomenCoin\", \"Theresa May Coin\", \"NamoCoin\", \"LUXCoin\", \"Xios\", \"Bitcloud 2.0\", \"KekCoin\", \"BlackholeCoin\", \"Infinity Economics\", \"Magnet\", \"Lamden Tau\", \"Electra\", \"Bitcoin Diamond\", \"Cash & Back Coin\", \"Bulwark\", \"Kalkulus\", \"GermanCoin\", \"LiteCoin Ultra\", \"PhantomX\", \"Digiwage\", \"Trollcoin\", \"Litecoin Plus\", \"Monkey Project\", \"TokenPay\", \"My Big Coin\", \"Unified Society USDEX\", \"Tokyo Coin\", \"BiblePay\", \"Stipend\", \"Pushi\", \"Ellerium\", \"Velox\", \"Ontology\", \"Bitspace\", \"Briacoin\", \"Ignition\", \"MedicCoin\", \"Bitcoin Green\", \"Deviant Coin\", \"Abjcoin\", \"Semux\", \"Carebit\", \"Zealium\", \"Proton\", \"iDealCash\", \"Bitcoin Incognito\", \"HollyWoodCoin\", \"Swisscoin\", \"Xt3ch\", \"TheVig\", \"EmaratCoin\", \"Dekado\", \"Lynx\", \"Poseidon Quark\", \"BitcoinWSpectrum\", \"Muse\", \"Trivechain\", \"Dystem\", \"Giant\", \"Peony Coin\", \"Absolute Coin\", \"Vitae\", \"TPCash\", \"ARENON\", \"EUNO\", \"MMOCoin\", \"Ketan\", \"XDNA\", \"PAXEX\", \"ThunderStake\", \"Kcash\", \"Bettex coin\", \"BitMoney\", \"Junson Ming Chan Coin\", \"HerbCoin\", \"Oduwa\", \"Galilel\", \"Crypto Sports\", \"Credit\", \"Dash Platinum\", \"Nasdacoin\", \"Beetle Coin\", \"Titan Coin\", \"Award\", \"Insane Coin\", \"ALAX\", \"LiteDoge\", \"TruckCoin\", \"OrangeCoin\", \"BitstarCoin\", \"NeosCoin\", \"HyperCoin\", \"PinkCoin\", \"AudioCoin\", \"IncaKoin\", \"Piggy Coin\", \"Genstake\", \"XiaoMiCoin\", \"CapriCoin\", \" ClubCoin\", \"Radium\", \"Creditbit \", \"OKCash\", \"Lisk\", \"HiCoin\", \"WhiteCoin\", \"FriendshipCoin\", \"Triangles Coin\", \"EOS\", \"Oxycoin\", \"TigerCash\", \"Particl\", \"Nxt\", \"ZEPHYR\", \"Gapcoin\", \"BitcoinPlus\"], \"legendgroup\": \"Class=0\", \"marker\": {\"color\": [0, 0, 0, 0, 0, 0, 0, 0, 0, 0, 0, 0, 0, 0, 0, 0, 0, 0, 0, 0, 0, 0, 0, 0, 0, 0, 0, 0, 0, 0, 0, 0, 0, 0, 0, 0, 0, 0, 0, 0, 0, 0, 0, 0, 0, 0, 0, 0, 0, 0, 0, 0, 0, 0, 0, 0, 0, 0, 0, 0, 0, 0, 0, 0, 0, 0, 0, 0, 0, 0, 0, 0, 0, 0, 0, 0, 0, 0, 0, 0, 0, 0, 0, 0, 0, 0, 0, 0, 0, 0, 0, 0, 0, 0, 0, 0, 0, 0, 0, 0, 0, 0, 0, 0, 0, 0, 0, 0, 0, 0, 0, 0, 0, 0, 0, 0, 0, 0, 0, 0, 0, 0, 0, 0, 0, 0, 0, 0, 0, 0, 0, 0, 0, 0, 0, 0, 0, 0, 0, 0, 0, 0, 0, 0, 0, 0, 0, 0, 0, 0, 0, 0, 0, 0, 0, 0, 0, 0, 0, 0, 0, 0, 0, 0, 0, 0, 0, 0, 0, 0, 0, 0, 0, 0, 0, 0, 0, 0, 0, 0, 0, 0, 0, 0, 0, 0, 0, 0, 0, 0, 0, 0, 0, 0, 0, 0, 0, 0, 0, 0, 0, 0, 0, 0, 0, 0, 0, 0, 0, 0, 0, 0, 0, 0, 0, 0, 0, 0, 0, 0, 0, 0, 0, 0, 0, 0, 0, 0, 0, 0, 0, 0, 0, 0, 0, 0, 0, 0, 0, 0, 0, 0, 0, 0, 0, 0, 0, 0, 0, 0, 0, 0, 0, 0, 0, 0, 0, 0, 0, 0, 0, 0, 0, 0, 0, 0, 0, 0, 0, 0, 0, 0, 0, 0, 0, 0, 0, 0, 0, 0, 0, 0, 0, 0, 0, 0, 0], \"coloraxis\": \"coloraxis\", \"symbol\": \"circle\"}, \"mode\": \"markers\", \"name\": \"Class=0\", \"scene\": \"scene\", \"showlegend\": true, \"type\": \"scatter3d\", \"x\": [-0.33649458190577364, -0.31984022557422714, 2.3008750061687393, -0.3909021289349394, -0.27089432759814813, -0.31084044444044295, -0.26828798178723723, -0.23892264740418795, -0.33615430785392647, -0.3287359715454983, -0.33499196938472087, -0.33649051919882017, -0.336474807729757, 0.6555909373778095, -0.38026533834560344, -0.3548621498241787, -0.2806673680410584, -0.3345541535511479, -0.3281843017046754, -0.39079688222188735, -0.43421416820819153, -0.03400382888716474, -0.27416151202795597, -0.29369328742803885, -0.28234168149686917, -0.2829635525742701, -0.34374955449713557, -0.33079902617611245, -0.33489698124193723, 0.02145243015921026, -0.3480601101177481, -0.39116829991144125, -0.24741710429459904, -0.3241305660340907, -0.39107996595076894, -0.31173665175069476, -0.33517248077858863, -0.3001923687154582, -0.39104447100924794, -0.2478848051672095, -0.2827445349860912, -0.32760036941253373, -0.012287176957605072, -0.3493369046644278, -0.3100524877794313, -0.37968722484209283, -0.2936735925460062, -0.2830388724592162, -0.288329450005866, -0.33647666018048794, -0.282991088195983, -0.3485046698606895, -0.33621114284947967, -0.3911498388408374, -0.4617336868179606, -0.41474477219108813, -0.34781918026760783, -0.2920757821309704, -0.28251289889763354, -0.3033991022384803, -0.24136346665667285, -0.08477448835090111, -0.31081137418823646, -0.06873577428465977, -0.31087505884382616, -0.2332442063200071, -0.3360870430825438, -0.29194463728126135, -0.3883197498821156, 0.8590542686925037, -0.31067516667703937, -0.07486292739215918, -0.35454555244630354, -0.38899384501773693, -0.3094189993302369, -0.307087848340675, -0.35453673998924184, -0.3898854186439497, -0.35282323238353014, -0.31239215080667093, -0.3361251150484737, -0.33456484602207426, -0.23918105273200033, -0.33600088739808354, -0.39062392275912683, -0.33532967522742285, -0.31085599858313584, -0.39113902984403, -0.3363142246307394, -0.33647089641100125, -0.29193469694287844, -0.23507134893852216, 0.033373076830712674, -0.35350308184599505, -0.3360852629084027, -0.3773057129128896, -0.3528321589038828, -0.2406113041172491, -0.4062602957214334, -0.35258067426397866, -0.28100886854153173, 3.731680556872628, -0.39073173618083856, 0.8485622829314845, -0.39109396230923926, -0.353966631438047, -0.3360127744595947, -0.33616700927697996, -0.35454555244630354, -0.39066897822141416, -0.3107187482916615, -0.3360135217919511, -0.36290174706045236, -0.3361608430942702, -0.33174993861391, -0.3911229379645667, -0.33537172626441264, 0.34929828876346386, -0.3363600431032809, -0.33643059671922726, -0.3594532164507077, -0.3491325963078741, -0.3326583459953917, -0.31083242509371656, -0.39103292906209147, -0.33620849317707086, -0.33633537317618867, -0.29358003552202233, -0.29630611728920997, -0.24037925853869146, -0.31719721577438276, -0.293321350958079, -0.3902988791736268, -0.3993224514624845, -0.3890379138854609, -0.35279286519034025, -0.3901968198755288, -0.3471951975112532, -0.3861391535538907, -0.3362786920750771, -0.3362778666730637, -0.32940124502977985, 0.26424708665597946, -0.39067516718450523, -0.2762274098984215, -0.3545798066175034, -0.3354896299138297, 0.8925879747510355, -0.2669787027772134, -0.351602104729432, 0.5868079347262216, -0.3560717260941583, -0.3545745324502732, -0.4075427307533124, -0.2826763105798968, 0.12830687000208257, -0.2827470682324941, -0.3506646160926332, -0.4070478852613021, -0.39094746874490105, -0.293654277857732, 4.418341634496991, -0.35444608596655386, -0.33591402857382724, -0.33641353377510624, -0.3289343981855834, 0.6461499025209767, -0.3908882911848308, -0.33875066507729273, -0.33636914839885085, -0.3053836142501105, 0.43238290063042084, -0.30917942484178007, -0.34084430019921114, -0.4022024407181322, -0.3363195028520247, -0.400384573567941, -0.36127465386596685, -0.33618998589209537, -0.0948467344902944, -0.3896813498990123, 3.7365347316514907, 0.2031808857109391, -0.2794193198717348, -0.33365122006666015, -0.31334628723342667, -0.35933917153857, 0.07783712625955963, -0.3353286957901089, -0.3902623765168368, -0.35850414768384564, -0.32289960621810554, -0.336435653672532, -0.34847661245497935, -0.353105013892515, -0.29781231920815615, -0.33198284029801045, -0.23217778302342965, -0.17286825196650213, -0.35737510813200923, -0.3909646710944398, -0.3088200304095701, -0.2928144886854157, -0.316007886254955, -0.35567081836686415, -0.33646299566711296, -0.3364447123001406, -0.28719816198376713, -0.3474246838834768, -0.3540407072506832, -0.33616132347654604, 3.9356660096032643, -0.39905332648172126, -0.35422929083550003, -0.32271678072944276, -0.2830491709161855, -0.265623279300345, -0.29334863543422973, -0.1396614399090924, -0.29360051726484404, -0.3463044217767779, -0.33563552433758986, -0.1982183676790718, 2.2266228505000796, -0.35504808119543657, -0.267106575187815, 1.021154035724436, -0.3645426781145737, -0.3594526395122604, -0.40206822814862037, -0.1743603090990152, -0.34780094217938623, -0.35817269837760674, -0.32934136894261246, -0.3480541763801385, -0.3904382401575638, -0.2908470270419576, -0.35332929540544017, -0.35162237589415385, -0.3479155319697016, -0.19598221387594017, -0.30806981661000954, -0.26632408312441835, 0.5381856078036618, -0.13854377707903373, -0.40136313515647887, -0.3361653149682461, -0.40181908145521095, -0.3595695690904808, 0.5700164768971804, -0.3485309006983769, -0.3356483793069327, -0.30327770600077225, -0.3010381343671586, -0.38800340053486854, -0.39066539672226736, 3.748770857757472, 0.09860422789108728, -0.38820645896233547, -0.33503394711577894, -0.33585881476027507, -0.26832057489693895, -0.3363769844706602, -0.3822967686930613, -0.2501037642997991, -0.0906190740293255, -0.37804634383115, -0.33565566616761894, -0.3287229311938553, -0.38723549149985775, -0.3340953884700133, -0.35482105676777786, -0.3801755999056154, -0.30935613652746274, 3.7320722340662393, -0.10096624165453444, -0.33129139114155165, -0.34337549183018634, -0.2831460444353881, 3.741934476523573, 3.7431779292522824, -0.2492256699032282, -0.35475695926999984, -0.35363023682050226, 2.478741464646606, -0.334540464482364, -0.29399686470267705], \"y\": [1.054224379328362, 1.0542908525478745, 1.6128230756995963, 1.209734770216231, 1.6389849577969264, 0.8062200225452725, 0.5734114619168951, 1.796765609019654, 1.0542215780799353, 1.0544300986604787, 1.054264221080322, 1.0542241345273913, 1.0542241985633558, 0.5890335503316555, 0.9366736750286847, 1.4999435996646893, 0.41069398158578263, 1.0541912170020693, 0.9774697074049378, 1.209737560829418, 2.091255975293969, 0.8283013755731639, 0.8055022825300607, 0.821404309368676, 1.765844645625463, 1.7658281567339797, 0.4917435696077879, 1.0540792522055764, 1.054197639274614, 1.0637153327936226, 0.9769427009883848, 1.2097432243339645, 0.07525785309606764, 1.5790456039357108, 1.2097385161486027, 1.0537526650623863, 1.0541889242008036, 0.4736952140328869, 1.209742630273987, 0.07531596264832707, 1.7658339639782394, 1.0537551028567267, 1.1104065726276182, 1.4954981673879884, 0.8062084803027809, 0.9366920920549207, 0.8214162401970825, 1.7658176983545786, 0.821205386834737, 1.054224854551942, 1.7658203755652866, 0.9769168113760436, 1.0542177926102263, 1.2097437145337604, 2.415880266752153, 1.8806486711438581, 0.8817897793632905, 0.8213880954627509, 1.7658048504887485, 0.8057277355729551, 1.796929135081979, 0.8733591800208442, 0.8062207933420686, 1.199571941878978, 0.8062272134674494, 1.5064592036360058, 1.054205570773863, 0.8213062177958796, 1.209547993447976, 0.7821752626194837, 0.8062117129671823, 0.5963556359013285, 1.4999378921087634, 1.2097479976708592, 0.8061161796628029, 0.8059648540618178, 1.5031796764696783, 1.2096792308245448, 1.4252527472411334, 1.0534532420231244, 1.0542029160492195, 1.0542050356166996, 1.5329044907408909, 0.9767991960771512, 1.2097224038687628, 1.054191807257658, 0.80622031523394, 1.2097418858151876, 1.0542143542938762, 1.0542250073781028, 0.8214623469576992, 0.3807106447020229, 1.913144771868317, 1.4999274574450707, 1.0542352324379396, 1.209053131698199, 1.4999692206298354, 1.53300582607015, 1.9434754583825768, 1.4997918559317818, 1.9136185423472254, 2.0276444775690643, 1.209733647324527, 1.795231187308073, 1.209742479093364, 1.4999320889928265, 1.0542099796716469, 1.0542034504728064, 1.4999378921087634, 1.209714158162063, 0.8062246595272322, 1.0542138661448202, 0.6951771875440652, 1.0542134854565473, 1.0538913991014645, 1.2097409022783359, 1.0541526165378663, 0.8155381474443218, 1.0542187802686205, 1.0542237379395532, 1.4267495925758558, 0.5622130041549975, 1.0539735439001643, 0.8062209402842488, 1.2097402188288253, 1.054217862866205, 1.0542131354419395, 0.8213799400143795, 0.3438017072289257, 1.5330035000405609, 1.0540309421386187, 0.8214013055851, 1.209695767076031, 1.7973360252228954, 1.2097221504672453, 1.4999207004894612, 1.2096984731750158, 1.4998648461540176, 1.2095240195631425, 1.0542151468705945, 1.0542099595163896, 1.0537073526980423, 0.5346574565274986, 1.2097280961870578, 0.8204686126500478, 1.499929932797947, 1.054176989470463, 1.763554800542711, 0.5733139106142197, 1.4252382358352191, 1.8447568378961565, 1.503195384863408, 1.5031575212160715, 1.9262403556589676, 1.7658146197584357, 1.0312932619294346, 1.7658205715789466, 1.493176550735018, 1.9262534764711672, 1.2097423767340276, 0.8214044793226135, 2.2314142203300134, 1.4999111970636176, 1.0542057499236375, 1.0542235669002549, 1.6399203730784433, 1.4839241362900542, 1.2097316115924377, 0.49159673074648086, 1.0542166115518008, 0.5915879113197263, 1.0569834844749657, 0.8062090661380643, 1.502760063121521, 1.8124985050304385, 1.05421421434201, 1.6594773906168345, 1.4093127494279916, 1.0542220284054784, 0.5716731084838235, 1.209681116169422, 2.0275087710095856, 1.4968778130948674, 1.765774059635253, 1.0541516986909971, 1.2703722204363501, 1.426749090941721, 1.0299550583081614, 1.054149526851954, 1.2097319902556711, 1.4267007209464393, 1.053950254066384, 1.0542231214131426, 0.97691685021099, 1.4252512692167347, 0.48761005310688826, 1.05418042338888, 1.5326671184559446, 3.4833461895571696, 0.9017559381757421, 1.2097309965941223, 1.5107904773463108, 0.8213515861321958, 1.4180932237817825, 1.5031778106685152, 1.0542231015472994, 1.0542221761176678, 0.8212353829000154, 1.4492141339685132, 1.4999033308372665, 1.054212062506711, 2.0148555937333312, 1.6595126885902238, 1.4999039713996813, 0.6308395858675095, 1.0520299628439267, 1.1828604907678129, 0.8214065236616842, 1.0522513199182413, 0.821387153110465, 1.9171092498106082, 1.0541879283159499, 1.564084672998291, 0.3221942090085559, 1.4264186521209865, 0.5733809051947073, 1.741901022512081, 0.8636476355426669, 1.4267453772358152, 1.6595701378193148, 0.8126776344173983, 0.8243866580220406, 1.426723611439214, 1.0537089403105548, 0.9769040774770806, 1.2097273272369313, 0.8213078588629462, 1.4998361709358896, 1.0139681338737818, 0.9768760238475451, 1.0452581476111986, 2.043407108699573, 1.277980770767908, 1.260369260620562, 0.982498019775392, 1.659554389601598, 1.0542183026287562, 1.6595669535361435, 1.4267476568125792, 1.025518542668029, 0.9769163273981087, 1.0541875874668538, 1.5106271851452486, 1.9148544632937414, 1.209530997615404, 1.2097354063131234, 2.0274806583683476, 1.0410822911986424, 1.209821758155941, 1.054122086790634, 1.054202980374238, 0.5734046043084576, 1.0542274974501613, 1.2096259002733225, 1.049111413385553, 0.8119407272003453, 1.2093860470221507, 1.0542360465877485, 1.0541484019219642, 1.2097008412252033, 1.0541751768930405, 1.4999383432894313, 0.666258865434434, 0.8062008551021522, 2.027630241694828, 0.8194685767297538, 1.054150809915364, 0.4917137211823379, 1.7658232333554404, 2.02800449819881, 2.0280374683076534, 0.573220606069998, 1.4999403008026857, 1.6753915094093437, 0.8587967808567469, 1.0540999161538043, 0.8214069635400575], \"z\": [-0.5399574216802228, -0.5401734982310847, -0.5585868873306288, -0.499443035100386, -0.008774881247538318, -0.33249757535591157, -0.008872928878810199, -0.6085710565324032, -0.5399614526384573, -0.5400742088713825, -0.5399800398946574, -0.5399574503046427, -0.5399576542703797, -0.3048445709595707, -0.41194589179472657, -0.07907233774537188, -0.3380843985924986, -0.539978822337936, -0.17612274292300706, -0.49944461933611656, -0.3480501883675742, -0.22024490185502743, -0.33289371411813556, -0.2163348498961861, -0.5401435891943848, -0.5401342284234067, -0.34092696294712405, -0.5400158271859526, -0.5399750933264813, -0.5453454516526236, -0.17582356050831655, -0.4994404599060392, 0.11029943032809723, -0.1404018211587757, -0.4994411389744686, -0.5402259884208189, -0.5399708162143143, -0.15470578535290488, -0.499441966058533, 0.11029996392187778, -0.5401375252055817, -0.5400262374642026, -0.18311117463922869, 0.07677683553345027, -0.3325064431478159, -0.41195487888625054, -0.21633619910950494, -0.5401323138820457, -0.21638410972055955, -0.5399576914513582, -0.5401331632893389, -0.17581556742910154, -0.5399603868719111, -0.49944073785804916, 0.15600041674691825, -0.7199251804901652, -0.3142919181297508, -0.21635374378000455, -0.5401377586707995, -0.3325459531084526, -0.6085553776014543, -0.31110819187549404, -0.3324980129385285, -0.5025664248611513, -0.3324978025688143, -0.513431349521706, -0.5399608234613892, -0.21634784154072276, -0.49945835300755637, -0.22724628913044478, -0.33249889204157546, -0.2963122277883102, -0.0790758020529782, -0.4994683112641296, -0.33250591158320886, -0.3325213338738689, -0.5115997267573715, -0.4994507266006507, 0.02930870731926992, -0.5401900953969858, -0.539960098560969, -0.5399799626917771, -0.21651446604165875, -0.175962335244422, -0.49944540099964274, -0.5399691006821856, -0.3324974062909255, -0.499440705365972, -0.5399587701588571, -0.5399577782110226, -0.2163623739937978, -0.3253307994091743, -0.6625135151450382, -0.07908798041781882, -0.5399635829944106, -0.4995515300808673, -0.0791002917685864, -0.21650578741389112, -0.7386063237106072, -0.07908709525019264, -0.6585941764351181, 0.013579959994132538, -0.4994450794315346, -0.5571113186355511, -0.49944132822729553, -0.07908256435928422, -0.5399621665220531, -0.5399596197629714, -0.0790758020529782, -0.49944407214658065, -0.3324995373285883, -0.5399625157337605, -0.37099495249556935, -0.5399606234922604, -0.5399865055706436, -0.49944081746012864, -0.5399649541863979, -0.22389900353569672, -0.5399586009934232, -0.5399581690834531, -0.0906893934093641, -0.32889159810270263, -0.539982634392259, -0.33249776113301993, -0.49944188903360986, -0.5399604267563459, -0.5399583910909898, -0.21633402880123243, -0.3919732961891721, -0.21650849791024, -0.5401828318809514, -0.21633926129728195, -0.49944704048970906, -0.7386817892427139, -0.49946537063283175, -0.07909630980198579, -0.49944857674658044, -0.07916171917805156, -0.49948362907345767, -0.5399592912141972, -0.5399588229450955, -0.5399991296201077, -0.012009887646538837, -0.4994452802898827, -0.2164686790380474, -0.07907463578733377, -0.5399657169722899, -0.6197701313925535, -0.008880431723953273, 0.02929465301739056, -0.6552258237794097, -0.5115818264522838, -0.5115972059280642, -0.6730572797413027, -0.540136600204815, -0.543700629750446, -0.5401362574600278, 0.046339116926760196, -0.6730647284480985, -0.49944316546020817, -0.21633535732848358, 1.6778125145530782, -0.07907459257276947, -0.5399630209906345, -0.5399583683936406, -0.008129553268886796, 0.059590172351530336, -0.49944291806857644, -0.3409764284159905, -0.5399582860903798, -0.040996550777064614, -0.5499043909106148, -0.33251750292195525, -0.511733611123827, -0.4636381725353353, -0.539958690707951, -0.4143270227891915, 0.04480791386761125, -0.539961044440602, -0.010898895895592552, -0.49945347303819465, 0.013531291522186423, -0.5180487230824603, -0.5401739146247209, -0.539986557961826, -0.1879580128939741, -0.09069078475497365, -0.5429409293403845, -0.5399652115155582, -0.4994508432073528, -0.09069684751136606, -0.5401035026460838, -0.5399580484449042, -0.17581592470059249, 0.029312395807199458, -0.35684177632369013, -0.5400102399665484, -0.21658084429922259, 2.6379661056193386, -0.43883694292011466, -0.4994418984833602, -0.5179188472225691, -0.2163410627684979, 0.07833686640592301, -0.5115852585458642, -0.5399577019422042, -0.5399578470239261, -0.2164011385364509, -0.08332496053615873, -0.0790789768502322, -0.5399604861309388, -0.10636035128554278, -0.41434706150709044, -0.07907665869995571, 0.059931470972392764, -0.5404286530110926, -0.3327705493812865, -0.2163393988617967, -0.5422566058147378, -0.21633443621471277, -0.6580931817655675, -0.5399648872515949, -0.2849348889365903, -0.2981350302940097, -0.09071438573100243, -0.008885001847095165, -0.007485688936774972, -0.2637022873402993, -0.09068901170281345, -0.41431435730709143, -0.21703387323711978, -0.36462199514382393, -0.09070313798544011, -0.5400000309103581, -0.17582007124255264, -0.49944819600389856, -0.21636182930193065, -0.0790817474920493, -0.4043435419341404, -0.1758192302678834, -0.5409013239792055, 0.05957626671709123, -0.19429338257532838, -0.3716235206088176, -0.17897732417583406, -0.41432179241543415, -0.5399610116351014, -0.41431720418066065, -0.09068774805688046, -0.5487358877924573, -0.17581519210657895, -0.5399646937509985, -0.5179736448939316, -0.6584557373837756, -0.49946077253907306, -0.49944607801227103, 0.01337963870138486, -0.5442295054516122, -0.49948504335149624, -0.5399663949887175, -0.5399634614426136, -0.008871885214187098, -0.5399591918290502, -0.4995414669212041, -0.5405746431289178, -0.3358015466254066, -0.49957291424738665, -0.5399690735610166, -0.5400483790978151, -0.49948612537395964, -0.5399831253345995, -0.07907237071588807, -0.21693942102135758, -0.3325145176274189, 0.013576336208875729, -0.218585717535561, -0.5400162236369027, -0.34092892400503566, -0.5401314736402422, 0.013417478790354136, 0.013398761605009928, -0.009095614215877205, -0.079073359354046, -0.28686659138805226, 0.011765616806880347, -0.5399705699228795, -0.2163312679607896]}, {\"customdata\": [[\"SHA-256\"], [\"Ethash\"], [\"Scrypt\"], [\"CryptoNight-V7\"], [\"Ethash\"], [\"Equihash\"], [\"Multiple\"], [\"Scrypt\"], [\"X11\"], [\"Scrypt\"], [\"Multiple\"], [\"Scrypt\"], [\"SHA-256\"], [\"Scrypt\"], [\"Scrypt\"], [\"Quark\"], [\"Groestl\"], [\"Scrypt\"], [\"Scrypt\"], [\"Scrypt\"], [\"X11\"], [\"Multiple\"], [\"SHA-256\"], [\"Scrypt\"], [\"Scrypt\"], [\"Scrypt\"], [\"Scrypt\"], [\"Scrypt\"], [\"NeoScrypt\"], [\"Scrypt\"], [\"Scrypt\"], [\"Scrypt\"], [\"Scrypt\"], [\"SHA-256\"], [\"Scrypt\"], [\"Scrypt\"], [\"Scrypt\"], [\"Scrypt\"], [\"HybridScryptHash256\"], [\"Scrypt\"], [\"Scrypt\"], [\"SHA-256\"], [\"Scrypt\"], [\"Scrypt\"], [\"Scrypt\"], [\"Scrypt\"], [\"SHA-256\"], [\"SHA-256\"], [\"SHA-256\"], [\"SHA-256\"], [\"SHA-256\"], [\"X11\"], [\"Scrypt\"], [\"Lyra2REv2\"], [\"Scrypt\"], [\"SHA-256\"], [\"CryptoNight\"], [\"CryptoNight\"], [\"Scrypt\"], [\"Scrypt\"], [\"Scrypt\"], [\"Scrypt\"], [\"Scrypt\"], [\"Scrypt\"], [\"Stanford Folding\"], [\"Multiple\"], [\"QuBit\"], [\"Scrypt\"], [\"Scrypt\"], [\"M7 POW\"], [\"Scrypt\"], [\"SHA-256\"], [\"Scrypt\"], [\"X11\"], [\"Lyra2RE\"], [\"SHA-256\"], [\"X11\"], [\"Scrypt\"], [\"Scrypt\"], [\"Ethash\"], [\"Blake2b\"], [\"X11\"], [\"SHA-256\"], [\"Scrypt\"], [\"1GB AES Pattern Search\"], [\"Scrypt\"], [\"SHA-256\"], [\"X11\"], [\"Dagger\"], [\"Scrypt\"], [\"X11GOST\"], [\"Scrypt\"], [\"X11\"], [\"Scrypt\"], [\"X11\"], [\"Equihash\"], [\"CryptoNight\"], [\"SHA-256\"], [\"Multiple\"], [\"Scrypt\"], [\"SHA-256\"], [\"Scrypt\"], [\"Lyra2Z\"], [\"Ethash\"], [\"Equihash\"], [\"Scrypt\"], [\"X11\"], [\"X11\"], [\"CryptoNight\"], [\"Scrypt\"], [\"CryptoNight\"], [\"Lyra2RE\"], [\"X11\"], [\"CryptoNight-V7\"], [\"Scrypt\"], [\"X11\"], [\"Equihash\"], [\"Scrypt\"], [\"Lyra2RE\"], [\"Dagger-Hashimoto\"], [\"Scrypt\"], [\"NIST5\"], [\"Scrypt\"], [\"SHA-256\"], [\"Scrypt\"], [\"CryptoNight-V7\"], [\"Argon2d\"], [\"Blake2b\"], [\"Cloverhash\"], [\"CryptoNight\"], [\"X11\"], [\"Scrypt\"], [\"Scrypt\"], [\"X11\"], [\"X11\"], [\"CryptoNight\"], [\"Time Travel\"], [\"Scrypt\"], [\"Keccak\"], [\"X11\"], [\"SHA-256\"], [\"Scrypt\"], [\"Scrypt\"], [\"Scrypt\"], [\"Scrypt\"], [\"Scrypt\"], [\"Scrypt\"], [\"CryptoNight\"], [\"Equihash\"], [\"X11\"], [\"NeoScrypt\"], [\"Equihash\"], [\"Dagger\"], [\"Scrypt\"], [\"X11\"], [\"NeoScrypt\"], [\"Ethash\"], [\"NeoScrypt\"], [\"Multiple\"], [\"CryptoNight\"], [\"CryptoNight\"], [\"Ethash\"], [\"X11\"], [\"CryptoNight-V7\"], [\"Scrypt\"], [\"BLAKE256\"], [\"X11\"], [\"NeoScrypt\"], [\"NeoScrypt\"], [\"Scrypt\"], [\"X11\"], [\"SHA-256\"], [\"C11\"], [\"Ethash\"], [\"CryptoNight\"], [\"SkunkHash\"], [\"CryptoNight\"], [\"Scrypt\"], [\"Dagger\"], [\"Lyra2REv2\"], [\"Scrypt\"], [\"Scrypt\"], [\"X11\"], [\"Ethash\"], [\"CryptoNight\"], [\"Scrypt\"], [\"IMesh\"], [\"Equihash\"], [\"Lyra2Z\"], [\"X11\"], [\"CryptoNight\"], [\"NIST5\"], [\"Lyra2RE\"], [\"Tribus\"], [\"Lyra2Z\"], [\"CryptoNight\"], [\"CryptoNight Heavy\"], [\"CryptoNight\"], [\"Jump Consistent Hash\"], [\"CryptoNight\"], [\"X16R\"], [\"HMQ1725\"], [\"X11\"], [\"Scrypt\"], [\"CryptoNight-V7\"], [\"Cryptonight-GPU\"], [\"XEVAN\"], [\"CryptoNight Heavy\"], [\"SHA-256\"], [\"X11\"], [\"X16R\"], [\"Equihash\"], [\"Lyra2Z\"], [\"SHA-256\"], [\"CryptoNight\"], [\"Blake\"], [\"Blake\"], [\"Equihash\"], [\"Exosis\"], [\"Scrypt\"], [\"Equihash\"], [\"Equihash\"], [\"QuBit\"], [\"SHA-256\"], [\"X13\"], [\"SHA-256\"], [\"Scrypt\"], [\"NeoScrypt\"], [\"Blake\"], [\"Scrypt\"], [\"SHA-256\"], [\"Scrypt\"], [\"Groestl\"], [\"Scrypt\"], [\"Scrypt\"], [\"Multiple\"], [\"Equihash+Scrypt\"], [\"Ethash\"], [\"CryptoNight\"], [\"Equihash\"]], \"hoverlabel\": {\"namelength\": 0}, \"hovertemplate\": \"<b>%{hovertext}</b><br><br>Class=%{marker.color}<br>PC1=%{x}<br>PC2=%{y}<br>PC3=%{z}<br>Algorithm=%{customdata[0]}\", \"hovertext\": [\"Bitcoin\", \"Ethereum\", \"Litecoin\", \"Monero\", \"Ethereum Classic\", \"ZCash\", \"DigiByte\", \"ProsperCoin\", \"Spreadcoin\", \"Argentum\", \"MyriadCoin\", \"MoonCoin\", \"ZetaCoin\", \"SexCoin\", \"Quatloo\", \"QuarkCoin\", \"Riecoin\", \"Digitalcoin \", \"Catcoin\", \"CannaCoin\", \"CryptCoin\", \"Verge\", \"DevCoin\", \"EarthCoin\", \"E-Gulden\", \"Einsteinium\", \"Emerald\", \"Franko\", \"FeatherCoin\", \"GrandCoin\", \"GlobalCoin\", \"GoldCoin\", \"Infinite Coin\", \"IXcoin\", \"KrugerCoin\", \"LuckyCoin\", \"Litebar \", \"MegaCoin\", \"MediterraneanCoin\", \"MinCoin\", \"NobleCoin\", \"Namecoin\", \"NyanCoin\", \"RonPaulCoin\", \"StableCoin\", \"SmartCoin\", \"SysCoin\", \"TigerCoin\", \"TerraCoin\", \"UnbreakableCoin\", \"Unobtanium\", \"UroCoin\", \"ViaCoin\", \"Vertcoin\", \"WorldCoin\", \"JouleCoin\", \"ByteCoin\", \"DigitalNote \", \"MonaCoin\", \"Gulden\", \"PesetaCoin\", \"Wild Beast Coin\", \"Flo\", \"ArtByte\", \"Folding Coin\", \"Unitus\", \"CypherPunkCoin\", \"OmniCron\", \"GreenCoin\", \"Cryptonite\", \"MasterCoin\", \"SoonCoin\", \"1Credit\", \"MarsCoin \", \"Crypto\", \"Anarchists Prime\", \"BowsCoin\", \"Song Coin\", \"BitZeny\", \"Expanse\", \"Siacoin\", \"MindCoin\", \"I0coin\", \"Revolution VR\", \"HOdlcoin\", \"Gamecredits\", \"CarpeDiemCoin\", \"Adzcoin\", \"SoilCoin\", \"YoCoin\", \"SibCoin\", \"Francs\", \"BolivarCoin\", \"Omni\", \"PizzaCoin\", \"Komodo\", \"Karbo\", \"ZayedCoin\", \"Circuits of Value\", \"DopeCoin\", \"DollarCoin\", \"Shilling\", \"ZCoin\", \"Elementrem\", \"ZClassic\", \"KiloCoin\", \"ArtexCoin\", \"Kurrent\", \"Cannabis Industry Coin\", \"OsmiumCoin\", \"Bikercoins\", \"HexxCoin\", \"PacCoin\", \"Citadel\", \"BeaverCoin\", \"VaultCoin\", \"Zero\", \"Canada eCoin\", \"Zoin\", \"DubaiCoin\", \"EB3coin\", \"Coinonat\", \"BenjiRolls\", \"ILCoin\", \"EquiTrader\", \"Quantum Resistant Ledger\", \"Dynamic\", \"Nano\", \"ChanCoin\", \"Dinastycoin\", \"DigitalPrice\", \"Unify\", \"SocialCoin\", \"ArcticCoin\", \"DAS\", \"LeviarCoin\", \"Bitcore\", \"gCn Coin\", \"SmartCash\", \"Onix\", \"Bitcoin Cash\", \"Sojourn Coin\", \"NewYorkCoin\", \"FrazCoin\", \"Kronecoin\", \"AdCoin\", \"Linx\", \"Sumokoin\", \"BitcoinZ\", \"Elements\", \"VIVO Coin\", \"Bitcoin Gold\", \"Pirl\", \"eBoost\", \"Pura\", \"Innova\", \"Ellaism\", \"GoByte\", \"SHIELD\", \"UltraNote\", \"BitCoal\", \"DaxxCoin\", \"AC3\", \"Lethean\", \"PopularCoin\", \"Photon\", \"Sucre\", \"SparksPay\", \"GunCoin\", \"IrishCoin\", \"Pioneer Coin\", \"UnitedBitcoin\", \"Interzone\", \"1717 Masonic Commemorative Token\", \"TurtleCoin\", \"MUNcoin\", \"Niobio Cash\", \"ShareChain\", \"Travelflex\", \"KREDS\", \"BitFlip\", \"LottoCoin\", \"Crypto Improvement Fund\", \"Callisto Network\", \"BitTube\", \"Poseidon\", \"Aidos Kuneen\", \"Bitrolium\", \"Alpenschillling\", \"FuturoCoin\", \"Monero Classic\", \"Jumpcoin\", \"Infinex\", \"KEYCO\", \"GINcoin\", \"PlatinCoin\", \"Loki\", \"Newton Coin\", \"MassGrid\", \"PluraCoin\", \"Motion\", \"PlusOneCoin\", \"Axe\", \"HexCoin\", \"Webchain\", \"Ryo\", \"Urals Coin\", \"Qwertycoin\", \"Project Pai\", \"Azart\", \"Xchange\", \"CrypticCoin\", \"Actinium\", \"Bitcoin SV\", \"FREDEnergy\", \"Universal Molecule\", \"Lithium\", \"PirateCash\", \"Exosis\", \"Block-Logic\", \"Beam\", \"Bithereum\", \"SLICE\", \"BLAST\", \"Bitcoin Rhodium\", \"GlobalToken\", \"SolarCoin\", \"UFO Coin\", \"BlakeCoin\", \"Crypto Escudo\", \"Crown Coin\", \"SmileyCoin\", \"Groestlcoin\", \"Bata\", \"Pakcoin\", \"JoinCoin\", \"Vollar\", \"Reality Clash\", \"Beldex\", \"Horizen\"], \"legendgroup\": \"Class=3\", \"marker\": {\"color\": [3, 3, 3, 3, 3, 3, 3, 3, 3, 3, 3, 3, 3, 3, 3, 3, 3, 3, 3, 3, 3, 3, 3, 3, 3, 3, 3, 3, 3, 3, 3, 3, 3, 3, 3, 3, 3, 3, 3, 3, 3, 3, 3, 3, 3, 3, 3, 3, 3, 3, 3, 3, 3, 3, 3, 3, 3, 3, 3, 3, 3, 3, 3, 3, 3, 3, 3, 3, 3, 3, 3, 3, 3, 3, 3, 3, 3, 3, 3, 3, 3, 3, 3, 3, 3, 3, 3, 3, 3, 3, 3, 3, 3, 3, 3, 3, 3, 3, 3, 3, 3, 3, 3, 3, 3, 3, 3, 3, 3, 3, 3, 3, 3, 3, 3, 3, 3, 3, 3, 3, 3, 3, 3, 3, 3, 3, 3, 3, 3, 3, 3, 3, 3, 3, 3, 3, 3, 3, 3, 3, 3, 3, 3, 3, 3, 3, 3, 3, 3, 3, 3, 3, 3, 3, 3, 3, 3, 3, 3, 3, 3, 3, 3, 3, 3, 3, 3, 3, 3, 3, 3, 3, 3, 3, 3, 3, 3, 3, 3, 3, 3, 3, 3, 3, 3, 3, 3, 3, 3, 3, 3, 3, 3, 3, 3, 3, 3, 3, 3, 3, 3, 3, 3, 3, 3, 3, 3, 3, 3, 3, 3, 3, 3, 3, 3, 3, 3, 3, 3, 3, 3, 3, 3, 3, 3, 3, 3, 3, 3, 3, 3, 3, 3, 3, 3, 3, 3, 3, 3, 3], \"coloraxis\": \"coloraxis\", \"symbol\": \"diamond\"}, \"mode\": \"markers\", \"name\": \"Class=3\", \"scene\": \"scene\", \"showlegend\": true, \"type\": \"scatter3d\", \"x\": [-0.14218320082208144, -0.15323260941451125, -0.16666836273360358, -0.146895735276093, -0.1516749921876458, -0.17091545663355923, 0.16496964515366835, -0.16781414417699222, -0.2224292621534649, -0.16743079061243946, -0.088345431274447, 2.5534639189918478, -0.13926932663022382, -0.16468721341325143, -0.16723484497723967, -0.22879606312989714, -0.21067523142930944, -0.16728370087579078, -0.16779641937645567, -0.16788284666454237, -0.22251856249572105, 0.18869713750044334, 0.23551228091144996, 0.08074729216479087, -0.16762925626188724, -0.16323625375885004, -0.16756855807839052, -0.16793982416847994, -0.17042523489254013, -0.14716992230579062, -0.16673542888029316, -0.16701272813249024, 1.5802561808238826, -0.14214459025279025, -0.16430311280341198, -0.16765568629686567, -0.16801035594650157, -0.16726990308734838, -0.13889419239175554, -0.16789166545440073, -0.03283493119975748, -0.14222216061342458, -0.16155816593126668, -0.1678710941064705, -0.16596592912551336, -0.16735803862350715, -0.12937904851782575, -0.14168615099277884, -0.14197321788594872, -0.14195613079480868, -0.14254670095374522, -0.22269240513838318, -0.16758772604858493, -0.17865447455181854, -0.16469189213478547, -0.14175341521153426, 3.864269712933199, 0.4646290676163846, -0.16645573186872312, -0.15105925550503638, -0.1651750825833666, -0.16801256139618825, -0.16504020541100647, -0.15126918900446007, -0.12993977901442524, -0.12233866551261376, -0.18152150879743223, -0.16788570314770587, -0.04086820320934212, -0.1174013210770889, -0.1680214536076337, -0.14224992377264453, 0.48399307016819954, -0.2220798381225781, -0.14900256808655454, -0.14198985100336498, -0.22236461508390012, -0.16614576142877163, -0.16533833654534874, -0.15429947991567236, 0.37169294860182034, -0.22240000414640354, -0.14214571202383805, -0.1639809608441174, -0.14348592531571924, -0.16658537220032552, 0.2761675285504468, -0.22156101590025495, -0.15302132424945253, -0.1668324917837005, -0.150961519601275, -0.16781143280542601, -0.22236324755879275, -0.1680215120786555, -0.2225131411885137, -0.3544289029506101, 0.30959276427503934, -0.142405686499991, -0.10241889421047554, -0.16518926544921803, -0.14236433562808448, -0.16768502399777302, -0.15341689234058306, -0.1540417503361059, -0.17093706254255622, -0.09476425711554641, -0.2091023795642034, -0.22034198490903825, 0.30958715416139976, -0.1680032549480869, 0.30971781111138813, -0.14954285109981397, 0.4925727386287944, -0.14566068865720352, -0.1679715570816817, -0.21524890241146763, -0.1709494393487067, -0.16610558321317082, -0.14926135334381566, -0.1386845220213808, -0.13890185602016242, -0.18726677796041083, -0.1675340926702217, -0.10874297039534321, -0.16735617302416378, -0.14551866508071662, -0.1487894070546406, -0.02840305798154333, -0.1587765184758747, 0.34569468110148494, -0.22156937168901294, -0.1676753799895088, -0.16743876622856435, -0.22196393183145807, -0.22254117206877413, 0.30998200707287993, -0.14735605364503465, 3.240336567927047, -0.12301299441615758, -0.21341574667829386, -0.14218236547001536, -0.09361154087092641, 1.578101271164191, -0.167773175593234, -0.16722496773728285, -0.16692606366854504, -0.16691300132862988, 0.3101655950559532, 0.04131121368799939, -0.17694789706789582, -0.17511220040273257, -0.17079556160250858, -0.1517807962343967, -0.16610379329087435, -0.2180872059650573, -0.17495765447003953, -0.15240726615015085, -0.17505783545947987, -0.11257413922199896, 1.1472747810731525, 0.3095699150067501, -0.07731496344357205, -0.21782849693927714, -0.13463448092205624, -0.08419381508045062, 1.0886611628172294, -0.2225151821971802, -0.17510977280238946, -0.1681502331217099, -0.16702447087243458, -0.22244062141261559, -0.1421617752201113, -0.18887987551429222, -0.2804883353848197, 8.045503524157118, -0.14490627218228772, 0.3134430225766388, 0.02494026151688172, -0.15128438482402934, -0.16421784969648723, -0.16759795004434722, 0.1393583725938605, -0.21658355769786714, -0.1054570549014439, 0.31749102166860693, -0.16783487817984574, -0.1402248315100292, -0.16978707038491575, -0.15120096786590106, -0.22161012318093648, 0.30975235213561875, -0.18732626530772573, -0.14938813546966814, -0.13819858814452426, -0.1535012480279702, 0.3136797515516594, 0.5848935780667103, 2.1176888171427666, -0.1510982290205842, 0.32335233632486005, -0.196861692739068, -0.14444765776957205, -0.22249734909515936, -0.16785944511459416, -0.13451287013417493, -0.14765537868889766, -0.139120837600938, 3.1065352778280646, -0.1020264553439145, -0.22246872115485877, -0.1962895483598754, -0.06558018838539656, -0.1528991579592991, -0.14218240301617846, 0.389488209345588, -0.13749657088294287, -0.1378885588432974, -0.2962178453319858, -0.15099420927493148, -0.16675210885141442, -0.1688561624818918, -0.17062844586671494, -0.180732680883098, -0.14145882826473047, -0.11465826638710874, -0.14032713352536727, 0.5279025690998438, -0.10030557449184863, -0.08836503393231612, -0.15141969783569378, -0.1419725886599978, 0.547552706495101, -0.21023641350925643, -0.16793627935235997, -0.16589267500407895, -0.12307316799347334, -0.131398238433802, -0.1540748953958574, 0.33131873190141664, -0.17091651303911803], \"y\": [-1.3385671898153388, -2.0389955506471407, -1.0905917716855618, -2.207954941340484, -2.0391023227908867, -2.1264925789511433, -1.8438607688901858, -1.0905777303492112, -0.935056625783982, -1.090597885310933, -1.8371803910468323, -1.28916912627506, -1.3385948452356755, -1.0906562892142284, -1.0906180736440318, -0.4852659443993176, -1.2081456481582655, -1.0905828205788466, -1.0905772603766992, -1.09057400985826, -0.9350575833671507, -1.840097437884071, -1.3433450305227543, -1.0934912591576673, -1.0905728280521283, -1.090652926039684, -1.0905789748105914, -1.090574177960763, -1.6531548579423518, -1.0910172229716395, -1.0905836784546645, -1.090592614492481, -1.1080955219808222, -1.338566166057342, -1.0906569781015707, -1.0905728237373926, -1.0905690775599668, -1.0905781070457485, -2.171346449359041, -1.090572029654539, -1.0975605475190342, -1.3385682228329432, -1.0906346668659583, -1.0905792403747476, -1.0906901943199376, -1.0905869309342058, -1.338839015256837, -1.3385723517566133, -1.3385764293559919, -1.3386027703301104, -1.3385621970547144, -0.9350495008865563, -1.0905731370923826, -1.3204104985331737, -1.0906672865729543, -1.338572716613969, -2.325776616660469, -2.292900204866608, -1.090601025629223, -1.0913032462998065, -1.0906102682948602, -1.090570037163191, -1.0906021892224411, -1.0908293404246192, -2.102422822117771, -1.8366715080369787, -1.5825470649143651, -1.0905671976524096, -1.0942480181785754, -2.17950357484132, -1.0905688567184588, -1.3385689589722105, -1.1381500516266823, -0.9350565271984644, -2.2283658286069117, -1.3385851624321505, -0.9350556167752834, -1.0906669275428362, -1.0906735537229943, -2.0390357594902553, -2.2165959450142796, -0.9350530295838423, -1.3385661958010653, -1.0906093586999224, -2.1721278675828066, -1.0905895711942588, -1.342708651894874, -0.9350787310631721, -2.1823460846896467, -1.0906556001914727, -2.251340513960132, -1.0905769533510246, -0.9350584009404295, -1.090568856132344, -0.9350623753651683, -1.808182446746261, -2.2899669759172676, -1.338565146698998, -1.836989463454893, -1.09063434579483, -1.3385646864979344, -1.0905806526881576, -2.2018280305570817, -2.0390354826820123, -2.126493151831121, -1.0956770703029053, -0.9350417149272318, -0.9351479437969942, -2.2899748808380833, -1.0905698512438193, -2.2899742368983143, -2.228340816949298, -0.986594894511709, -2.2080526387770165, -1.0905694660728997, -0.9355572429102907, -2.126490659576706, -1.0905881313049197, -2.2283411092149494, -2.1865324139244757, -1.092616739763578, -0.6416155879475782, -1.0905805432174787, -1.3394284816007083, -1.0906015476780564, -2.2079924645258804, -2.1444466416212444, -2.2274444129012245, -2.2675479880574643, -2.2904128962139922, -0.9350902343167607, -1.09057283598217, -1.0906058529529694, -0.9350724918158615, -0.9350588174548797, -2.289987679832418, -2.1682481705603185, -1.1412171688400967, -1.1324976169962475, -0.9355791474711317, -1.3385671676660036, -1.0959990591977702, -1.0442700324075682, -1.0905759389622818, -1.0906065300492134, -1.0906098863176288, -1.090609539970109, -2.290007412376237, -2.1356578198357625, -0.93510577799971, -1.6530612548475248, -2.1264893999382752, -2.1824022517970882, -1.0905880838451878, -0.9351741813697174, -1.653069848979759, -2.039171096449321, -1.653063197872851, -1.8368779720685042, -2.327682845191826, -2.28996934453052, -2.0440336592976083, -0.9353083429597828, -2.2083345752494967, -1.0918712640861798, -1.308231826448749, -0.935058762929908, -1.6530569598422358, -1.653210173770293, -1.0905871117561825, -0.9350590422931433, -1.3385660336575753, -1.2430388552776306, -0.12705455047284023, -2.789948759062009, -2.2029527278294903, -2.2900947510830187, -1.0925031088670416, -2.1823493872350466, -1.3207440998502102, -1.0905853949876774, -1.0953971304485484, -0.9352400781232275, -2.0423119740400675, -2.290455609073163, -1.0905782801106256, -2.206745368253099, -2.1264972100329134, -2.2019657179947316, -0.9350913148412501, -2.2899686673428756, -0.6415979496969358, -2.2283481937999516, -2.1388305325301813, -2.2018225815871943, -2.2902746226391466, -2.2367725542208694, -2.371757867941, -2.2014472035403134, -2.2903001965048255, -1.2811235289952954, -2.1835300487176275, -0.9350591362132942, -1.0905797108299626, -2.208860546022861, -2.225575488470945, -0.6340755788101399, -2.299876491584686, -1.3389683509185646, -0.9350611975694141, -1.2811633035171497, -2.1290436180498795, -2.201858442498447, -1.3385671686615386, -2.2935387582763447, -2.197004727414732, -2.196958789176779, -0.21455787414276045, -2.2301014358897495, -1.090619376036436, -2.126608471526459, -2.1264919395504154, -1.5825966597935106, -1.3385783026695053, -0.378970573595919, -1.3386216268709168, -1.1412869408551616, -1.6538791467447196, -2.2005636293352184, -1.0908333311614065, -1.3385764126720863, -1.1068503071106714, -1.2081488201467314, -1.0905696870593111, -1.0906403047637667, -1.8366929576439983, -2.2083333300400376, -2.039035150435215, -2.2903711672507607, -2.126492606961702], \"z\": [0.1871518052665431, 0.36761132120156215, -0.02032010663266, 0.33874961601729525, 0.3676015387104661, 0.4978326592638174, 0.3033741879172302, -0.020306958758405654, 0.020209055806014623, -0.020309931420869107, 0.30595099808424536, -0.03628558872784305, 0.18711762531910892, -0.02033912724624436, -0.02031053856455427, 0.10528135780049279, 0.10769469237138089, -0.020313175744283055, -0.020307225562578687, -0.020306436020130953, 0.020210269877218804, 0.302727813036261, 0.18283151168580108, -0.023171439082767184, -0.02030974180057115, -0.020357728194141653, -0.02030993974872371, -0.02030570225730304, 0.1786738477531833, -0.02052664196085843, -0.020320008025645125, -0.02031568783658607, -0.04072640911291766, 0.18715122407743429, -0.02034390559878006, -0.020309409025226433, -0.020305283793317083, -0.020313784628535485, 0.3613245485991217, -0.020306507579101418, -0.021364134587994806, 0.18715239171234624, -0.020380566849126626, -0.020306101514410084, -0.02031987926163174, -0.020311859360870987, 0.18701548109402058, 0.18714601585166032, 0.18715001084768282, 0.18715222611883006, 0.18715592678324597, 0.020211715486506836, -0.02031023680756284, 0.15502213600746806, -0.020338053462518442, 0.18714689744341056, 0.3212245706583583, 0.3610462472624524, -0.02032193310188647, -0.020451220141588854, -0.020337223909592292, -0.020305167442308657, -0.02033966966662414, -0.020492304408386397, 0.49748806781159555, 0.3063325540125154, 0.19076846551989105, -0.020307028622294946, -0.02156853883818978, 0.3976355384798257, -0.02030516427629523, 0.18715280961982647, -0.024133717661589282, 0.020204641916095795, 0.3641228645897506, 0.18715102638549688, 0.020208147765279533, -0.0203197593103496, -0.020329326156051035, 0.36762848038431445, 0.3529347909661902, 0.02020835513655471, 0.1871512409629952, -0.020352360783769695, 0.3041834471075273, -0.02032135585521175, 0.182260293880803, 0.020200150620627723, 0.40358744430158106, -0.02031214773423, 0.4230189531837819, -0.02030706463673463, 0.020208387441129454, -0.020305163593302398, 0.02021064372863046, 1.0156365745822409, 0.3627299443611061, 0.18715442135847268, 0.3061107880363778, -0.02033482332037077, 0.18715385762887596, -0.020308316765197967, 0.38536309183652334, 0.36762520593654374, 0.497832984488727, -0.020757263582620315, 0.020039682970767723, 0.020191170428982448, 0.3627307445246299, -0.020305301914252852, 0.36272903805964785, 0.3641273673220961, 0.015951637987827307, 0.3387430624205807, -0.02030573703578538, 0.020164736646023296, 0.4978329105310814, -0.020327536880012424, 0.3641238457683527, 0.26642951390238756, -0.020483269328616174, 0.008067884772235833, -0.020310229487021273, 0.18680973969087747, -0.02031053408761303, 0.33873571938484315, 0.2687637539649544, 0.35897941303829917, 0.47320976526178987, 0.3623159966446851, 0.02020131743948414, -0.020309159639250972, -0.02030909565040363, 0.020204653985465844, 0.020210668768520384, 0.36272694811558465, 0.36947589257710783, -0.05859679151397801, 0.11470498070207373, 0.02014364941870785, 0.18715179269232884, -0.020742082367972158, -0.04658887578174671, -0.020307640506902185, -0.020311728285193138, -0.020315186523300235, -0.020315383145360293, 0.3627264546919005, 0.49600310002330433, 0.01964025940727244, 0.17872429359306513, 0.497830854532951, 0.403576989308732, -0.02032756382298073, 0.020165168113477044, 0.17872313844925983, 0.36761711589223134, 0.17872378757258575, 0.30622851559869313, 0.3556505476662073, 0.36273045096470014, 0.3671192155438142, 0.020174286904649712, 0.33863008379681614, -0.02124170193134, 0.19927123358219542, 0.020210336112258493, 0.17872386666042037, 0.17865027376852477, -0.02031604758572742, 0.020209421987781532, 0.18715142849137395, 0.08081517955267277, 0.1716045700920834, 0.311348954702794, 0.34873225032207783, 0.3626931992403635, -0.022559126741570002, 0.4035658534241444, 0.15487093360240956, -0.020308976802188752, -0.0237344142677605, 0.020152294085357007, 0.3673150988705464, 0.36267546963300745, -0.020306646657941116, 0.261186776307928, 0.49781886232005235, 0.3853478635857619, 0.02020193085502441, 0.362728088697671, 0.008067007055159846, 0.36412609771189214, 0.3457353236502905, 0.38536365239792186, 0.3627068130922968, 0.39332131191956976, 0.34748475308784615, 0.3228588411364851, 0.3625872416608073, 0.25595791901680975, 0.3676584794589799, 0.020210145756061736, -0.02030620494780478, 0.33867708584582457, 0.28004674017198106, 0.0017246742042931614, 0.36735688137234607, 0.18668261267226513, 0.0202099750920317, 0.25595437691865464, 0.49674021941367236, 0.385359371671756, 0.1871517932574959, 0.3620523867585355, 0.3556356006761886, 0.3556363029766989, 0.301801865563307, 0.5473864255898068, -0.020316503690781328, 0.4978173943072961, 0.4978289822423197, 0.19076309813209463, 0.1871436993846593, -0.02047934822769308, 0.18713343122342735, -0.024397771903833004, 0.17785676393679328, 0.35534466022707256, -0.02049003886050908, 0.187150001376202, -0.02782319165880441, 0.10768945339310405, -0.020306161350151043, -0.020325406356950376, 0.30634379236039566, 0.403549550683116, 0.3676255930999753, 0.3624933673153102, 0.4978326751654564]}, {\"customdata\": [[\"SHA-256 + Hive\"], [\"Proof-of-Authority\"], [\"ECC 256K1\"], [\"Leased POS\"]], \"hoverlabel\": {\"namelength\": 0}, \"hovertemplate\": \"<b>%{hovertext}</b><br><br>Class=%{marker.color}<br>PC1=%{x}<br>PC2=%{y}<br>PC3=%{z}<br>Algorithm=%{customdata[0]}\", \"hovertext\": [\"LitecoinCash\", \"Poa Network\", \"Acute Angle Cloud\", \"Waves\"], \"legendgroup\": \"Class=1\", \"marker\": {\"color\": [1, 1, 1, 1], \"coloraxis\": \"coloraxis\", \"symbol\": \"square\"}, \"mode\": \"markers\", \"name\": \"Class=1\", \"scene\": \"scene\", \"showlegend\": true, \"type\": \"scatter3d\", \"x\": [-0.3515757649479635, -0.392899408547046, -0.35196031154156765, -0.41470561528038985], \"y\": [2.14851659857565, 3.135306976674505, 4.628932794160339, 3.23565986159396], \"z\": [15.471959000895414, 8.598440980930027, 11.988713509726553, 23.16601151712892]}, {\"customdata\": [[\"TRC10\"]], \"hoverlabel\": {\"namelength\": 0}, \"hovertemplate\": \"<b>%{hovertext}</b><br><br>Class=%{marker.color}<br>PC1=%{x}<br>PC2=%{y}<br>PC3=%{z}<br>Algorithm=%{customdata[0]}\", \"hovertext\": [\"BitTorrent\"], \"legendgroup\": \"Class=2\", \"marker\": {\"color\": [2], \"coloraxis\": \"coloraxis\", \"symbol\": \"x\"}, \"mode\": \"markers\", \"name\": \"Class=2\", \"scene\": \"scene\", \"showlegend\": true, \"type\": \"scatter3d\", \"x\": [34.04967028360085], \"y\": [1.5988117702578477], \"z\": [-0.4135841174176841]}],\n",
       "                        {\"coloraxis\": {\"colorbar\": {\"title\": {\"text\": \"Class\"}}, \"colorscale\": [[0.0, \"#0d0887\"], [0.1111111111111111, \"#46039f\"], [0.2222222222222222, \"#7201a8\"], [0.3333333333333333, \"#9c179e\"], [0.4444444444444444, \"#bd3786\"], [0.5555555555555556, \"#d8576b\"], [0.6666666666666666, \"#ed7953\"], [0.7777777777777778, \"#fb9f3a\"], [0.8888888888888888, \"#fdca26\"], [1.0, \"#f0f921\"]]}, \"height\": 600, \"legend\": {\"tracegroupgap\": 0, \"x\": 0, \"y\": 1}, \"margin\": {\"t\": 60}, \"scene\": {\"domain\": {\"x\": [0.0, 0.98], \"y\": [0.0, 1.0]}, \"xaxis\": {\"title\": {\"text\": \"PC1\"}}, \"yaxis\": {\"title\": {\"text\": \"PC2\"}}, \"zaxis\": {\"title\": {\"text\": \"PC3\"}}}, \"template\": {\"data\": {\"bar\": [{\"error_x\": {\"color\": \"#2a3f5f\"}, \"error_y\": {\"color\": \"#2a3f5f\"}, \"marker\": {\"line\": {\"color\": \"#E5ECF6\", \"width\": 0.5}}, \"type\": \"bar\"}], \"barpolar\": [{\"marker\": {\"line\": {\"color\": \"#E5ECF6\", \"width\": 0.5}}, \"type\": \"barpolar\"}], \"carpet\": [{\"aaxis\": {\"endlinecolor\": \"#2a3f5f\", \"gridcolor\": \"white\", \"linecolor\": \"white\", \"minorgridcolor\": \"white\", \"startlinecolor\": \"#2a3f5f\"}, \"baxis\": {\"endlinecolor\": \"#2a3f5f\", \"gridcolor\": \"white\", \"linecolor\": \"white\", \"minorgridcolor\": \"white\", \"startlinecolor\": \"#2a3f5f\"}, \"type\": \"carpet\"}], \"choropleth\": [{\"colorbar\": {\"outlinewidth\": 0, \"ticks\": \"\"}, \"type\": \"choropleth\"}], \"contour\": [{\"colorbar\": {\"outlinewidth\": 0, \"ticks\": \"\"}, \"colorscale\": [[0.0, \"#0d0887\"], [0.1111111111111111, \"#46039f\"], [0.2222222222222222, \"#7201a8\"], [0.3333333333333333, \"#9c179e\"], [0.4444444444444444, \"#bd3786\"], [0.5555555555555556, \"#d8576b\"], [0.6666666666666666, \"#ed7953\"], [0.7777777777777778, \"#fb9f3a\"], [0.8888888888888888, \"#fdca26\"], [1.0, \"#f0f921\"]], \"type\": \"contour\"}], \"contourcarpet\": [{\"colorbar\": {\"outlinewidth\": 0, \"ticks\": \"\"}, \"type\": \"contourcarpet\"}], \"heatmap\": [{\"colorbar\": {\"outlinewidth\": 0, \"ticks\": \"\"}, \"colorscale\": [[0.0, \"#0d0887\"], [0.1111111111111111, \"#46039f\"], [0.2222222222222222, \"#7201a8\"], [0.3333333333333333, \"#9c179e\"], [0.4444444444444444, \"#bd3786\"], [0.5555555555555556, \"#d8576b\"], [0.6666666666666666, \"#ed7953\"], [0.7777777777777778, \"#fb9f3a\"], [0.8888888888888888, \"#fdca26\"], [1.0, \"#f0f921\"]], \"type\": \"heatmap\"}], \"heatmapgl\": [{\"colorbar\": {\"outlinewidth\": 0, \"ticks\": \"\"}, \"colorscale\": [[0.0, \"#0d0887\"], [0.1111111111111111, \"#46039f\"], [0.2222222222222222, \"#7201a8\"], [0.3333333333333333, \"#9c179e\"], [0.4444444444444444, \"#bd3786\"], [0.5555555555555556, \"#d8576b\"], [0.6666666666666666, \"#ed7953\"], [0.7777777777777778, \"#fb9f3a\"], [0.8888888888888888, \"#fdca26\"], [1.0, \"#f0f921\"]], \"type\": \"heatmapgl\"}], \"histogram\": [{\"marker\": {\"colorbar\": {\"outlinewidth\": 0, \"ticks\": \"\"}}, \"type\": \"histogram\"}], \"histogram2d\": [{\"colorbar\": {\"outlinewidth\": 0, \"ticks\": \"\"}, \"colorscale\": [[0.0, \"#0d0887\"], [0.1111111111111111, \"#46039f\"], [0.2222222222222222, \"#7201a8\"], [0.3333333333333333, \"#9c179e\"], [0.4444444444444444, \"#bd3786\"], [0.5555555555555556, \"#d8576b\"], [0.6666666666666666, \"#ed7953\"], [0.7777777777777778, \"#fb9f3a\"], [0.8888888888888888, \"#fdca26\"], [1.0, \"#f0f921\"]], \"type\": \"histogram2d\"}], \"histogram2dcontour\": [{\"colorbar\": {\"outlinewidth\": 0, \"ticks\": \"\"}, \"colorscale\": [[0.0, \"#0d0887\"], [0.1111111111111111, \"#46039f\"], [0.2222222222222222, \"#7201a8\"], [0.3333333333333333, \"#9c179e\"], [0.4444444444444444, \"#bd3786\"], [0.5555555555555556, \"#d8576b\"], [0.6666666666666666, \"#ed7953\"], [0.7777777777777778, \"#fb9f3a\"], [0.8888888888888888, \"#fdca26\"], [1.0, \"#f0f921\"]], \"type\": \"histogram2dcontour\"}], \"mesh3d\": [{\"colorbar\": {\"outlinewidth\": 0, \"ticks\": \"\"}, \"type\": \"mesh3d\"}], \"parcoords\": [{\"line\": {\"colorbar\": {\"outlinewidth\": 0, \"ticks\": \"\"}}, \"type\": \"parcoords\"}], \"scatter\": [{\"marker\": {\"colorbar\": {\"outlinewidth\": 0, \"ticks\": \"\"}}, \"type\": \"scatter\"}], \"scatter3d\": [{\"line\": {\"colorbar\": {\"outlinewidth\": 0, \"ticks\": \"\"}}, \"marker\": {\"colorbar\": {\"outlinewidth\": 0, \"ticks\": \"\"}}, \"type\": \"scatter3d\"}], \"scattercarpet\": [{\"marker\": {\"colorbar\": {\"outlinewidth\": 0, \"ticks\": \"\"}}, \"type\": \"scattercarpet\"}], \"scattergeo\": [{\"marker\": {\"colorbar\": {\"outlinewidth\": 0, \"ticks\": \"\"}}, \"type\": \"scattergeo\"}], \"scattergl\": [{\"marker\": {\"colorbar\": {\"outlinewidth\": 0, \"ticks\": \"\"}}, \"type\": \"scattergl\"}], \"scattermapbox\": [{\"marker\": {\"colorbar\": {\"outlinewidth\": 0, \"ticks\": \"\"}}, \"type\": \"scattermapbox\"}], \"scatterpolar\": [{\"marker\": {\"colorbar\": {\"outlinewidth\": 0, \"ticks\": \"\"}}, \"type\": \"scatterpolar\"}], \"scatterpolargl\": [{\"marker\": {\"colorbar\": {\"outlinewidth\": 0, \"ticks\": \"\"}}, \"type\": \"scatterpolargl\"}], \"scatterternary\": [{\"marker\": {\"colorbar\": {\"outlinewidth\": 0, \"ticks\": \"\"}}, \"type\": \"scatterternary\"}], \"surface\": [{\"colorbar\": {\"outlinewidth\": 0, \"ticks\": \"\"}, \"colorscale\": [[0.0, \"#0d0887\"], [0.1111111111111111, \"#46039f\"], [0.2222222222222222, \"#7201a8\"], [0.3333333333333333, \"#9c179e\"], [0.4444444444444444, \"#bd3786\"], [0.5555555555555556, \"#d8576b\"], [0.6666666666666666, \"#ed7953\"], [0.7777777777777778, \"#fb9f3a\"], [0.8888888888888888, \"#fdca26\"], [1.0, \"#f0f921\"]], \"type\": \"surface\"}], \"table\": [{\"cells\": {\"fill\": {\"color\": \"#EBF0F8\"}, \"line\": {\"color\": \"white\"}}, \"header\": {\"fill\": {\"color\": \"#C8D4E3\"}, \"line\": {\"color\": \"white\"}}, \"type\": \"table\"}]}, \"layout\": {\"annotationdefaults\": {\"arrowcolor\": \"#2a3f5f\", \"arrowhead\": 0, \"arrowwidth\": 1}, \"colorscale\": {\"diverging\": [[0, \"#8e0152\"], [0.1, \"#c51b7d\"], [0.2, \"#de77ae\"], [0.3, \"#f1b6da\"], [0.4, \"#fde0ef\"], [0.5, \"#f7f7f7\"], [0.6, \"#e6f5d0\"], [0.7, \"#b8e186\"], [0.8, \"#7fbc41\"], [0.9, \"#4d9221\"], [1, \"#276419\"]], \"sequential\": [[0.0, \"#0d0887\"], [0.1111111111111111, \"#46039f\"], [0.2222222222222222, \"#7201a8\"], [0.3333333333333333, \"#9c179e\"], [0.4444444444444444, \"#bd3786\"], [0.5555555555555556, \"#d8576b\"], [0.6666666666666666, \"#ed7953\"], [0.7777777777777778, \"#fb9f3a\"], [0.8888888888888888, \"#fdca26\"], [1.0, \"#f0f921\"]], \"sequentialminus\": [[0.0, \"#0d0887\"], [0.1111111111111111, \"#46039f\"], [0.2222222222222222, \"#7201a8\"], [0.3333333333333333, \"#9c179e\"], [0.4444444444444444, \"#bd3786\"], [0.5555555555555556, \"#d8576b\"], [0.6666666666666666, \"#ed7953\"], [0.7777777777777778, \"#fb9f3a\"], [0.8888888888888888, \"#fdca26\"], [1.0, \"#f0f921\"]]}, \"colorway\": [\"#636efa\", \"#EF553B\", \"#00cc96\", \"#ab63fa\", \"#FFA15A\", \"#19d3f3\", \"#FF6692\", \"#B6E880\", \"#FF97FF\", \"#FECB52\"], \"font\": {\"color\": \"#2a3f5f\"}, \"geo\": {\"bgcolor\": \"white\", \"lakecolor\": \"white\", \"landcolor\": \"#E5ECF6\", \"showlakes\": true, \"showland\": true, \"subunitcolor\": \"white\"}, \"hoverlabel\": {\"align\": \"left\"}, \"hovermode\": \"closest\", \"mapbox\": {\"style\": \"light\"}, \"paper_bgcolor\": \"white\", \"plot_bgcolor\": \"#E5ECF6\", \"polar\": {\"angularaxis\": {\"gridcolor\": \"white\", \"linecolor\": \"white\", \"ticks\": \"\"}, \"bgcolor\": \"#E5ECF6\", \"radialaxis\": {\"gridcolor\": \"white\", \"linecolor\": \"white\", \"ticks\": \"\"}}, \"scene\": {\"xaxis\": {\"backgroundcolor\": \"#E5ECF6\", \"gridcolor\": \"white\", \"gridwidth\": 2, \"linecolor\": \"white\", \"showbackground\": true, \"ticks\": \"\", \"zerolinecolor\": \"white\"}, \"yaxis\": {\"backgroundcolor\": \"#E5ECF6\", \"gridcolor\": \"white\", \"gridwidth\": 2, \"linecolor\": \"white\", \"showbackground\": true, \"ticks\": \"\", \"zerolinecolor\": \"white\"}, \"zaxis\": {\"backgroundcolor\": \"#E5ECF6\", \"gridcolor\": \"white\", \"gridwidth\": 2, \"linecolor\": \"white\", \"showbackground\": true, \"ticks\": \"\", \"zerolinecolor\": \"white\"}}, \"shapedefaults\": {\"line\": {\"color\": \"#2a3f5f\"}}, \"ternary\": {\"aaxis\": {\"gridcolor\": \"white\", \"linecolor\": \"white\", \"ticks\": \"\"}, \"baxis\": {\"gridcolor\": \"white\", \"linecolor\": \"white\", \"ticks\": \"\"}, \"bgcolor\": \"#E5ECF6\", \"caxis\": {\"gridcolor\": \"white\", \"linecolor\": \"white\", \"ticks\": \"\"}}, \"title\": {\"x\": 0.05}, \"xaxis\": {\"automargin\": true, \"gridcolor\": \"white\", \"linecolor\": \"white\", \"ticks\": \"\", \"zerolinecolor\": \"white\", \"zerolinewidth\": 2}, \"yaxis\": {\"automargin\": true, \"gridcolor\": \"white\", \"linecolor\": \"white\", \"ticks\": \"\", \"zerolinecolor\": \"white\", \"zerolinewidth\": 2}}}},\n",
       "                        {\"responsive\": true}\n",
       "                    ).then(function(){\n",
       "                            \n",
       "var gd = document.getElementById('f145f518-3f68-4f16-8ac0-de5db1fa0dd2');\n",
       "var x = new MutationObserver(function (mutations, observer) {{\n",
       "        var display = window.getComputedStyle(gd).display;\n",
       "        if (!display || display === 'none') {{\n",
       "            console.log([gd, 'removed!']);\n",
       "            Plotly.purge(gd);\n",
       "            observer.disconnect();\n",
       "        }}\n",
       "}});\n",
       "\n",
       "// Listen for the removal of the full notebook cells\n",
       "var notebookContainer = gd.closest('#notebook-container');\n",
       "if (notebookContainer) {{\n",
       "    x.observe(notebookContainer, {childList: true});\n",
       "}}\n",
       "\n",
       "// Listen for the clearing of the current output cell\n",
       "var outputEl = gd.closest('.output');\n",
       "if (outputEl) {{\n",
       "    x.observe(outputEl, {childList: true});\n",
       "}}\n",
       "\n",
       "                        })\n",
       "                };\n",
       "                });\n",
       "            </script>\n",
       "        </div>"
      ]
     },
     "metadata": {},
     "output_type": "display_data"
    }
   ],
   "source": [
    "# Creating a 3D-Scatter with the PCA data and the clusters\n",
    "fig = px.scatter_3d(\n",
    "    clustered_df,\n",
    "    x=\"PC1\",\n",
    "    y=\"PC2\",\n",
    "    z=\"PC3\",\n",
    "    color=\"Class\",\n",
    "    symbol=\"Class\",\n",
    "    hover_name=\"CoinName\",\n",
    "    hover_data=[\"Algorithm\"]\n",
    ")\n",
    "fig.update_layout(legend=dict(x=0, y=1))\n",
    "fig.show()\n"
   ]
  },
  {
   "cell_type": "markdown",
   "metadata": {},
   "source": [
    "#### Table of Tradable Cryptocurrencies"
   ]
  },
  {
   "cell_type": "code",
   "execution_count": 173,
   "metadata": {},
   "outputs": [
    {
     "data": {
      "application/vnd.holoviews_exec.v0+json": "",
      "text/html": [
       "<div id='1634' style='display: table; margin: 0 auto;'>\n",
       "\n",
       "\n",
       "\n",
       "\n",
       "\n",
       "  <div class=\"bk-root\" id=\"f203e29f-5458-460b-bda3-ba19af1b8ee0\" data-root-id=\"1634\"></div>\n",
       "</div>\n",
       "<script type=\"application/javascript\">(function(root) {\n",
       "  function embed_document(root) {\n",
       "    \n",
       "  var docs_json = {\"d6e04114-9873-4633-be23-20096a56cb78\":{\"roots\":{\"references\":[{\"attributes\":{\"columns\":[{\"id\":\"1606\",\"type\":\"TableColumn\"},{\"id\":\"1611\",\"type\":\"TableColumn\"},{\"id\":\"1616\",\"type\":\"TableColumn\"},{\"id\":\"1621\",\"type\":\"TableColumn\"},{\"id\":\"1626\",\"type\":\"TableColumn\"},{\"id\":\"1631\",\"type\":\"TableColumn\"}],\"height\":300,\"reorderable\":false,\"source\":{\"id\":\"1602\",\"type\":\"ColumnDataSource\"},\"view\":{\"id\":\"1635\",\"type\":\"CDSView\"},\"width\":700},\"id\":\"1634\",\"type\":\"DataTable\"},{\"attributes\":{\"format\":\"0,0.0[00000]\"},\"id\":\"1624\",\"type\":\"NumberFormatter\"},{\"attributes\":{},\"id\":\"1619\",\"type\":\"StringFormatter\"},{\"attributes\":{},\"id\":\"1620\",\"type\":\"StringEditor\"},{\"attributes\":{\"editor\":{\"id\":\"1615\",\"type\":\"StringEditor\"},\"field\":\"ProofType\",\"formatter\":{\"id\":\"1614\",\"type\":\"StringFormatter\"},\"title\":\"ProofType\"},\"id\":\"1616\",\"type\":\"TableColumn\"},{\"attributes\":{},\"id\":\"1614\",\"type\":\"StringFormatter\"},{\"attributes\":{},\"id\":\"1615\",\"type\":\"StringEditor\"},{\"attributes\":{},\"id\":\"1637\",\"type\":\"UnionRenderers\"},{\"attributes\":{\"callback\":null,\"data\":{\"Algorithm\":[\"Scrypt\",\"Scrypt\",\"X13\",\"SHA-256\",\"Ethash\",\"Scrypt\",\"X11\",\"CryptoNight-V7\",\"Ethash\",\"Equihash\",\"SHA-512\",\"Multiple\",\"SHA-256\",\"SHA-256\",\"Scrypt\",\"X15\",\"X11\",\"Scrypt\",\"Scrypt\",\"Scrypt\",\"Multiple\",\"Scrypt\",\"SHA-256\",\"Scrypt\",\"Scrypt\",\"Scrypt\",\"Quark\",\"Groestl\",\"Scrypt\",\"Scrypt\",\"Scrypt\",\"Scrypt\",\"Scrypt\",\"X11\",\"Scrypt\",\"Groestl\",\"Multiple\",\"SHA-256\",\"Scrypt\",\"Scrypt\",\"Scrypt\",\"Scrypt\",\"PoS\",\"Scrypt\",\"Scrypt\",\"NeoScrypt\",\"Scrypt\",\"Scrypt\",\"Scrypt\",\"Scrypt\",\"X11\",\"Scrypt\",\"X11\",\"SHA-256\",\"Scrypt\",\"Scrypt\",\"Scrypt\",\"SHA3\",\"Scrypt\",\"HybridScryptHash256\",\"Scrypt\",\"Scrypt\",\"SHA-256\",\"Scrypt\",\"X13\",\"Scrypt\",\"SHA-256\",\"Scrypt\",\"X13\",\"NeoScrypt\",\"Scrypt\",\"Scrypt\",\"Scrypt\",\"Scrypt\",\"Scrypt\",\"Scrypt\",\"X11\",\"X11\",\"SHA-256\",\"Multiple\",\"SHA-256\",\"PHI1612\",\"X11\",\"SHA-256\",\"SHA-256\",\"SHA-256\",\"X11\",\"Scrypt\",\"Scrypt\",\"Scrypt\",\"Scrypt\",\"Lyra2REv2\",\"Scrypt\",\"X11\",\"Multiple\",\"SHA-256\",\"X13\",\"Scrypt\",\"CryptoNight\",\"CryptoNight\",\"Shabal256\",\"Counterparty\",\"Scrypt\",\"SHA-256\",\"Groestl\",\"Scrypt\",\"Scrypt\",\"Scrypt\",\"X13\",\"Scrypt\",\"Scrypt\",\"Scrypt\",\"Scrypt\",\"X13\",\"Scrypt\",\"Stanford Folding\",\"X11\",\"Multiple\",\"QuBit\",\"Scrypt\",\"Scrypt\",\"Scrypt\",\"M7 POW\",\"Scrypt\",\"SHA-256\",\"Scrypt\",\"X11\",\"SHA3\",\"X11\",\"Lyra2RE\",\"SHA-256\",\"QUAIT\",\"X11\",\"X11\",\"Scrypt\",\"Scrypt\",\"Scrypt\",\"Ethash\",\"X13\",\"Blake2b\",\"SHA-256\",\"X15\",\"X11\",\"SHA-256\",\"BLAKE256\",\"Scrypt\",\"1GB AES Pattern Search\",\"SHA-256\",\"X11\",\"Scrypt\",\"SHA-256\",\"SHA-256\",\"NIST5\",\"Scrypt\",\"Scrypt\",\"X11\",\"Dagger\",\"Scrypt\",\"X11GOST\",\"X11\",\"Scrypt\",\"SHA-256\",\"Scrypt\",\"PoS\",\"Scrypt\",\"X11\",\"X11\",\"SHA-256\",\"SHA-256\",\"NIST5\",\"X11\",\"Scrypt\",\"POS 3.0\",\"Scrypt\",\"Scrypt\",\"Scrypt\",\"X13\",\"X11\",\"X11\",\"Equihash\",\"X11\",\"Scrypt\",\"CryptoNight\",\"SHA-256\",\"SHA-256\",\"X11\",\"Scrypt\",\"Multiple\",\"Scrypt\",\"Scrypt\",\"Scrypt\",\"SHA-256\",\"Scrypt\",\"Scrypt\",\"SHA-256D\",\"PoS\",\"Scrypt\",\"X11\",\"Lyra2Z\",\"PoS\",\"X13\",\"X14\",\"PoS\",\"SHA-256D\",\"Ethash\",\"Equihash\",\"DPoS\",\"X11\",\"Scrypt\",\"X11\",\"X13\",\"X11\",\"PoS\",\"Scrypt\",\"Scrypt\",\"X11\",\"PoS\",\"X11\",\"SHA-256\",\"Scrypt\",\"X11\",\"Scrypt\",\"Scrypt\",\"X11\",\"CryptoNight\",\"Scrypt\",\"Scrypt\",\"Scrypt\",\"Scrypt\",\"Quark\",\"QuBit\",\"Scrypt\",\"CryptoNight\",\"Lyra2RE\",\"Scrypt\",\"SHA-256\",\"X11\",\"Scrypt\",\"X11\",\"Scrypt\",\"CryptoNight-V7\",\"Scrypt\",\"Scrypt\",\"Scrypt\",\"X13\",\"X11\",\"Equihash\",\"Scrypt\",\"Scrypt\",\"Lyra2RE\",\"Scrypt\",\"Dagger-Hashimoto\",\"X11\",\"Blake2S\",\"X11\",\"Scrypt\",\"PoS\",\"X11\",\"NIST5\",\"PoS\",\"X11\",\"Scrypt\",\"Scrypt\",\"Scrypt\",\"SHA-256\",\"X11\",\"Scrypt\",\"Scrypt\",\"SHA-256\",\"PoS\",\"Scrypt\",\"X15\",\"SHA-256\",\"Scrypt\",\"POS 3.0\",\"CryptoNight-V7\",\"536\",\"Argon2d\",\"Blake2b\",\"Cloverhash\",\"CryptoNight\",\"NIST5\",\"X11\",\"NIST5\",\"Skein\",\"Scrypt\",\"X13\",\"Scrypt\",\"X11\",\"X11\",\"Scrypt\",\"CryptoNight\",\"X13\",\"Time Travel\",\"Scrypt\",\"Keccak\",\"SkunkHash v2 Raptor\",\"X11\",\"Skein\",\"SHA-256\",\"X11\",\"Scrypt\",\"VeChainThor Authority\",\"Scrypt\",\"PoS\",\"Scrypt\",\"Scrypt\",\"Scrypt\",\"Scrypt\",\"Scrypt\",\"Scrypt\",\"Scrypt\",\"CryptoNight\",\"SHA-512\",\"Ouroboros\",\"X11\",\"Equihash\",\"NeoScrypt\",\"X11\",\"Scrypt\",\"NeoScrypt\",\"Lyra2REv2\",\"Equihash\",\"Scrypt\",\"SHA-256\",\"NIST5\",\"PHI1612\",\"Dagger\",\"Scrypt\",\"Quark\",\"Scrypt\",\"POS 2.0\",\"Scrypt\",\"SHA-256\",\"X11\",\"NeoScrypt\",\"Ethash\",\"NeoScrypt\",\"X11\",\"DPoS\",\"NIST5\",\"X13\",\"Multiple\",\"Scrypt\",\"CryptoNight\",\"CryptoNight\",\"Ethash\",\"NIST5\",\"Quark\",\"X11\",\"CryptoNight-V7\",\"Scrypt\",\"Scrypt\",\"Scrypt\",\"X11\",\"BLAKE256\",\"X11\",\"NeoScrypt\",\"Quark\",\"NeoScrypt\",\"Scrypt\",\"Scrypt\",\"Scrypt\",\"X11\",\"X11\",\"SHA-256\",\"C11\",\"POS 3.0\",\"Ethash\",\"Scrypt\",\"CryptoNight\",\"SkunkHash\",\"Scrypt\",\"CryptoNight\",\"Scrypt\",\"Dagger\",\"Lyra2REv2\",\"X13\",\"Proof-of-BibleHash\",\"SHA-256 + Hive\",\"Scrypt\",\"Scrypt\",\"X11\",\"C11\",\"Proof-of-Authority\",\"X11\",\"XEVAN\",\"Scrypt\",\"VBFT\",\"Ethash\",\"CryptoNight\",\"Scrypt\",\"IMesh\",\"NIST5\",\"Scrypt\",\"Scrypt\",\"Equihash\",\"Scrypt\",\"Lyra2Z\",\"Green Protocol\",\"PoS\",\"Scrypt\",\"Semux BFT consensus\",\"X11\",\"Quark\",\"PoS\",\"CryptoNight\",\"X16R\",\"Scrypt\",\"NIST5\",\"Lyra2RE\",\"XEVAN\",\"Tribus\",\"Scrypt\",\"Lyra2Z\",\"CryptoNight\",\"CryptoNight Heavy\",\"CryptoNight\",\"Scrypt\",\"Scrypt\",\"Jump Consistent Hash\",\"SHA-256D\",\"CryptoNight\",\"Scrypt\",\"X15\",\"Scrypt\",\"Quark\",\"SHA-256\",\"DPoS\",\"X16R\",\"HMQ1725\",\"X11\",\"X16R\",\"Quark\",\"Quark\",\"Scrypt\",\"Lyra2REv2\",\"Quark\",\"Scrypt\",\"Scrypt\",\"CryptoNight-V7\",\"Cryptonight-GPU\",\"XEVAN\",\"CryptoNight Heavy\",\"X11\",\"X11\",\"Scrypt\",\"PoS\",\"SHA-256\",\"Keccak\",\"X11\",\"X11\",\"Scrypt\",\"SHA-512\",\"X16R\",\"ECC 256K1\",\"Equihash\",\"XEVAN\",\"Lyra2Z\",\"SHA-256\",\"XEVAN\",\"X11\",\"CryptoNight\",\"Quark\",\"Blake\",\"Blake\",\"Equihash\",\"Exosis\",\"Scrypt\",\"Scrypt\",\"Equihash\",\"Quark\",\"Equihash\",\"Quark\",\"Scrypt\",\"QuBit\",\"X11\",\"Scrypt\",\"XEVAN\",\"SHA-256D\",\"X11\",\"SHA-256\",\"X13\",\"SHA-256\",\"X11\",\"DPoS\",\"Scrypt\",\"Scrypt\",\"X11\",\"NeoScrypt\",\"Scrypt\",\"Blake\",\"Scrypt\",\"SHA-256\",\"Scrypt\",\"X11\",\"Scrypt\",\"Scrypt\",\"SHA-256\",\"X11\",\"SHA-256\",\"Scrypt\",\"Scrypt\",\"Scrypt\",\"Groestl\",\"X11\",\"Scrypt\",\"PoS\",\"Scrypt\",\"Scrypt\",\"X11\",\"SHA-256\",\"DPoS\",\"Scrypt\",\"Scrypt\",\"NeoScrypt\",\"Multiple\",\"X13\",\"Equihash+Scrypt\",\"DPoS\",\"Ethash\",\"DPoS\",\"SHA-256\",\"Leased POS\",\"PoS\",\"TRC10\",\"PoS\",\"SHA-256\",\"Scrypt\",\"CryptoNight\",\"Equihash\",\"Scrypt\"],\"Class\":{\"__ndarray__\":\"AAAAAAAAAAAAAAAAAwAAAAMAAAADAAAAAAAAAAMAAAADAAAAAwAAAAAAAAADAAAAAAAAAAAAAAADAAAAAAAAAAMAAAADAAAAAAAAAAAAAAADAAAAAwAAAAMAAAADAAAAAwAAAAAAAAADAAAAAwAAAAMAAAAAAAAAAwAAAAAAAAADAAAAAwAAAAAAAAAAAAAAAwAAAAMAAAADAAAAAwAAAAMAAAADAAAAAAAAAAAAAAADAAAAAwAAAAMAAAADAAAAAwAAAAAAAAAAAAAAAwAAAAAAAAADAAAAAwAAAAMAAAADAAAAAAAAAAMAAAADAAAAAAAAAAMAAAAAAAAAAAAAAAAAAAADAAAAAwAAAAMAAAAAAAAAAAAAAAAAAAAAAAAAAAAAAAMAAAADAAAAAwAAAAAAAAAAAAAAAwAAAAAAAAADAAAAAAAAAAAAAAADAAAAAwAAAAMAAAADAAAAAAAAAAAAAAADAAAAAAAAAAMAAAADAAAAAAAAAAAAAAADAAAAAAAAAAAAAAADAAAAAwAAAAAAAAAAAAAAAwAAAAAAAAAAAAAAAwAAAAAAAAADAAAAAAAAAAMAAAAAAAAAAwAAAAAAAAAAAAAAAwAAAAMAAAAAAAAAAwAAAAMAAAADAAAAAAAAAAMAAAADAAAAAwAAAAMAAAADAAAAAAAAAAAAAAADAAAAAwAAAAMAAAAAAAAAAwAAAAAAAAADAAAAAwAAAAAAAAADAAAAAAAAAAMAAAAAAAAAAAAAAAMAAAADAAAAAAAAAAMAAAADAAAAAAAAAAAAAAADAAAAAAAAAAMAAAAAAAAAAAAAAAAAAAADAAAAAwAAAAMAAAADAAAAAAAAAAAAAAAAAAAAAAAAAAAAAAADAAAAAwAAAAAAAAAAAAAAAAAAAAAAAAAAAAAAAwAAAAAAAAAAAAAAAAAAAAAAAAAAAAAAAwAAAAAAAAADAAAAAAAAAAAAAAADAAAAAAAAAAMAAAAAAAAAAAAAAAMAAAAAAAAAAwAAAAAAAAADAAAAAAAAAAMAAAAAAAAAAAAAAAAAAAAAAAAAAwAAAAAAAAAAAAAAAAAAAAAAAAAAAAAAAwAAAAMAAAAAAAAAAAAAAAMAAAADAAAAAAAAAAAAAAAAAAAAAAAAAAAAAAADAAAAAAAAAAAAAAAAAAAAAAAAAAAAAAAAAAAAAAAAAAAAAAADAAAAAAAAAAAAAAAAAAAAAAAAAAAAAAAAAAAAAwAAAAMAAAADAAAAAAAAAAAAAAAAAAAAAAAAAAMAAAAAAAAAAwAAAAAAAAAAAAAAAwAAAAAAAAADAAAAAwAAAAAAAAADAAAAAwAAAAAAAAADAAAAAAAAAAAAAAAAAAAAAwAAAAAAAAAAAAAAAwAAAAAAAAAAAAAAAAAAAAAAAAAAAAAAAAAAAAAAAAADAAAAAAAAAAMAAAAAAAAAAAAAAAAAAAAAAAAAAwAAAAAAAAADAAAAAAAAAAMAAAADAAAAAwAAAAMAAAAAAAAAAwAAAAAAAAAAAAAAAwAAAAAAAAADAAAAAwAAAAMAAAAAAAAAAwAAAAAAAAADAAAAAwAAAAMAAAAAAAAAAwAAAAAAAAADAAAAAAAAAAAAAAAAAAAAAwAAAAAAAAADAAAAAwAAAAMAAAADAAAAAwAAAAAAAAAAAAAAAwAAAAAAAAAAAAAAAAAAAAMAAAAAAAAAAwAAAAAAAAADAAAAAAAAAAMAAAAAAAAAAAAAAAAAAAAAAAAAAwAAAAAAAAAAAAAAAwAAAAAAAAAAAAAAAAAAAAMAAAADAAAAAwAAAAMAAAAAAAAAAAAAAAAAAAAAAAAAAwAAAAAAAAADAAAAAwAAAAMAAAAAAAAAAAAAAAMAAAADAAAAAAAAAAAAAAADAAAAAAAAAAMAAAADAAAAAwAAAAAAAAADAAAAAwAAAAAAAAAAAAAAAAAAAAMAAAADAAAAAwAAAAAAAAADAAAAAAAAAAMAAAADAAAAAAAAAAMAAAADAAAAAwAAAAMAAAAAAAAAAAAAAAEAAAADAAAAAwAAAAMAAAAAAAAAAQAAAAAAAAAAAAAAAAAAAAAAAAADAAAAAwAAAAMAAAADAAAAAAAAAAAAAAAAAAAAAwAAAAAAAAADAAAAAAAAAAAAAAAAAAAAAAAAAAMAAAAAAAAAAAAAAAMAAAAAAAAAAAAAAAMAAAADAAAAAAAAAAMAAAAAAAAAAwAAAAMAAAADAAAAAwAAAAAAAAAAAAAAAwAAAAAAAAADAAAAAAAAAAAAAAAAAAAAAAAAAAAAAAAAAAAAAwAAAAMAAAADAAAAAAAAAAAAAAAAAAAAAAAAAAAAAAAAAAAAAwAAAAAAAAADAAAAAwAAAAMAAAADAAAAAAAAAAAAAAAAAAAAAAAAAAMAAAAAAAAAAAAAAAMAAAAAAAAAAAAAAAMAAAABAAAAAwAAAAAAAAADAAAAAwAAAAAAAAAAAAAAAwAAAAAAAAADAAAAAwAAAAMAAAADAAAAAwAAAAAAAAADAAAAAAAAAAMAAAAAAAAAAAAAAAMAAAAAAAAAAAAAAAAAAAAAAAAAAAAAAAMAAAADAAAAAwAAAAAAAAAAAAAAAAAAAAMAAAAAAAAAAwAAAAAAAAADAAAAAAAAAAAAAAAAAAAAAAAAAAMAAAAAAAAAAAAAAAAAAAADAAAAAAAAAAMAAAAAAAAAAwAAAAAAAAAAAAAAAAAAAAMAAAADAAAAAAAAAAAAAAAAAAAAAAAAAAAAAAAAAAAAAwAAAAAAAAADAAAAAAAAAAMAAAAAAAAAAAAAAAEAAAAAAAAAAgAAAAAAAAAAAAAAAAAAAAMAAAADAAAAAAAAAA==\",\"dtype\":\"int32\",\"shape\":[532]},\"CoinName\":[\"42 Coin\",\"404Coin\",\"EliteCoin\",\"Bitcoin\",\"Ethereum\",\"Litecoin\",\"Dash\",\"Monero\",\"Ethereum Classic\",\"ZCash\",\"Bitshares\",\"DigiByte\",\"BitcoinDark\",\"PayCoin\",\"ProsperCoin\",\"KoboCoin\",\"Spreadcoin\",\"Argentum\",\"Aurora Coin\",\"BlueCoin\",\"MyriadCoin\",\"MoonCoin\",\"ZetaCoin\",\"SexCoin\",\"Quatloo\",\"EnergyCoin\",\"QuarkCoin\",\"Riecoin\",\"Digitalcoin \",\"BitBar\",\"Catcoin\",\"CryptoBullion\",\"CannaCoin\",\"CryptCoin\",\"CasinoCoin\",\"Diamond\",\"Verge\",\"DevCoin\",\"EarthCoin\",\"E-Gulden\",\"Einsteinium\",\"Emerald\",\"Exclusive Coin\",\"FlutterCoin\",\"Franko\",\"FeatherCoin\",\"GrandCoin\",\"GlobalCoin\",\"GoldCoin\",\"HoboNickels\",\"HyperStake\",\"Infinite Coin\",\"IOCoin\",\"IXcoin\",\"KrugerCoin\",\"LuckyCoin\",\"Litebar \",\"MaxCoin\",\"MegaCoin\",\"MediterraneanCoin\",\"MintCoin\",\"MinCoin\",\"MazaCoin\",\"Nautilus Coin\",\"NavCoin\",\"NobleCoin\",\"Namecoin\",\"NyanCoin\",\"OpalCoin\",\"Orbitcoin\",\"PotCoin\",\"PhoenixCoin\",\"Reddcoin\",\"RonPaulCoin\",\"StableCoin\",\"SmartCoin\",\"SuperCoin\",\"SyncCoin\",\"SysCoin\",\"TeslaCoin\",\"TigerCoin\",\"TittieCoin\",\"TorCoin\",\"TerraCoin\",\"UnbreakableCoin\",\"Unobtanium\",\"UroCoin\",\"UnitaryStatus Dollar\",\"UltraCoin\",\"ViaCoin\",\"VeriCoin\",\"Vertcoin\",\"WorldCoin\",\"X11 Coin\",\"Crypti\",\"JouleCoin\",\"StealthCoin\",\"ZCC Coin\",\"ByteCoin\",\"DigitalNote \",\"BurstCoin\",\"StorjCoin\",\"MonaCoin\",\"Neutron\",\"FairCoin\",\"Gulden\",\"RubyCoin\",\"PesetaCoin\",\"Kore\",\"Wild Beast Coin\",\"Dnotes\",\"Flo\",\"8BIT Coin\",\"Sativa Coin\",\"ArtByte\",\"Folding Coin\",\"Ucoin\",\"Unitus\",\"CypherPunkCoin\",\"OmniCron\",\"Vtorrent\",\"GreenCoin\",\"Cryptonite\",\"MasterCoin\",\"SoonCoin\",\"1Credit\",\"IslaCoin\",\"Nexus\",\"MarsCoin \",\"Crypto\",\"Anarchists Prime\",\"Droidz\",\"BowsCoin\",\"Squall Coin\",\"Song Coin\",\"BitZeny\",\"Diggits\",\"Expanse\",\"Paycon\",\"Siacoin\",\"Emercoin\",\"EverGreenCoin\",\"MindCoin\",\"I0coin\",\"Decred\",\"Revolution VR\",\"HOdlcoin\",\"EDRCoin\",\"Hitcoin\",\"Gamecredits\",\"DubaiCoin\",\"CarpeDiemCoin\",\"PWR Coin\",\"BillaryCoin\",\"GPU Coin\",\"Adzcoin\",\"SoilCoin\",\"YoCoin\",\"SibCoin\",\"EuropeCoin\",\"ZeitCoin\",\"SwingCoin\",\"SafeExchangeCoin\",\"Nebuchadnezzar\",\"Francs\",\"BolivarCoin\",\"Ratecoin\",\"Revenu\",\"Clockcoin\",\"VIP Tokens\",\"BitSend\",\"Omni\",\"Let it Ride\",\"PutinCoin\",\"iBankCoin\",\"Frankywillcoin\",\"MudraCoin\",\"PizzaCoin\",\"Lutetium Coin\",\"Komodo\",\"GoldBlocks\",\"CarterCoin\",\"Karbo\",\"BitTokens\",\"ZayedCoin\",\"MustangCoin\",\"ZoneCoin\",\"Circuits of Value\",\"RootCoin\",\"DopeCoin\",\"BitCurrency\",\"DollarCoin\",\"Swiscoin\",\"Shilling\",\"BuzzCoin\",\"Opair\",\"PesoBit\",\"Halloween Coin\",\"ZCoin\",\"CoffeeCoin\",\"RoyalCoin\",\"GanjaCoin V2\",\"TeamUP\",\"LanaCoin\",\"Elementrem\",\"ZClassic\",\"ARK\",\"InsaneCoin\",\"KiloCoin\",\"ArtexCoin\",\"EmberCoin\",\"XenixCoin\",\"FreeCoin\",\"PLNCoin\",\"AquariusCoin\",\"Kurrent\",\"Creatio\",\"Eternity\",\"Eurocoin\",\"BitcoinFast\",\"Stakenet\",\"BitConnect Coin\",\"MoneyCoin\",\"Enigma\",\"Cannabis Industry Coin\",\"Russiacoin\",\"PandaCoin\",\"GameUnits\",\"GAKHcoin\",\"Allsafe\",\"LiteCreed\",\"OsmiumCoin\",\"Bikercoins\",\"HexxCoin\",\"Klingon Empire Darsek\",\"Internet of People\",\"KushCoin\",\"Printerium\",\"PacCoin\",\"Impeach\",\"Citadel\",\"Zilbercoin\",\"FirstCoin\",\"BeaverCoin\",\"FindCoin\",\"VaultCoin\",\"Zero\",\"OpenChat\",\"Canada eCoin\",\"Zoin\",\"RenosCoin\",\"DubaiCoin\",\"VirtacoinPlus\",\"TajCoin\",\"Impact\",\"EB3coin\",\"Atmos\",\"HappyCoin\",\"Coinonat\",\"MacronCoin\",\"Condensate\",\"Independent Money System\",\"ArgusCoin\",\"LomoCoin\",\"ProCurrency\",\"GoldReserve\",\"BenjiRolls\",\"GrowthCoin\",\"ILCoin\",\"Phreak\",\"Degas Coin\",\"HTML5 Coin\",\"Ultimate Secure Cash\",\"EquiTrader\",\"QTUM\",\"Quantum Resistant Ledger\",\"Espers\",\"Dynamic\",\"Nano\",\"ChanCoin\",\"Dinastycoin\",\"Denarius\",\"DigitalPrice\",\"Virta Unique Coin\",\"Bitcoin Planet\",\"Unify\",\"BritCoin\",\"SocialCoin\",\"ArcticCoin\",\"DAS\",\"Linda\",\"LeviarCoin\",\"DeepOnion\",\"Bitcore\",\"gCn Coin\",\"SmartCash\",\"Signatum\",\"Onix\",\"Cream\",\"Bitcoin Cash\",\"Monoeci\",\"Draftcoin\",\"Vechain\",\"Sojourn Coin\",\"Stakecoin\",\"NewYorkCoin\",\"FrazCoin\",\"Kronecoin\",\"AdCoin\",\"Linx\",\"CoinonatX\",\"Ethereum Dark\",\"Sumokoin\",\"Obsidian\",\"Cardano\",\"Regalcoin\",\"BitcoinZ\",\"TrezarCoin\",\"Elements\",\"TerraNovaCoin\",\"VIVO Coin\",\"Rupee\",\"Bitcoin Gold\",\"WomenCoin\",\"Theresa May Coin\",\"NamoCoin\",\"LUXCoin\",\"Pirl\",\"Xios\",\"Bitcloud 2.0\",\"eBoost\",\"KekCoin\",\"BlackholeCoin\",\"Infinity Economics\",\"Pura\",\"Innova\",\"Ellaism\",\"GoByte\",\"Magnet\",\"Lamden Tau\",\"Electra\",\"Bitcoin Diamond\",\"SHIELD\",\"Cash & Back Coin\",\"UltraNote\",\"BitCoal\",\"DaxxCoin\",\"Bulwark\",\"Kalkulus\",\"AC3\",\"Lethean\",\"GermanCoin\",\"LiteCoin Ultra\",\"PopularCoin\",\"PhantomX\",\"Photon\",\"Sucre\",\"SparksPay\",\"Digiwage\",\"GunCoin\",\"IrishCoin\",\"Trollcoin\",\"Litecoin Plus\",\"Monkey Project\",\"Pioneer Coin\",\"UnitedBitcoin\",\"Interzone\",\"TokenPay\",\"1717 Masonic Commemorative Token\",\"My Big Coin\",\"TurtleCoin\",\"MUNcoin\",\"Unified Society USDEX\",\"Niobio Cash\",\"ShareChain\",\"Travelflex\",\"KREDS\",\"Tokyo Coin\",\"BiblePay\",\"LitecoinCash\",\"BitFlip\",\"LottoCoin\",\"Crypto Improvement Fund\",\"Stipend\",\"Poa Network\",\"Pushi\",\"Ellerium\",\"Velox\",\"Ontology\",\"Callisto Network\",\"BitTube\",\"Poseidon\",\"Aidos Kuneen\",\"Bitspace\",\"Briacoin\",\"Ignition\",\"Bitrolium\",\"MedicCoin\",\"Alpenschillling\",\"Bitcoin Green\",\"Deviant Coin\",\"Abjcoin\",\"Semux\",\"FuturoCoin\",\"Carebit\",\"Zealium\",\"Monero Classic\",\"Proton\",\"iDealCash\",\"Jumpcoin\",\"Infinex\",\"Bitcoin Incognito\",\"KEYCO\",\"HollyWoodCoin\",\"GINcoin\",\"PlatinCoin\",\"Loki\",\"Newton Coin\",\"Swisscoin\",\"Xt3ch\",\"MassGrid\",\"TheVig\",\"PluraCoin\",\"EmaratCoin\",\"Dekado\",\"Lynx\",\"Poseidon Quark\",\"BitcoinWSpectrum\",\"Muse\",\"Motion\",\"PlusOneCoin\",\"Axe\",\"Trivechain\",\"Dystem\",\"Giant\",\"Peony Coin\",\"Absolute Coin\",\"Vitae\",\"HexCoin\",\"TPCash\",\"Webchain\",\"Ryo\",\"Urals Coin\",\"Qwertycoin\",\"ARENON\",\"EUNO\",\"MMOCoin\",\"Ketan\",\"Project Pai\",\"XDNA\",\"PAXEX\",\"Azart\",\"ThunderStake\",\"Kcash\",\"Xchange\",\"Acute Angle Cloud\",\"CrypticCoin\",\"Bettex coin\",\"Actinium\",\"Bitcoin SV\",\"BitMoney\",\"Junson Ming Chan Coin\",\"FREDEnergy\",\"HerbCoin\",\"Universal Molecule\",\"Lithium\",\"PirateCash\",\"Exosis\",\"Block-Logic\",\"Oduwa\",\"Beam\",\"Galilel\",\"Bithereum\",\"Crypto Sports\",\"Credit\",\"SLICE\",\"Dash Platinum\",\"Nasdacoin\",\"Beetle Coin\",\"Titan Coin\",\"Award\",\"BLAST\",\"Bitcoin Rhodium\",\"GlobalToken\",\"Insane Coin\",\"ALAX\",\"LiteDoge\",\"SolarCoin\",\"TruckCoin\",\"UFO Coin\",\"OrangeCoin\",\"BlakeCoin\",\"BitstarCoin\",\"NeosCoin\",\"HyperCoin\",\"PinkCoin\",\"Crypto Escudo\",\"AudioCoin\",\"IncaKoin\",\"Piggy Coin\",\"Crown Coin\",\"Genstake\",\"SmileyCoin\",\"XiaoMiCoin\",\"Groestlcoin\",\"CapriCoin\",\" ClubCoin\",\"Radium\",\"Bata\",\"Pakcoin\",\"Creditbit \",\"OKCash\",\"Lisk\",\"HiCoin\",\"WhiteCoin\",\"FriendshipCoin\",\"JoinCoin\",\"Triangles Coin\",\"Vollar\",\"EOS\",\"Reality Clash\",\"Oxycoin\",\"TigerCash\",\"Waves\",\"Particl\",\"BitTorrent\",\"Nxt\",\"ZEPHYR\",\"Gapcoin\",\"Beldex\",\"Horizen\",\"BitcoinPlus\"],\"ProofType\":[\"PoW/PoS\",\"PoW/PoS\",\"PoW/PoS\",\"PoW\",\"PoW\",\"PoW\",\"PoW/PoS\",\"PoW\",\"PoW\",\"PoW\",\"PoS\",\"PoW\",\"PoW/PoS\",\"PoS\",\"PoW\",\"PoW/PoS\",\"PoW\",\"PoW\",\"PoW/PoS\",\"PoW/PoS\",\"PoW\",\"PoW\",\"PoW\",\"PoW\",\"PoW\",\"PoW/PoS\",\"PoW\",\"PoW\",\"PoW\",\"PoW/PoS\",\"PoW\",\"PoW/PoS\",\"PoW\",\"PoW\",\"PoC\",\"PoW/PoS\",\"PoW\",\"PoW\",\"PoW\",\"PoW\",\"PoW\",\"PoW\",\"PoS\",\"PoS/PoW/PoT\",\"PoW\",\"PoW\",\"PoW\",\"PoW\",\"PoW\",\"PoW/PoS\",\"PoS\",\"PoW\",\"PoW/PoS\",\"PoW\",\"PoW\",\"PoW\",\"PoW\",\"PoW/PoS\",\"PoW\",\"PoW\",\"PoS\",\"PoW\",\"PoW/PoS\",\"PoS\",\"PoW/PoS\",\"PoW\",\"PoW\",\"PoW\",\"PoW/PoS\",\"PoW/PoS\",\"PoW/PoS\",\"PoW/PoS\",\"PoW/PoS\",\"PoW\",\"PoW\",\"PoW\",\"PoS\",\"PoW/PoS\",\"PoW\",\"PoS\",\"PoW\",\"PoS\",\"PoW/PoS\",\"PoW\",\"PoW\",\"PoW\",\"PoW\",\"PoW/PoS\",\"PoW/PoS\",\"PoW\",\"PoST\",\"PoW\",\"PoW\",\"PoW/PoS\",\"PoS\",\"PoW\",\"PoW/PoS\",\"PoW/PoS\",\"PoW\",\"PoW\",\"PoC\",\"PoS\",\"PoW\",\"PoW/PoS\",\"PoW/PoS\",\"PoW\",\"PoS\",\"PoW\",\"PoW/PoS\",\"PoW\",\"PoS\",\"PoW\",\"PoW/PoS\",\"PoW/PoS\",\"PoW\",\"PoW\",\"PoS\",\"PoW\",\"PoW\",\"PoW\",\"PoW/PoS\",\"PoW\",\"PoW\",\"PoW\",\"PoW\",\"PoW\",\"PoW/PoS\",\"PoW/nPoS\",\"PoW\",\"PoW\",\"PoW\",\"PoW/PoS\",\"PoW\",\"PoS/PoW\",\"PoW\",\"PoW\",\"PoS\",\"PoW\",\"PoW/PoS\",\"PoW\",\"PoW/PoS\",\"PoW/PoS\",\"PoW\",\"PoW\",\"PoW/PoS\",\"PoW\",\"PoW\",\"PoW/PoS\",\"PoW/PoS\",\"PoW\",\"PoW/PoS\",\"PoW\",\"PoW/PoS\",\"PoW/PoS\",\"PoS\",\"PoW\",\"PoW\",\"PoW\",\"PoW\",\"PoW/PoS\",\"PoS\",\"PoW/PoS\",\"PoC\",\"PoS\",\"PoW\",\"PoW\",\"PoW/PoS\",\"PoW/PoS\",\"PoW/PoS\",\"PoW/PoS\",\"PoW/PoS\",\"PoW\",\"PoS\",\"PoW/PoS\",\"PoW/PoS\",\"PoW/PoS\",\"PoS\",\"PoW\",\"PoS\",\"dPoW/PoW\",\"PoW/PoS\",\"PoW/PoS\",\"PoW\",\"PoW/PoS\",\"PoW\",\"PoW/PoS\",\"PoW/PoS\",\"PoW\",\"PoW/PoS\",\"PoW\",\"PoS\",\"PoW\",\"PoW/PoW\",\"PoW\",\"PoW/PoS\",\"PoS\",\"PoW/PoS\",\"PoW/PoS\",\"PoW\",\"PoS\",\"PoS\",\"PoW/PoS\",\"PoS\",\"PoW/PoS\",\"PoW\",\"PoW\",\"DPoS\",\"PoW/PoS\",\"PoW\",\"PoW\",\"PoW/PoS\",\"PoW/PoS\",\"PoS\",\"PoW/PoS\",\"PoW/PoS\",\"PoW\",\"PoS\",\"PoW/PoS\",\"PoW/PoS\",\"PoW/PoS\",\"TPoS\",\"PoW/PoS\",\"PoW/PoS\",\"PoW/PoS\",\"PoW\",\"PoW/PoS\",\"PoS\",\"PoW/PoS\",\"PoW/PoS\",\"PoS\",\"PoW/PoS\",\"PoW\",\"PoW\",\"PoW\",\"PoW/PoS\",\"PoW/PoS\",\"PoW/PoS\",\"PoW/PoS\",\"PoW\",\"PoW/PoS\",\"PoW\",\"PoS\",\"PoW/PoS \",\"PoW\",\"PoS\",\"PoW\",\"PoW\",\"PoW/PoS\",\"PoW\",\"PoW\",\"PoS\",\"PoW\",\"PoW/PoS\",\"PoW/PoS\",\"PoW/PoS\",\"PoW\",\"PoS\",\"PoW/PoS\",\"PoW\",\"PoS\",\"PoW/PoS\",\"PoW/PoS\",\"PoW/PoS\",\"PoW/PoS\",\"PoS\",\"PoW/PoS\",\"PoW\",\"PoS\",\"PoW\",\"PoS\",\"PoW/PoS\",\"PoW/PoS\",\"PoS\",\"PoW\",\"PoS\",\"PoW\",\"PoW/PoS\",\"PoW\",\"PoW\",\"PoW\",\"PoW\",\"PoW/PoS\",\"PoW\",\"PoW/PoS\",\"PoW/PoS\",\"PoW\",\"PoW/PoS\",\"PoW\",\"PoW\",\"PoW\",\"PoW/PoS\",\"PoW\",\"PoW/PoS\",\"PoW\",\"PoW\",\"PoW\",\"PoS\",\"PoW\",\"PoW/PoS\",\"PoW\",\"PoW/PoS\",\"PoS\",\"Proof of Authority\",\"PoW\",\"PoS\",\"PoW\",\"PoW\",\"PoW\",\"PoW\",\"PoW\",\"PoW/PoS\",\"PoW/PoS\",\"PoW\",\"PoS\",\"PoS\",\"PoW/PoS\",\"PoW\",\"PoW/PoS\",\"PoW\",\"PoW/PoS\",\"PoW\",\"PoS\",\"PoW\",\"PoW/PoS\",\"PoW/PoS\",\"PoW/PoS\",\"PoW/PoS\",\"PoW\",\"PoW/PoS\",\"PoW/PoS\",\"PoW\",\"PoS\",\"PoW/PoS\",\"PoS\",\"PoW\",\"PoW\",\"PoW\",\"PoW\",\"PoW/PoS\",\"DPoS\",\"PoW/PoS\",\"PoW/PoS\",\"PoW\",\"PoW/PoS\",\"PoW\",\"PoW\",\"PoW\",\"PoS\",\"PoS\",\"PoW\",\"PoW\",\"PoW/PoS\",\"PoW/PoS\",\"PoW\",\"PoW/PoS\",\"PoW\",\"PoW\",\"PoW\",\"PoS\",\"PoW\",\"PoW\",\"PoW/PoS\",\"PoW/PoS\",\"PoS\",\"PoW\",\"PoW\",\"PoW\",\"PoS\",\"PoS\",\"PoW and PoS\",\"PoW\",\"PoW\",\"PoW/PoS\",\"PoW\",\"PoW\",\"PoW\",\"PoW\",\"PoS\",\"POBh\",\"PoW + Hive\",\"PoW\",\"PoW\",\"PoW\",\"PoW/PoS\",\"PoA\",\"PoW/PoS\",\"PoW/PoS\",\"PoS\",\"PoS\",\"PoW\",\"PoW\",\"PoW\",\"PoW\",\"PoW/PoS\",\"PoW/PoS\",\"PoW/PoS\",\"PoW\",\"PoS\",\"PoW\",\"PoS\",\"PoS\",\"PoW/PoS\",\"DPoS\",\"PoW\",\"PoW/PoS\",\"PoS\",\"PoW\",\"PoS\",\"PoW/PoS\",\"PoW\",\"PoW\",\"PoS/PoW\",\"PoW\",\"PoS\",\"PoW\",\"PoW\",\"PoW\",\"PoW\",\"PoW/PoS\",\"PoS\",\"PoW\",\"PoW/PoS\",\"PoW\",\"PoW/PoS\",\"PoS\",\"HPoW\",\"PoS\",\"PoS\",\"PoS\",\"PoW\",\"PoW\",\"PoW\",\"PoW/PoS\",\"PoS\",\"PoW/PoS\",\"PoS\",\"PoW/PoS\",\"PoS\",\"PoW\",\"PoW/PoS\",\"PoW\",\"PoW\",\"PoW\",\"PoW\",\"PoS\",\"PoW/PoS\",\"PoS\",\"PoS\",\"PoW\",\"PoW/PoS\",\"PoS\",\"PoW\",\"PoW/PoS\",\"Zero-Knowledge Proof\",\"PoW\",\"DPOS\",\"PoW\",\"PoS\",\"PoW\",\"PoW\",\"Pos\",\"PoS\",\"PoW\",\"PoW/PoS\",\"PoW\",\"PoW\",\"PoS\",\"PoW\",\"PoW\",\"PoW/PoS\",\"PoW\",\"PoW/PoS\",\"PoW\",\"PoS\",\"PoW/PoS\",\"PoW\",\"PoS\",\"PoW/PoS\",\"PoW/PoS\",\"PoW/PoS\",\"PoW/PoS\",\"PoW\",\"PoW\",\"PoW\",\"PoW/PoS\",\"DPoS\",\"PoW/PoS\",\"PoW\",\"PoW/PoS\",\"PoW\",\"PoW/PoS\",\"PoW\",\"PoW/PoS\",\"PoS\",\"PoW/PoS\",\"PoW/PoS\",\"PoW\",\"PoW/PoS\",\"PoW/PoS\",\"PoW/PoS\",\"PoW\",\"PoW/PoS\",\"PoW\",\"PoW/PoS\",\"PoW\",\"PoW/PoS\",\"PoW/PoS\",\"PoS\",\"PoW\",\"PoW\",\"Proof of Trust\",\"PoW/PoS\",\"DPoS\",\"PoS\",\"PoW/PoS\",\"PoW/PoS\",\"PoW\",\"PoW/PoS\",\"PoW\",\"DPoS\",\"PoW\",\"DPoS\",\"PoS\",\"LPoS\",\"PoS\",\"DPoS\",\"PoS/LPoS\",\"DPoS\",\"PoW/PoS\",\"PoW\",\"PoW\",\"PoS\"],\"TotalCoinSupply\":[\"42\",\"532000000\",\"3.14159E+11\",\"21000000\",\"0\",\"84000000\",\"22000000\",\"0\",\"210000000\",\"21000000\",\"3600570502\",\"21000000000\",\"22000000\",\"12500000\",\"21000000\",\"350000000\",\"20000000\",\"64000000\",\"16768584\",\"0\",\"2000000000\",\"3.84E+11\",\"169795588\",\"250000000\",\"100000000\",\"0\",\"247000000\",\"84000000\",\"48166000\",\"500000\",\"21000000\",\"1000000\",\"13140000\",\"18000000\",\"40000000000\",\"4380000\",\"16555000000\",\"21000000000\",\"13500000000\",\"21000000\",\"299792458\",\"32000000\",\"0\",\"0\",\"11235813\",\"336000000\",\"1420609614\",\"70000000\",\"72245700\",\"120000000\",\"0\",\"90600000000\",\"22000000\",\"21000000\",\"265420800\",\"20000000\",\"1350000\",\"100000000\",\"42000000\",\"200000000\",\"0\",\"10000000\",\"2419200000\",\"16180000\",\"0\",\"15000000000\",\"21000000\",\"337000000\",\"0\",\"3770000\",\"420000000\",\"98000000\",\"0\",\"21000000\",\"250000000\",\"51200000\",\"0\",\"1000\",\"888000000\",\"100000000\",\"47011968\",\"2300000000\",\"10000000\",\"42000000\",\"80000000\",\"250000\",\"0\",\"1600000000\",\"100000000\",\"23000000\",\"0\",\"84000000\",\"265420800\",\"5500000\",\"0\",\"45000000\",\"0\",\"1000000000\",\"1.84467E+11\",\"10000000000\",\"2158812800\",\"500000000\",\"105120000\",\"68000000\",\"0\",\"1680000000\",\"0\",\"166386000\",\"12000000\",\"2628000\",\"500000000\",\"160000000\",\"0\",\"10000000\",\"1000000000\",\"1000000000\",\"20000000\",\"0\",\"0\",\"3371337\",\"20000000\",\"10000000000\",\"1840000000\",\"619478\",\"21000000\",\"92000000000\",\"0\",\"78000000\",\"33000000\",\"65789100\",\"53760000\",\"5060000\",\"21000000\",\"0\",\"210240000\",\"250000000\",\"100000000\",\"16906397\",\"50000000\",\"0\",\"1000000000\",\"26298000\",\"16000000\",\"21000000\",\"21000000\",\"210000000\",\"81962100\",\"22000000\",\"26550000000\",\"84000000\",\"10500000\",\"21626280000\",\"0\",\"42000000\",\"221052632\",\"84000000\",\"30000000\",\"168351300\",\"24000000\",\"384000000\",\"99000000000\",\"40000000\",\"2147483647\",\"20000000\",\"20000000\",\"25000000\",\"75000000\",\"222725000\",\"525000000\",\"90000000\",\"139000000\",\"616448\",\"33500000\",\"2000000000\",\"44333333\",\"100000000\",\"200000000\",\"25000000\",\"657000000\",\"200000000\",\"50000000\",\"90000000\",\"10000000\",\"21000000\",\"9736000\",\"3000000\",\"21000000\",\"1200000000\",\"0\",\"200000000\",\"0\",\"10638298\",\"3100000000\",\"30000000\",\"20000000000\",\"74000000\",\"0\",\"1500000000\",\"21400000\",\"39999898\",\"2500124\",\"100000000\",\"301000000\",\"7506000000\",\"26205539\",\"21000000\",\"125000000\",\"30000000\",\"10000000000\",\"500000000\",\"850000000\",\"3853326.777\",\"50000000\",\"38540000\",\"42000000\",\"228000000\",\"20000000\",\"60000000\",\"20000000\",\"33000000\",\"76500000\",\"28000000\",\"650659833\",\"5000000\",\"21000000\",\"144000000\",\"32514916898\",\"13000000\",\"3315789\",\"15000000\",\"78835200\",\"2714286\",\"25000000\",\"9999999\",\"500000000\",\"21000000\",\"9354000\",\"20000000\",\"1E+11\",\"21933333\",\"185000000\",\"55000000\",\"110000000\",\"3360000\",\"14524851.48\",\"1000000000\",\"17000000\",\"1000000000\",\"100000000\",\"21000000\",\"34426423\",\"2232901\",\"100000000\",\"36900000\",\"110000000\",\"4000000000\",\"110290030\",\"100000000\",\"48252000\",\"400000000\",\"500000000\",\"21212121\",\"28600000\",\"1000000000\",\"75000000000\",\"40000000\",\"35520400\",\"2000000000\",\"2500000000\",\"30000000\",\"105000000\",\"90000000000\",\"200084200\",\"72000000\",\"100000000\",\"105000000\",\"50000000000\",\"0\",\"340282367\",\"30000000\",\"2000000000\",\"10000000\",\"100000000\",\"120000000\",\"100000000\",\"19276800\",\"30000000\",\"75000000\",\"60000000\",\"18900000\",\"50000000000\",\"54000000\",\"18898187.62\",\"21000000\",\"2E+11\",\"5000000000\",\"137500000\",\"1100000000\",\"100000000\",\"21000000\",\"9507271\",\"17405891.2\",\"86712634466\",\"10500000000\",\"61599965\",\"0\",\"20000000\",\"84000000\",\"100000000\",\"100000000\",\"48252000\",\"4200000\",\"88888888\",\"91388946\",\"45000000000\",\"27000000\",\"21000000000\",\"400000000\",\"1800000000\",\"15733333\",\"27000000\",\"24000000\",\"21000000\",\"25000000000\",\"100000000\",\"1200000000\",\"60000000\",\"156306732.7\",\"21000000\",\"200000000\",\"100000000\",\"21000000\",\"14788275.99\",\"9000000000\",\"350000000\",\"45000000\",\"280000000\",\"31800000\",\"144000000\",\"500000000\",\"30000000000\",\"210000000\",\"660000000\",\"210000000\",\"85000000000\",\"12500000\",\"10000000000\",\"27716121\",\"20000000\",\"550000000\",\"999481516\",\"50000000000\",\"150000000\",\"4999999999\",\"50000000\",\"90000000000\",\"19800000\",\"21000000\",\"120000000\",\"500000000\",\"64000000\",\"900000000\",\"4000000\",\"21000000\",\"23000000\",\"20166000\",\"23000000\",\"25000000\",\"1618033\",\"30000000\",\"1E+12\",\"16600000\",\"232000000\",\"336000000\",\"10000000000\",\"100000000\",\"1100000000\",\"800000000\",\"5200000000\",\"840000000\",\"40000000\",\"18406979840\",\"500000000\",\"19340594\",\"252460800\",\"25000000\",\"60000000\",\"124000000\",\"1000000000\",\"6500000000\",\"1000000000\",\"21000000\",\"25000000\",\"50000000\",\"3000000\",\"5000000\",\"70000000\",\"500000000\",\"300000000\",\"21000000\",\"88000000\",\"30000000\",\"100000000\",\"100000000\",\"200000000\",\"80000000\",\"18400000\",\"45000000\",\"5121951220\",\"21000000\",\"26280000\",\"21000000\",\"18000000\",\"26000000\",\"10500000\",\"600000518\",\"150000000\",\"1.84E+11\",\"10200000000\",\"44000000\",\"168000000\",\"100000000\",\"1000000000\",\"84000000\",\"90000000\",\"92000000000\",\"650000000\",\"100262205\",\"18081806\",\"22075700\",\"21000000\",\"21000000\",\"82546564\",\"21000000\",\"5151000\",\"16880000000\",\"52500000\",\"100000000\",\"22105263\",\"1000000000\",\"1750000000\",\"88188888\",\"210000000\",\"1.8447E+11\",\"55000000\",\"50000000\",\"260000000\",\"210000000\",\"2100000000\",\"366000000\",\"100000000\",\"25000000\",\"18000000000\",\"1000000000\",\"100000000\",\"1000000000\",\"7600000000\",\"50000000\",\"84000000\",\"21000000\",\"70000000000\",\"0\",\"8080000000\",\"54000000\",\"105120001.4\",\"25228800\",\"105000000\",\"21000000\",\"120000000\",\"21000000\",\"262800000\",\"19035999\",\"30886000\",\"13370000\",\"74800000000\",\"100000000\",\"19700000\",\"84000000\",\"500000000\",\"5000000000\",\"420000000\",\"64000000\",\"2100000\",\"168000000\",\"30000000\",\"1000000000\",\"35000000000\",\"98100000000\",\"0\",\"4000000000\",\"200000000\",\"7000000000\",\"54256119\",\"21000000\",\"0\",\"500000000\",\"1000000000\",\"10500000000\",\"190000000\",\"1000000000\",\"42000000\",\"15000000\",\"50000000000\",\"400000000\",\"105000000\",\"208000000\",\"160000000\",\"9000000\",\"5000000\",\"182000000\",\"16504333\",\"105000000\",\"159918400\",\"10008835635\",\"300000000\",\"60168145\",\"2800000\",\"120000\",\"2100000000\",\"0\",\"24487944\",\"0\",\"1000000000\",\"100000000\",\"8634140\",\"9.9E+11\",\"1000000000\",\"2000000000\",\"250000000\",\"1400222610\",\"21000000\",\"1000000\"],\"TotalCoinsMined\":{\"__ndarray__\":\"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\",\"dtype\":\"float64\",\"shape\":[532]}},\"selected\":{\"id\":\"1603\",\"type\":\"Selection\"},\"selection_policy\":{\"id\":\"1637\",\"type\":\"UnionRenderers\"}},\"id\":\"1602\",\"type\":\"ColumnDataSource\"},{\"attributes\":{\"source\":{\"id\":\"1602\",\"type\":\"ColumnDataSource\"}},\"id\":\"1635\",\"type\":\"CDSView\"},{\"attributes\":{},\"id\":\"1603\",\"type\":\"Selection\"},{\"attributes\":{},\"id\":\"1630\",\"type\":\"IntEditor\"},{\"attributes\":{\"editor\":{\"id\":\"1630\",\"type\":\"IntEditor\"},\"field\":\"Class\",\"formatter\":{\"id\":\"1629\",\"type\":\"NumberFormatter\"},\"title\":\"Class\"},\"id\":\"1631\",\"type\":\"TableColumn\"},{\"attributes\":{\"editor\":{\"id\":\"1625\",\"type\":\"NumberEditor\"},\"field\":\"TotalCoinsMined\",\"formatter\":{\"id\":\"1624\",\"type\":\"NumberFormatter\"},\"title\":\"TotalCoinsMined\"},\"id\":\"1626\",\"type\":\"TableColumn\"},{\"attributes\":{},\"id\":\"1604\",\"type\":\"StringFormatter\"},{\"attributes\":{},\"id\":\"1629\",\"type\":\"NumberFormatter\"},{\"attributes\":{},\"id\":\"1605\",\"type\":\"StringEditor\"},{\"attributes\":{},\"id\":\"1625\",\"type\":\"NumberEditor\"},{\"attributes\":{\"editor\":{\"id\":\"1605\",\"type\":\"StringEditor\"},\"field\":\"CoinName\",\"formatter\":{\"id\":\"1604\",\"type\":\"StringFormatter\"},\"title\":\"CoinName\"},\"id\":\"1606\",\"type\":\"TableColumn\"},{\"attributes\":{},\"id\":\"1609\",\"type\":\"StringFormatter\"},{\"attributes\":{},\"id\":\"1610\",\"type\":\"StringEditor\"},{\"attributes\":{\"editor\":{\"id\":\"1610\",\"type\":\"StringEditor\"},\"field\":\"Algorithm\",\"formatter\":{\"id\":\"1609\",\"type\":\"StringFormatter\"},\"title\":\"Algorithm\"},\"id\":\"1611\",\"type\":\"TableColumn\"},{\"attributes\":{\"editor\":{\"id\":\"1620\",\"type\":\"StringEditor\"},\"field\":\"TotalCoinSupply\",\"formatter\":{\"id\":\"1619\",\"type\":\"StringFormatter\"},\"title\":\"TotalCoinSupply\"},\"id\":\"1621\",\"type\":\"TableColumn\"}],\"root_ids\":[\"1634\"]},\"title\":\"Bokeh Application\",\"version\":\"1.2.0\"}};\n",
       "  var render_items = [{\"docid\":\"d6e04114-9873-4633-be23-20096a56cb78\",\"roots\":{\"1634\":\"f203e29f-5458-460b-bda3-ba19af1b8ee0\"}}];\n",
       "  root.Bokeh.embed.embed_items_notebook(docs_json, render_items);\n",
       "\n",
       "  }\n",
       "  if (root.Bokeh !== undefined) {\n",
       "    embed_document(root);\n",
       "  } else {\n",
       "    var attempts = 0;\n",
       "    var timer = setInterval(function(root) {\n",
       "      if (root.Bokeh !== undefined) {\n",
       "        embed_document(root);\n",
       "        clearInterval(timer);\n",
       "      }\n",
       "      attempts++;\n",
       "      if (attempts > 100) {\n",
       "        console.log(\"Bokeh: ERROR: Unable to run BokehJS code because BokehJS library is missing\");\n",
       "        clearInterval(timer);\n",
       "      }\n",
       "    }, 10, root)\n",
       "  }\n",
       "})(window);</script>"
      ],
      "text/plain": [
       ":Table   [CoinName,Algorithm,ProofType,TotalCoinSupply,TotalCoinsMined,Class]"
      ]
     },
     "execution_count": 173,
     "metadata": {
      "application/vnd.holoviews_exec.v0+json": {
       "id": "1634"
      }
     },
     "output_type": "execute_result"
    }
   ],
   "source": [
    "# Table with tradable cryptos\n",
    "columns= [\"CoinName\", \"Algorithm\", \"ProofType\", \"TotalCoinSupply\", \"TotalCoinsMined\", \"Class\"]\n",
    "clustered_df.hvplot.table(columns)\n"
   ]
  },
  {
   "cell_type": "markdown",
   "metadata": {},
   "source": [
    "#### Scatter Plot with Tradable Cryptocurrencies"
   ]
  },
  {
   "cell_type": "code",
   "execution_count": 176,
   "metadata": {},
   "outputs": [],
   "source": [
    "# Scaling data to create the scatter plot\n",
    "clustered_df[\"TotalCoinSupply\"]= clustered_df[\"TotalCoinSupply\"].astype(float)/100000000\n",
    "clustered_df[\"TotalCoinsMined\"]= clustered_df[\"TotalCoinsMined\"].astype(float)/100000000"
   ]
  },
  {
   "cell_type": "code",
   "execution_count": 179,
   "metadata": {},
   "outputs": [
    {
     "data": {
      "application/vnd.holoviews_exec.v0+json": "",
      "text/html": [
       "<div id='1887' style='display: table; margin: 0 auto;'>\n",
       "\n",
       "\n",
       "\n",
       "\n",
       "\n",
       "  <div class=\"bk-root\" id=\"8b6cae2a-7211-4541-931d-e7db2e9eef8e\" data-root-id=\"1887\"></div>\n",
       "</div>\n",
       "<script type=\"application/javascript\">(function(root) {\n",
       "  function embed_document(root) {\n",
       "    \n",
       "  var docs_json = {\"cf002433-bbcf-4e39-87bd-c731b236a9dd\":{\"roots\":{\"references\":[{\"attributes\":{\"below\":[{\"id\":\"1896\",\"type\":\"LinearAxis\"}],\"center\":[{\"id\":\"1900\",\"type\":\"Grid\"},{\"id\":\"1905\",\"type\":\"Grid\"}],\"left\":[{\"id\":\"1901\",\"type\":\"LinearAxis\"}],\"margin\":null,\"min_border_bottom\":10,\"min_border_left\":10,\"min_border_right\":10,\"min_border_top\":10,\"plot_height\":300,\"plot_width\":700,\"renderers\":[{\"id\":\"1924\",\"type\":\"GlyphRenderer\"}],\"sizing_mode\":\"fixed\",\"title\":{\"id\":\"1888\",\"type\":\"Title\"},\"toolbar\":{\"id\":\"1911\",\"type\":\"Toolbar\"},\"x_range\":{\"id\":\"1884\",\"type\":\"Range1d\"},\"x_scale\":{\"id\":\"1892\",\"type\":\"LinearScale\"},\"y_range\":{\"id\":\"1885\",\"type\":\"Range1d\"},\"y_scale\":{\"id\":\"1894\",\"type\":\"LinearScale\"}},\"id\":\"1887\",\"subtype\":\"Figure\",\"type\":\"Plot\"},{\"attributes\":{\"grid_line_color\":null,\"ticker\":{\"id\":\"1897\",\"type\":\"BasicTicker\"}},\"id\":\"1900\",\"type\":\"Grid\"},{\"attributes\":{\"fill_alpha\":{\"value\":0.2},\"fill_color\":{\"value\":\"#1f77b4\"},\"line_alpha\":{\"value\":0.2},\"line_color\":{\"value\":\"#1f77b4\"},\"size\":{\"units\":\"screen\",\"value\":5.477225575051661},\"x\":{\"field\":\"TotalCoinsMined\"},\"y\":{\"field\":\"TotalCoinSupply\"}},\"id\":\"1923\",\"type\":\"Scatter\"},{\"attributes\":{\"bottom_units\":\"screen\",\"fill_alpha\":{\"value\":0.5},\"fill_color\":{\"value\":\"lightgrey\"},\"left_units\":\"screen\",\"level\":\"overlay\",\"line_alpha\":{\"value\":1.0},\"line_color\":{\"value\":\"black\"},\"line_dash\":[4,4],\"line_width\":{\"value\":2},\"render_mode\":\"css\",\"right_units\":\"screen\",\"top_units\":\"screen\"},\"id\":\"1935\",\"type\":\"BoxAnnotation\"},{\"attributes\":{\"callback\":null,\"end\":0.0001,\"reset_end\":0.0001,\"reset_start\":0.0,\"tags\":[[[\"TotalCoinSupply\",\"TotalCoinSupply\",null]]]},\"id\":\"1885\",\"type\":\"Range1d\"},{\"attributes\":{},\"id\":\"1910\",\"type\":\"ResetTool\"},{\"attributes\":{\"data_source\":{\"id\":\"1918\",\"type\":\"ColumnDataSource\"},\"glyph\":{\"id\":\"1921\",\"type\":\"Scatter\"},\"hover_glyph\":null,\"muted_glyph\":{\"id\":\"1923\",\"type\":\"Scatter\"},\"nonselection_glyph\":{\"id\":\"1922\",\"type\":\"Scatter\"},\"selection_glyph\":null,\"view\":{\"id\":\"1925\",\"type\":\"CDSView\"}},\"id\":\"1924\",\"type\":\"GlyphRenderer\"},{\"attributes\":{\"source\":{\"id\":\"1918\",\"type\":\"ColumnDataSource\"}},\"id\":\"1925\",\"type\":\"CDSView\"},{\"attributes\":{},\"id\":\"1908\",\"type\":\"WheelZoomTool\"},{\"attributes\":{},\"id\":\"1897\",\"type\":\"BasicTicker\"},{\"attributes\":{\"overlay\":{\"id\":\"1935\",\"type\":\"BoxAnnotation\"}},\"id\":\"1909\",\"type\":\"BoxZoomTool\"},{\"attributes\":{\"callback\":null,\"data\":{\"CoinName\":[\"42 Coin\",\"404Coin\",\"EliteCoin\",\"Bitcoin\",\"Ethereum\",\"Litecoin\",\"Dash\",\"Monero\",\"Ethereum Classic\",\"ZCash\",\"Bitshares\",\"DigiByte\",\"BitcoinDark\",\"PayCoin\",\"ProsperCoin\",\"KoboCoin\",\"Spreadcoin\",\"Argentum\",\"Aurora Coin\",\"BlueCoin\",\"MyriadCoin\",\"MoonCoin\",\"ZetaCoin\",\"SexCoin\",\"Quatloo\",\"EnergyCoin\",\"QuarkCoin\",\"Riecoin\",\"Digitalcoin \",\"BitBar\",\"Catcoin\",\"CryptoBullion\",\"CannaCoin\",\"CryptCoin\",\"CasinoCoin\",\"Diamond\",\"Verge\",\"DevCoin\",\"EarthCoin\",\"E-Gulden\",\"Einsteinium\",\"Emerald\",\"Exclusive Coin\",\"FlutterCoin\",\"Franko\",\"FeatherCoin\",\"GrandCoin\",\"GlobalCoin\",\"GoldCoin\",\"HoboNickels\",\"HyperStake\",\"Infinite Coin\",\"IOCoin\",\"IXcoin\",\"KrugerCoin\",\"LuckyCoin\",\"Litebar \",\"MaxCoin\",\"MegaCoin\",\"MediterraneanCoin\",\"MintCoin\",\"MinCoin\",\"MazaCoin\",\"Nautilus Coin\",\"NavCoin\",\"NobleCoin\",\"Namecoin\",\"NyanCoin\",\"OpalCoin\",\"Orbitcoin\",\"PotCoin\",\"PhoenixCoin\",\"Reddcoin\",\"RonPaulCoin\",\"StableCoin\",\"SmartCoin\",\"SuperCoin\",\"SyncCoin\",\"SysCoin\",\"TeslaCoin\",\"TigerCoin\",\"TittieCoin\",\"TorCoin\",\"TerraCoin\",\"UnbreakableCoin\",\"Unobtanium\",\"UroCoin\",\"UnitaryStatus Dollar\",\"UltraCoin\",\"ViaCoin\",\"VeriCoin\",\"Vertcoin\",\"WorldCoin\",\"X11 Coin\",\"Crypti\",\"JouleCoin\",\"StealthCoin\",\"ZCC Coin\",\"ByteCoin\",\"DigitalNote \",\"BurstCoin\",\"StorjCoin\",\"MonaCoin\",\"Neutron\",\"FairCoin\",\"Gulden\",\"RubyCoin\",\"PesetaCoin\",\"Kore\",\"Wild Beast Coin\",\"Dnotes\",\"Flo\",\"8BIT Coin\",\"Sativa Coin\",\"ArtByte\",\"Folding Coin\",\"Ucoin\",\"Unitus\",\"CypherPunkCoin\",\"OmniCron\",\"Vtorrent\",\"GreenCoin\",\"Cryptonite\",\"MasterCoin\",\"SoonCoin\",\"1Credit\",\"IslaCoin\",\"Nexus\",\"MarsCoin \",\"Crypto\",\"Anarchists Prime\",\"Droidz\",\"BowsCoin\",\"Squall Coin\",\"Song Coin\",\"BitZeny\",\"Diggits\",\"Expanse\",\"Paycon\",\"Siacoin\",\"Emercoin\",\"EverGreenCoin\",\"MindCoin\",\"I0coin\",\"Decred\",\"Revolution VR\",\"HOdlcoin\",\"EDRCoin\",\"Hitcoin\",\"Gamecredits\",\"DubaiCoin\",\"CarpeDiemCoin\",\"PWR Coin\",\"BillaryCoin\",\"GPU Coin\",\"Adzcoin\",\"SoilCoin\",\"YoCoin\",\"SibCoin\",\"EuropeCoin\",\"ZeitCoin\",\"SwingCoin\",\"SafeExchangeCoin\",\"Nebuchadnezzar\",\"Francs\",\"BolivarCoin\",\"Ratecoin\",\"Revenu\",\"Clockcoin\",\"VIP Tokens\",\"BitSend\",\"Omni\",\"Let it Ride\",\"PutinCoin\",\"iBankCoin\",\"Frankywillcoin\",\"MudraCoin\",\"PizzaCoin\",\"Lutetium Coin\",\"Komodo\",\"GoldBlocks\",\"CarterCoin\",\"Karbo\",\"BitTokens\",\"ZayedCoin\",\"MustangCoin\",\"ZoneCoin\",\"Circuits of Value\",\"RootCoin\",\"DopeCoin\",\"BitCurrency\",\"DollarCoin\",\"Swiscoin\",\"Shilling\",\"BuzzCoin\",\"Opair\",\"PesoBit\",\"Halloween Coin\",\"ZCoin\",\"CoffeeCoin\",\"RoyalCoin\",\"GanjaCoin V2\",\"TeamUP\",\"LanaCoin\",\"Elementrem\",\"ZClassic\",\"ARK\",\"InsaneCoin\",\"KiloCoin\",\"ArtexCoin\",\"EmberCoin\",\"XenixCoin\",\"FreeCoin\",\"PLNCoin\",\"AquariusCoin\",\"Kurrent\",\"Creatio\",\"Eternity\",\"Eurocoin\",\"BitcoinFast\",\"Stakenet\",\"BitConnect Coin\",\"MoneyCoin\",\"Enigma\",\"Cannabis Industry Coin\",\"Russiacoin\",\"PandaCoin\",\"GameUnits\",\"GAKHcoin\",\"Allsafe\",\"LiteCreed\",\"OsmiumCoin\",\"Bikercoins\",\"HexxCoin\",\"Klingon Empire Darsek\",\"Internet of People\",\"KushCoin\",\"Printerium\",\"PacCoin\",\"Impeach\",\"Citadel\",\"Zilbercoin\",\"FirstCoin\",\"BeaverCoin\",\"FindCoin\",\"VaultCoin\",\"Zero\",\"OpenChat\",\"Canada eCoin\",\"Zoin\",\"RenosCoin\",\"DubaiCoin\",\"VirtacoinPlus\",\"TajCoin\",\"Impact\",\"EB3coin\",\"Atmos\",\"HappyCoin\",\"Coinonat\",\"MacronCoin\",\"Condensate\",\"Independent Money System\",\"ArgusCoin\",\"LomoCoin\",\"ProCurrency\",\"GoldReserve\",\"BenjiRolls\",\"GrowthCoin\",\"ILCoin\",\"Phreak\",\"Degas Coin\",\"HTML5 Coin\",\"Ultimate Secure Cash\",\"EquiTrader\",\"QTUM\",\"Quantum Resistant Ledger\",\"Espers\",\"Dynamic\",\"Nano\",\"ChanCoin\",\"Dinastycoin\",\"Denarius\",\"DigitalPrice\",\"Virta Unique Coin\",\"Bitcoin Planet\",\"Unify\",\"BritCoin\",\"SocialCoin\",\"ArcticCoin\",\"DAS\",\"Linda\",\"LeviarCoin\",\"DeepOnion\",\"Bitcore\",\"gCn Coin\",\"SmartCash\",\"Signatum\",\"Onix\",\"Cream\",\"Bitcoin Cash\",\"Monoeci\",\"Draftcoin\",\"Vechain\",\"Sojourn Coin\",\"Stakecoin\",\"NewYorkCoin\",\"FrazCoin\",\"Kronecoin\",\"AdCoin\",\"Linx\",\"CoinonatX\",\"Ethereum Dark\",\"Sumokoin\",\"Obsidian\",\"Cardano\",\"Regalcoin\",\"BitcoinZ\",\"TrezarCoin\",\"Elements\",\"TerraNovaCoin\",\"VIVO Coin\",\"Rupee\",\"Bitcoin Gold\",\"WomenCoin\",\"Theresa May Coin\",\"NamoCoin\",\"LUXCoin\",\"Pirl\",\"Xios\",\"Bitcloud 2.0\",\"eBoost\",\"KekCoin\",\"BlackholeCoin\",\"Infinity Economics\",\"Pura\",\"Innova\",\"Ellaism\",\"GoByte\",\"Magnet\",\"Lamden Tau\",\"Electra\",\"Bitcoin Diamond\",\"SHIELD\",\"Cash & Back Coin\",\"UltraNote\",\"BitCoal\",\"DaxxCoin\",\"Bulwark\",\"Kalkulus\",\"AC3\",\"Lethean\",\"GermanCoin\",\"LiteCoin Ultra\",\"PopularCoin\",\"PhantomX\",\"Photon\",\"Sucre\",\"SparksPay\",\"Digiwage\",\"GunCoin\",\"IrishCoin\",\"Trollcoin\",\"Litecoin Plus\",\"Monkey Project\",\"Pioneer Coin\",\"UnitedBitcoin\",\"Interzone\",\"TokenPay\",\"1717 Masonic Commemorative Token\",\"My Big Coin\",\"TurtleCoin\",\"MUNcoin\",\"Unified Society USDEX\",\"Niobio Cash\",\"ShareChain\",\"Travelflex\",\"KREDS\",\"Tokyo Coin\",\"BiblePay\",\"LitecoinCash\",\"BitFlip\",\"LottoCoin\",\"Crypto Improvement Fund\",\"Stipend\",\"Poa Network\",\"Pushi\",\"Ellerium\",\"Velox\",\"Ontology\",\"Callisto Network\",\"BitTube\",\"Poseidon\",\"Aidos Kuneen\",\"Bitspace\",\"Briacoin\",\"Ignition\",\"Bitrolium\",\"MedicCoin\",\"Alpenschillling\",\"Bitcoin Green\",\"Deviant Coin\",\"Abjcoin\",\"Semux\",\"FuturoCoin\",\"Carebit\",\"Zealium\",\"Monero Classic\",\"Proton\",\"iDealCash\",\"Jumpcoin\",\"Infinex\",\"Bitcoin Incognito\",\"KEYCO\",\"HollyWoodCoin\",\"GINcoin\",\"PlatinCoin\",\"Loki\",\"Newton Coin\",\"Swisscoin\",\"Xt3ch\",\"MassGrid\",\"TheVig\",\"PluraCoin\",\"EmaratCoin\",\"Dekado\",\"Lynx\",\"Poseidon Quark\",\"BitcoinWSpectrum\",\"Muse\",\"Motion\",\"PlusOneCoin\",\"Axe\",\"Trivechain\",\"Dystem\",\"Giant\",\"Peony Coin\",\"Absolute Coin\",\"Vitae\",\"HexCoin\",\"TPCash\",\"Webchain\",\"Ryo\",\"Urals Coin\",\"Qwertycoin\",\"ARENON\",\"EUNO\",\"MMOCoin\",\"Ketan\",\"Project Pai\",\"XDNA\",\"PAXEX\",\"Azart\",\"ThunderStake\",\"Kcash\",\"Xchange\",\"Acute Angle Cloud\",\"CrypticCoin\",\"Bettex coin\",\"Actinium\",\"Bitcoin SV\",\"BitMoney\",\"Junson Ming Chan Coin\",\"FREDEnergy\",\"HerbCoin\",\"Universal Molecule\",\"Lithium\",\"PirateCash\",\"Exosis\",\"Block-Logic\",\"Oduwa\",\"Beam\",\"Galilel\",\"Bithereum\",\"Crypto Sports\",\"Credit\",\"SLICE\",\"Dash Platinum\",\"Nasdacoin\",\"Beetle Coin\",\"Titan Coin\",\"Award\",\"BLAST\",\"Bitcoin Rhodium\",\"GlobalToken\",\"Insane Coin\",\"ALAX\",\"LiteDoge\",\"SolarCoin\",\"TruckCoin\",\"UFO Coin\",\"OrangeCoin\",\"BlakeCoin\",\"BitstarCoin\",\"NeosCoin\",\"HyperCoin\",\"PinkCoin\",\"Crypto Escudo\",\"AudioCoin\",\"IncaKoin\",\"Piggy Coin\",\"Crown Coin\",\"Genstake\",\"SmileyCoin\",\"XiaoMiCoin\",\"Groestlcoin\",\"CapriCoin\",\" ClubCoin\",\"Radium\",\"Bata\",\"Pakcoin\",\"Creditbit \",\"OKCash\",\"Lisk\",\"HiCoin\",\"WhiteCoin\",\"FriendshipCoin\",\"JoinCoin\",\"Triangles Coin\",\"Vollar\",\"EOS\",\"Reality Clash\",\"Oxycoin\",\"TigerCash\",\"Waves\",\"Particl\",\"BitTorrent\",\"Nxt\",\"ZEPHYR\",\"Gapcoin\",\"Beldex\",\"Horizen\",\"BitcoinPlus\"],\"TotalCoinSupply\":{\"__ndarray__\":\"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\",\"dtype\":\"float64\",\"shape\":[532]},\"TotalCoinsMined\":{\"__ndarray__\":\"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\",\"dtype\":\"float64\",\"shape\":[532]}},\"selected\":{\"id\":\"1919\",\"type\":\"Selection\"},\"selection_policy\":{\"id\":\"1937\",\"type\":\"UnionRenderers\"}},\"id\":\"1918\",\"type\":\"ColumnDataSource\"},{\"attributes\":{},\"id\":\"1907\",\"type\":\"PanTool\"},{\"attributes\":{},\"id\":\"1926\",\"type\":\"BasicTickFormatter\"},{\"attributes\":{},\"id\":\"1919\",\"type\":\"Selection\"},{\"attributes\":{},\"id\":\"1928\",\"type\":\"BasicTickFormatter\"},{\"attributes\":{\"axis_label\":\"TotalCoinsMined\",\"bounds\":\"auto\",\"formatter\":{\"id\":\"1926\",\"type\":\"BasicTickFormatter\"},\"major_label_orientation\":\"horizontal\",\"ticker\":{\"id\":\"1897\",\"type\":\"BasicTicker\"}},\"id\":\"1896\",\"type\":\"LinearAxis\"},{\"attributes\":{},\"id\":\"1894\",\"type\":\"LinearScale\"},{\"attributes\":{},\"id\":\"1906\",\"type\":\"SaveTool\"},{\"attributes\":{},\"id\":\"1902\",\"type\":\"BasicTicker\"},{\"attributes\":{\"dimension\":1,\"grid_line_color\":null,\"ticker\":{\"id\":\"1902\",\"type\":\"BasicTicker\"}},\"id\":\"1905\",\"type\":\"Grid\"},{\"attributes\":{\"axis_label\":\"TotalCoinSupply\",\"bounds\":\"auto\",\"formatter\":{\"id\":\"1928\",\"type\":\"BasicTickFormatter\"},\"major_label_orientation\":\"horizontal\",\"ticker\":{\"id\":\"1902\",\"type\":\"BasicTicker\"}},\"id\":\"1901\",\"type\":\"LinearAxis\"},{\"attributes\":{\"text\":\"\",\"text_color\":{\"value\":\"black\"},\"text_font_size\":{\"value\":\"12pt\"}},\"id\":\"1888\",\"type\":\"Title\"},{\"attributes\":{\"callback\":null,\"end\":9899.89,\"reset_end\":9899.89,\"reset_start\":4.1999953830000003e-07,\"start\":4.1999953830000003e-07,\"tags\":[[[\"TotalCoinsMined\",\"TotalCoinsMined\",null]]]},\"id\":\"1884\",\"type\":\"Range1d\"},{\"attributes\":{},\"id\":\"1937\",\"type\":\"UnionRenderers\"},{\"attributes\":{},\"id\":\"1892\",\"type\":\"LinearScale\"},{\"attributes\":{\"callback\":null,\"renderers\":[{\"id\":\"1924\",\"type\":\"GlyphRenderer\"}],\"tags\":[\"hv_created\"],\"tooltips\":[[\"TotalCoinsMined\",\"@{TotalCoinsMined}\"],[\"TotalCoinSupply\",\"@{TotalCoinSupply}\"],[\"CoinName\",\"@{CoinName}\"]]},\"id\":\"1886\",\"type\":\"HoverTool\"},{\"attributes\":{\"active_drag\":\"auto\",\"active_inspect\":\"auto\",\"active_multi\":null,\"active_scroll\":\"auto\",\"active_tap\":\"auto\",\"tools\":[{\"id\":\"1886\",\"type\":\"HoverTool\"},{\"id\":\"1906\",\"type\":\"SaveTool\"},{\"id\":\"1907\",\"type\":\"PanTool\"},{\"id\":\"1908\",\"type\":\"WheelZoomTool\"},{\"id\":\"1909\",\"type\":\"BoxZoomTool\"},{\"id\":\"1910\",\"type\":\"ResetTool\"}]},\"id\":\"1911\",\"type\":\"Toolbar\"},{\"attributes\":{\"fill_alpha\":{\"value\":0.1},\"fill_color\":{\"value\":\"#1f77b4\"},\"line_alpha\":{\"value\":0.1},\"line_color\":{\"value\":\"#1f77b4\"},\"size\":{\"units\":\"screen\",\"value\":5.477225575051661},\"x\":{\"field\":\"TotalCoinsMined\"},\"y\":{\"field\":\"TotalCoinSupply\"}},\"id\":\"1922\",\"type\":\"Scatter\"},{\"attributes\":{\"fill_color\":{\"value\":\"#1f77b4\"},\"line_color\":{\"value\":\"#1f77b4\"},\"size\":{\"units\":\"screen\",\"value\":5.477225575051661},\"x\":{\"field\":\"TotalCoinsMined\"},\"y\":{\"field\":\"TotalCoinSupply\"}},\"id\":\"1921\",\"type\":\"Scatter\"}],\"root_ids\":[\"1887\"]},\"title\":\"Bokeh Application\",\"version\":\"1.2.0\"}};\n",
       "  var render_items = [{\"docid\":\"cf002433-bbcf-4e39-87bd-c731b236a9dd\",\"roots\":{\"1887\":\"8b6cae2a-7211-4541-931d-e7db2e9eef8e\"}}];\n",
       "  root.Bokeh.embed.embed_items_notebook(docs_json, render_items);\n",
       "\n",
       "  }\n",
       "  if (root.Bokeh !== undefined) {\n",
       "    embed_document(root);\n",
       "  } else {\n",
       "    var attempts = 0;\n",
       "    var timer = setInterval(function(root) {\n",
       "      if (root.Bokeh !== undefined) {\n",
       "        embed_document(root);\n",
       "        clearInterval(timer);\n",
       "      }\n",
       "      attempts++;\n",
       "      if (attempts > 100) {\n",
       "        console.log(\"Bokeh: ERROR: Unable to run BokehJS code because BokehJS library is missing\");\n",
       "        clearInterval(timer);\n",
       "      }\n",
       "    }, 10, root)\n",
       "  }\n",
       "})(window);</script>"
      ],
      "text/plain": [
       ":Scatter   [TotalCoinsMined]   (TotalCoinSupply,CoinName)"
      ]
     },
     "execution_count": 179,
     "metadata": {
      "application/vnd.holoviews_exec.v0+json": {
       "id": "1887"
      }
     },
     "output_type": "execute_result"
    }
   ],
   "source": [
    "# Plot the scatter with x=\"TotalCoinsMined\" and y=\"TotalCoinSupply\"\n",
    "clustered_df.hvplot(\n",
    "    kind=\"scatter\",\n",
    "    x= \"TotalCoinsMined\",\n",
    "    y= \"TotalCoinSupply\",\n",
    "    hover_cols=[\"CoinName\"])\n"
   ]
  },
  {
   "cell_type": "code",
   "execution_count": null,
   "metadata": {},
   "outputs": [],
   "source": []
  }
 ],
 "metadata": {
  "file_extension": ".py",
  "kernelspec": {
   "display_name": "Python 3",
   "language": "python",
   "name": "python3"
  },
  "language_info": {
   "codemirror_mode": {
    "name": "ipython",
    "version": 3
   },
   "file_extension": ".py",
   "mimetype": "text/x-python",
   "name": "python",
   "nbconvert_exporter": "python",
   "pygments_lexer": "ipython3",
   "version": "3.7.3"
  },
  "mimetype": "text/x-python",
  "name": "python",
  "npconvert_exporter": "python",
  "pygments_lexer": "ipython3",
  "version": 3
 },
 "nbformat": 4,
 "nbformat_minor": 4
}
